{
 "cells": [
  {
   "cell_type": "markdown",
   "metadata": {},
   "source": [
    "# Processing Big Data - Data profiling\n",
    "\n",
    "© Explore Data Science Academy\n",
    "\n",
    "## Honour Code\n",
    "I {OLUSOJI, ONIGBINDE}, confirm - by submitting this document - that the solutions in this notebook are a result of my own work and that I abide by the [EDSA honour code](https://drive.google.com/file/d/1QDCjGZJ8-FmJE3bZdIQNwnJyQKPhHZBn/view?usp=sharing).\n",
    "    Non-compliance with the honour code constitutes a material breach of contract.\n",
    "\n",
    "## Context\n",
    "\n",
    "Having completed the first step - data ingestion, the data now needs to be thoroughly prepared so that it is readable, reliable and robust. As the Data Engineer in the team, this will be your responsibility. The Data Scientists are looking to you to clean this data so that model development and deployment become seamless when the data is used in a production environment. Having completed your Data Engineering course recently, your manager Gnissecorp Atadgid, asks you to create data summaries and perform checks using the six dimensions of data quality.\n",
    "\n",
    "<div align=\"center\" style=\"width: 600px; font-size: 80%; text-align: center; margin: 0 auto\">\n",
    "<img src=\"https://github.com/Explore-AI/Pictures/raw/master/data_engineering/transform/predict/DataQuality.jpg\"\n",
    "     alt=\"Data Quality\"\n",
    "     style=\"float: center; padding-bottom=0.5em\"\n",
    "     width=100%/>\n",
    "     <p><em>Figure 1. Six dimensions of data quality</em></p>\n",
    "</div>"
   ]
  },
  {
   "cell_type": "markdown",
   "metadata": {},
   "source": [
    "## Import libraries\n",
    "Below we import the libraries required to complete this section of the predict."
   ]
  },
  {
   "cell_type": "code",
   "execution_count": 1,
   "metadata": {},
   "outputs": [],
   "source": [
    "import pandas as pd\n",
    "import numpy as np\n",
    "import matplotlib.pyplot as plt\n",
    "\n",
    "from pyspark import SparkContext\n",
    "from pyspark.sql import SparkSession\n",
    "from pyspark.sql import functions as F\n",
    "from pyspark.sql.types import *"
   ]
  },
  {
   "cell_type": "markdown",
   "metadata": {},
   "source": [
    "Remember that we need a `SparkContext` and `SparkSession` to interface with Spark.\n",
    "We will mostly be using the `SparkContext` to interact with RDDs \n",
    "and the `SparkSession` to interface with Python objects.\n",
    "\n",
    "> ℹ️ **Instructions** ℹ️\n",
    ">\n",
    ">Initialise a new **Spark Context** and **Session** that you will use to interface with Spark."
   ]
  },
  {
   "cell_type": "code",
   "execution_count": 2,
   "metadata": {},
   "outputs": [],
   "source": [
    "#TODO: Write your code here.\n",
    "sc = SparkContext()\n",
    "spark = SparkSession(sc)"
   ]
  },
  {
   "cell_type": "markdown",
   "metadata": {},
   "source": [
    "## Parquet files\n",
    "In the previous section of the predict, you generated parquet files to your local directory. You will be making use of these files to continue with this section of the predict. Please make sure that your parquet files are specifically for the year **1962**. Any other year used outside of **1962** will produce incorrect answers and have a negative impact on your overall predict mark.\n",
    "\n",
    "> ℹ️ **Instructions** ℹ️\n",
    ">\n",
    "> Read the parquet files stored in your directory for the year **1962** into a Spark DataFrame."
   ]
  },
  {
   "cell_type": "code",
   "execution_count": 3,
   "metadata": {},
   "outputs": [],
   "source": [
    "#TODO: Write your code here\n",
    "year_1962_df = spark.read.parquet('transformed_data/')"
   ]
  },
  {
   "cell_type": "code",
   "execution_count": 4,
   "metadata": {},
   "outputs": [
    {
     "name": "stdout",
     "output_type": "stream",
     "text": [
      "+-------------------+--------+--------+--------+--------+---------+-------+-----+\n",
      "|               date|    open|    high|     low|   close|adj_close| Volume|stock|\n",
      "+-------------------+--------+--------+--------+--------+---------+-------+-----+\n",
      "|1962-02-09 00:00:00| 5.86332|5.923395| 5.82327| 5.82327|1.3768599|33900.0|   AA|\n",
      "|1962-09-07 00:00:00|5.955435|6.107625|5.907375|5.939415|1.4188904|42500.0|   AA|\n",
      "|1962-02-19 00:00:00| 5.83929|5.907375| 5.83929| 5.86332|1.3863293|29900.0|   AA|\n",
      "|1962-02-14 00:00:00| 5.83929| 5.83929|5.747175| 5.80725|1.3730713|56500.0|   AA|\n",
      "|1962-02-26 00:00:00| 6.05556|6.107625|5.955435|6.107625|1.4440926|82500.0|   AA|\n",
      "|1962-02-02 00:00:00|5.931405|5.955435|5.907375|5.915385|1.3915651|30500.0|   AA|\n",
      "|1962-02-16 00:00:00|5.739165| 5.83128|5.739165| 5.83128|1.3787535|55900.0|   AA|\n",
      "|1962-02-27 00:00:00|6.107625|6.123645|6.107625|6.107625|1.4440926|27900.0|   AA|\n",
      "|1962-02-12 00:00:00| 5.82327| 5.83128| 5.81526| 5.81526|1.3749654|16600.0|   AA|\n",
      "|1962-02-20 00:00:00| 5.86332|5.963445|  5.8473|5.963445|1.4100027|40500.0|   AA|\n",
      "|1962-02-13 00:00:00| 5.85531|5.915385| 5.85531| 5.86332|1.3863293|62500.0|   AA|\n",
      "|1962-02-06 00:00:00|5.915385|5.915385| 5.82327| 5.85531|1.3844348|40500.0|   AA|\n",
      "|1962-02-28 00:00:00|6.107625| 6.22377| 6.03954| 6.03954|1.4279944|47900.0|   AA|\n",
      "|1962-02-05 00:00:00|5.939415|5.963445|5.939415|5.939415| 1.397218|72500.0|   AA|\n",
      "|1962-02-08 00:00:00|5.915385|5.931405| 5.83929| 5.86332|1.3863293|51900.0|   AA|\n",
      "|1962-02-01 00:00:00|5.947425|5.947425| 5.85531|5.931405|1.3953344|67900.0|   AA|\n",
      "|1962-02-15 00:00:00| 5.80725|5.907375|5.739165|5.739165| 1.356974|62500.0|   AA|\n",
      "|1962-02-07 00:00:00| 5.86332|5.939415| 5.86332|5.915385|1.3986399|45900.0|   AA|\n",
      "|1962-02-23 00:00:00| 6.03153| 6.06357| 6.02352| 6.05556|1.4317824|72500.0|   AA|\n",
      "|1962-02-21 00:00:00|  6.0075|6.131655|  6.0075| 6.03153|1.4261007|56500.0|   AA|\n",
      "+-------------------+--------+--------+--------+--------+---------+-------+-----+\n",
      "only showing top 20 rows\n",
      "\n"
     ]
    },
    {
     "data": {
      "text/plain": [
       "DataFrame[date: timestamp, open: float, high: float, low: float, close: float, adj_close: float, Volume: float, stock: string]"
      ]
     },
     "execution_count": 4,
     "metadata": {},
     "output_type": "execute_result"
    }
   ],
   "source": [
    "#INSERTED (Inspect the dataframe alphabetically and cache it)\n",
    "year_1962_df.orderBy('stock').show()\n",
    "year_1962_df.cache()"
   ]
  },
  {
   "cell_type": "code",
   "execution_count": 5,
   "metadata": {},
   "outputs": [
    {
     "name": "stdout",
     "output_type": "stream",
     "text": [
      "+-------------------+----------+-----------+----------+----------+-----------+--------+-----+\n",
      "|               date|      open|       high|       low|     close|  adj_close|  Volume|stock|\n",
      "+-------------------+----------+-----------+----------+----------+-----------+--------+-----+\n",
      "|1962-01-02 00:00:00|  6.532155|   6.556185|  6.532155|  6.532155|  1.5366576| 55900.0|   AA|\n",
      "|1962-01-02 00:00:00|0.09290839|0.096026115|0.09290839|0.09290839|0.035517246|817400.0|  DIS|\n",
      "|1962-01-02 00:00:00| 6.1258435|   6.160982| 6.1258435| 6.1258435|  1.4146507| 59700.0| ARNC|\n",
      "|1962-01-02 00:00:00|0.83744854| 0.83744854|0.82304525|0.82304525|  0.1457476|352200.0|   BA|\n",
      "|1962-01-02 00:00:00| 1.6041666|  1.6197916| 1.5885416| 1.6041666| 0.13695742|163200.0|  CAT|\n",
      "+-------------------+----------+-----------+----------+----------+-----------+--------+-----+\n",
      "only showing top 5 rows\n",
      "\n"
     ]
    }
   ],
   "source": [
    "#INSERTED (To get start of dataframe. Take note of the date)\n",
    "from pyspark.sql.functions import col\n",
    "year_1962_df.sort(col('date').asc()).show(5)"
   ]
  },
  {
   "cell_type": "code",
   "execution_count": 6,
   "metadata": {},
   "outputs": [
    {
     "name": "stdout",
     "output_type": "stream",
     "text": [
      "+-------------------+----------+----------+----------+----------+------------+---------+-----+\n",
      "|               date|      open|      high|       low|     close|   adj_close|   Volume|stock|\n",
      "+-------------------+----------+----------+----------+----------+------------+---------+-----+\n",
      "|1962-12-31 00:00:00|       0.0| 1.8632812| 1.8515625|  1.859375|  0.01717616|1059200.0|  XOM|\n",
      "|1962-12-31 00:00:00|       0.0| 1.1132812| 1.1035156| 1.1132812| 0.010735849| 256000.0|   PG|\n",
      "|1962-12-31 00:00:00|0.08559335|0.08603684|0.08559335|0.08559335| 0.004747302|1127400.0|  HPQ|\n",
      "|1962-12-31 00:00:00|       0.0|      8.25|   8.15625|   8.15625|   1.4585857|  30400.0|   GT|\n",
      "|1962-12-31 00:00:00|       0.0|  0.171875|0.16956018|0.16956018| 4.827062E-7| 216000.0|  JNJ|\n",
      "|1962-12-31 00:00:00|       0.0|   250.625|      null|    248.75|   116.69414|    600.0|  NAV|\n",
      "|1962-12-31 00:00:00|       0.0|    31.625|    31.375|      31.5|   0.5463368|   1200.0|  DTE|\n",
      "|1962-12-31 00:00:00| 0.0745013| 0.0745013|0.07129004|0.07225342| 0.027980544|1245600.0|  DIS|\n",
      "|1962-12-31 00:00:00|       0.0| 5.3333335|      5.25| 5.2916665|   0.7082945|  57600.0|   FL|\n",
      "|1962-12-31 00:00:00|       0.0|    3.9375| 3.8984375|    3.9375|  0.06431865| 105600.0|  CVX|\n",
      "|1962-12-31 00:00:00|  5.233333| 5.2633333|  5.193333|       5.2|   0.4217636|1048000.0|  IBM|\n",
      "|1962-12-31 00:00:00|       0.0|  6.625986| 6.5027122|  6.625986|  0.60121965|  52700.0|   IP|\n",
      "|1962-12-31 00:00:00| 0.2220052|0.22233073|0.22135417| 0.2220052|0.0036789007| 614400.0|   KO|\n",
      "|1962-12-31 00:00:00|       0.0|0.12847222| 0.1267361|0.12738715|1.6345338E-4|1440000.0|   MO|\n",
      "|1962-12-31 00:00:00| 5.1302476| 5.1302476|  5.071683| 5.1185346|   1.2070543|  58200.0| ARNC|\n",
      "|1962-12-31 00:00:00| 0.6069959| 0.6111111| 0.6069959| 0.6111111|  0.11326626|1123400.0|   BA|\n",
      "|1962-12-31 00:00:00| 1.5416666|    1.5625| 1.5260416| 1.5572916|  0.13672175|  98400.0|  CAT|\n",
      "|1962-12-31 00:00:00|   5.45481|   5.45481|   5.41476|    5.4468|   1.3085586|  54500.0|   AA|\n",
      "|1962-12-31 00:00:00|       0.0| 10.484375| 10.421875|  10.46875|  0.24465273|  24800.0|   ED|\n",
      "|1962-12-31 00:00:00|  0.769982|  0.769982|  0.767478|   0.76873|0.0018812603| 828600.0|   GE|\n",
      "+-------------------+----------+----------+----------+----------+------------+---------+-----+\n",
      "only showing top 20 rows\n",
      "\n"
     ]
    }
   ],
   "source": [
    "#INSERTED (To get end of dataframe. Take note of the date)\n",
    "from pyspark.sql.functions import col\n",
    "year_1962_df.sort(col('date').desc()).show()"
   ]
  },
  {
   "cell_type": "markdown",
   "metadata": {},
   "source": [
    "## Metadata \n",
    "\n",
    "Metadata is data containing additional information about the data itself. In the cloud storage, there is a metadata file called [`symbols_valid_meta.csv`](https://processing-big-data-predict-stocks-data.s3.eu-west-1.amazonaws.com/symbols_valid_meta.csv) that is collocated with the stock market data. You will need to download this to use when performing your data quality checks.\n",
    "\n",
    "> ℹ️ **Instructions** ℹ️\n",
    ">\n",
    "> Download the metadata from the S3 bucket and read it into a Spark DataFrame."
   ]
  },
  {
   "cell_type": "code",
   "execution_count": 7,
   "metadata": {},
   "outputs": [
    {
     "name": "stdout",
     "output_type": "stream",
     "text": [
      "+-------------+------+--------------------+----------------+---------------+---+--------------+----------+----------------+----------+-------------+----------+\n",
      "|Nasdaq Traded|Symbol|       Security Name|Listing Exchange|Market Category|ETF|Round Lot Size|Test Issue|Financial Status|CQS Symbol|NASDAQ Symbol|NextShares|\n",
      "+-------------+------+--------------------+----------------+---------------+---+--------------+----------+----------------+----------+-------------+----------+\n",
      "|            Y|     A|Agilent Technolog...|               N|               |  N|         100.0|         N|            null|         A|            A|         N|\n",
      "|            Y|    AA|Alcoa Corporation...|               N|               |  N|         100.0|         N|            null|        AA|           AA|         N|\n",
      "|            Y|  AAAU|Perth Mint Physic...|               P|               |  Y|         100.0|         N|            null|      AAAU|         AAAU|         N|\n",
      "|            Y|  AACG|ATA Creativity Gl...|               Q|              G|  N|         100.0|         N|               N|      null|         AACG|         N|\n",
      "|            Y|  AADR|AdvisorShares Dor...|               P|               |  Y|         100.0|         N|            null|      AADR|         AADR|         N|\n",
      "|            Y|   AAL|American Airlines...|               Q|              Q|  N|         100.0|         N|               N|      null|          AAL|         N|\n",
      "|            Y|  AAMC|Altisource Asset ...|               A|               |  N|         100.0|         N|            null|      AAMC|         AAMC|         N|\n",
      "|            Y|  AAME|Atlantic American...|               Q|              G|  N|         100.0|         N|               N|      null|         AAME|         N|\n",
      "|            Y|   AAN|Aaron's, Inc. Com...|               N|               |  N|         100.0|         N|            null|       AAN|          AAN|         N|\n",
      "|            Y|  AAOI|Applied Optoelect...|               Q|              G|  N|         100.0|         N|               N|      null|         AAOI|         N|\n",
      "|            Y|  AAON|AAON, Inc. - Comm...|               Q|              Q|  N|         100.0|         N|               N|      null|         AAON|         N|\n",
      "|            Y|   AAP|Advance Auto Part...|               N|               |  N|         100.0|         N|            null|       AAP|          AAP|         N|\n",
      "|            Y|  AAPL|Apple Inc. - Comm...|               Q|              Q|  N|         100.0|         N|               N|      null|         AAPL|         N|\n",
      "|            Y|   AAT|American Assets T...|               N|               |  N|         100.0|         N|            null|       AAT|          AAT|         N|\n",
      "|            Y|   AAU|Almaden Minerals,...|               A|               |  N|         100.0|         N|            null|       AAU|          AAU|         N|\n",
      "|            Y|  AAWW|Atlas Air Worldwi...|               Q|              Q|  N|         100.0|         N|               N|      null|         AAWW|         N|\n",
      "|            Y|  AAXJ|iShares MSCI All ...|               Q|              G|  Y|         100.0|         N|               N|      null|         AAXJ|         N|\n",
      "|            Y|  AAXN|Axon Enterprise, ...|               Q|              Q|  N|         100.0|         N|               N|      null|         AAXN|         N|\n",
      "|            Y|    AB|AllianceBernstein...|               N|               |  N|         100.0|         N|            null|        AB|           AB|         N|\n",
      "|            Y|   ABB|ABB Ltd Common Stock|               N|               |  N|         100.0|         N|            null|       ABB|          ABB|         N|\n",
      "+-------------+------+--------------------+----------------+---------------+---+--------------+----------+----------------+----------+-------------+----------+\n",
      "only showing top 20 rows\n",
      "\n"
     ]
    }
   ],
   "source": [
    "#TODO: Write your code here\n",
    "meta_df = spark.read.csv('symbols_valid_meta.csv', header=True)\n",
    "meta_df.show()"
   ]
  },
  {
   "cell_type": "markdown",
   "metadata": {},
   "source": [
    "## Data Accuracy\n",
    "Data accuracy is the degree to which data correctly describes a \"real world\" object or event.\n",
    "\n",
    "It is important to do checks to determine the basic integrity of the dataset; do the values fall within expected ranges?\n",
    "\n",
    "Most of the possible errors relating to data accuracy can occur at collection time. In our case, it is not possible to test the collection time accuracy, so we have to infer from ranges and summary statistics. Here you need to look closely at each field to see if its values make sense, with no strange surprises.\n",
    "\n",
    "In assessing accuracy, it is important to look into precision as well. Do you need seven decimals, or will one or two suffice?\n",
    "\n",
    "- **Measured by**: The degree to which the data mirrors the characteristics of the real-world object or objects it represents;\n",
    "- **Units**: The percentage of data entries that pass the data accuracy rules;\n",
    "- **Related to**: Validity, Uniqueness, Consistency."
   ]
  },
  {
   "cell_type": "markdown",
   "metadata": {},
   "source": [
    "> ℹ️ **Instructions** ℹ️\n",
    ">\n",
    "> Generate summary statistics to explore your data. Make sure you understand the ranges, means, extremums, and deviations found in the data set."
   ]
  },
  {
   "cell_type": "code",
   "execution_count": 8,
   "metadata": {},
   "outputs": [
    {
     "name": "stdout",
     "output_type": "stream",
     "text": [
      "+-------+------------------+------------------+------------------+-----------------+-----------------+-----------------+-----+\n",
      "|summary|              open|              high|               low|            close|        adj_close|           Volume|stock|\n",
      "+-------+------------------+------------------+------------------+-----------------+-----------------+-----------------+-----+\n",
      "|  count|              5106|              5106|              5064|             5106|             5085|             5085| 5106|\n",
      "|   mean|1.0904873526012002|16.757624946793637|15.728619917198033|16.64199179044607|5.986642513535306|540930.2458210423| null|\n",
      "| stddev|  2.36445352530491| 53.91407348193546| 51.32292289814399|53.54677139900802|24.64637054715319|864596.2440525505| null|\n",
      "|    min|               0.0|               0.0|       0.052377883|      0.053624976|     4.0381454E-7|              0.0|   AA|\n",
      "|    25%|               0.0|         0.2454427|        0.24348958|       0.24739583|      0.006592116|          38400.0| null|\n",
      "|    50%|               0.0|         1.8046875|         1.7851562|        1.8007812|       0.12449309|         177600.0| null|\n",
      "|    75%|        0.69547325|          6.903353|         6.7916665|        6.8333335|        0.7141595|         734400.0| null|\n",
      "|    max|              20.0|             287.5|             282.5|            285.0|        127.45936|        1.95456E7|  XOM|\n",
      "+-------+------------------+------------------+------------------+-----------------+-----------------+-----------------+-----+\n",
      "\n"
     ]
    }
   ],
   "source": [
    "#TODO: Write your code high\n",
    "year_1962_df.summary().show()"
   ]
  },
  {
   "cell_type": "markdown",
   "metadata": {},
   "source": [
    "> ℹ️ **Instructions** ℹ️\n",
    ">\n",
    "> Generate histograms for the six numerical attributes found in the data to understand the distribution of values.\n",
    ">\n",
    ">*You may use as many coding cells as necessary.*"
   ]
  },
  {
   "cell_type": "code",
   "execution_count": 9,
   "metadata": {},
   "outputs": [
    {
     "data": {
      "text/html": [
       "<div>\n",
       "<style scoped>\n",
       "    .dataframe tbody tr th:only-of-type {\n",
       "        vertical-align: middle;\n",
       "    }\n",
       "\n",
       "    .dataframe tbody tr th {\n",
       "        vertical-align: top;\n",
       "    }\n",
       "\n",
       "    .dataframe thead th {\n",
       "        text-align: right;\n",
       "    }\n",
       "</style>\n",
       "<table border=\"1\" class=\"dataframe\">\n",
       "  <thead>\n",
       "    <tr style=\"text-align: right;\">\n",
       "      <th></th>\n",
       "      <th>open</th>\n",
       "      <th>high</th>\n",
       "      <th>low</th>\n",
       "      <th>close</th>\n",
       "      <th>adj_close</th>\n",
       "      <th>volume</th>\n",
       "    </tr>\n",
       "  </thead>\n",
       "  <tbody>\n",
       "    <tr>\n",
       "      <th>0</th>\n",
       "      <td>5.839290</td>\n",
       "      <td>5.907375</td>\n",
       "      <td>5.839290</td>\n",
       "      <td>5.863320</td>\n",
       "      <td>1.386329</td>\n",
       "      <td>29900.0</td>\n",
       "    </tr>\n",
       "    <tr>\n",
       "      <th>1</th>\n",
       "      <td>5.481634</td>\n",
       "      <td>5.528486</td>\n",
       "      <td>5.481634</td>\n",
       "      <td>5.516773</td>\n",
       "      <td>1.280453</td>\n",
       "      <td>32000.0</td>\n",
       "    </tr>\n",
       "    <tr>\n",
       "      <th>2</th>\n",
       "      <td>0.907407</td>\n",
       "      <td>0.915638</td>\n",
       "      <td>0.899177</td>\n",
       "      <td>0.903292</td>\n",
       "      <td>0.161415</td>\n",
       "      <td>619400.0</td>\n",
       "    </tr>\n",
       "    <tr>\n",
       "      <th>3</th>\n",
       "      <td>1.677083</td>\n",
       "      <td>1.692708</td>\n",
       "      <td>1.661458</td>\n",
       "      <td>1.677083</td>\n",
       "      <td>0.144059</td>\n",
       "      <td>170400.0</td>\n",
       "    </tr>\n",
       "    <tr>\n",
       "      <th>4</th>\n",
       "      <td>0.000000</td>\n",
       "      <td>3.578869</td>\n",
       "      <td>20.000000</td>\n",
       "      <td>3.549107</td>\n",
       "      <td>0.056501</td>\n",
       "      <td>273600.0</td>\n",
       "    </tr>\n",
       "  </tbody>\n",
       "</table>\n",
       "</div>"
      ],
      "text/plain": [
       "       open      high        low     close  adj_close    volume\n",
       "0  5.839290  5.907375   5.839290  5.863320   1.386329   29900.0\n",
       "1  5.481634  5.528486   5.481634  5.516773   1.280453   32000.0\n",
       "2  0.907407  0.915638   0.899177  0.903292   0.161415  619400.0\n",
       "3  1.677083  1.692708   1.661458  1.677083   0.144059  170400.0\n",
       "4  0.000000  3.578869  20.000000  3.549107   0.056501  273600.0"
      ]
     },
     "execution_count": 9,
     "metadata": {},
     "output_type": "execute_result"
    }
   ],
   "source": [
    "#INSERTED (Select the numerical columns within our datafrme for our Histogram)\n",
    "year_1962_df_stat = year_1962_df.select('open', 'high', 'low', 'close', 'adj_close', 'volume')\n",
    "year_1962_df_stat.toPandas().head()"
   ]
  },
  {
   "cell_type": "code",
   "execution_count": 10,
   "metadata": {},
   "outputs": [
    {
     "data": {
      "text/plain": [
       "array([[<AxesSubplot:title={'center':'open'}>,\n",
       "        <AxesSubplot:title={'center':'high'}>],\n",
       "       [<AxesSubplot:title={'center':'low'}>,\n",
       "        <AxesSubplot:title={'center':'close'}>],\n",
       "       [<AxesSubplot:title={'center':'adj_close'}>,\n",
       "        <AxesSubplot:title={'center':'volume'}>]], dtype=object)"
      ]
     },
     "execution_count": 10,
     "metadata": {},
     "output_type": "execute_result"
    },
    {
     "data": {
      "image/png": "[encoded data removed]",
      "text/plain": [
       "<Figure size 2160x3600 with 6 Axes>"
      ]
     },
     "metadata": {
      "needs_background": "light"
     },
     "output_type": "display_data"
    }
   ],
   "source": [
    "#TODO: Write your code here (Bigger view of Histogram)\n",
    "year_1962_df_hist = year_1962_df_stat.toPandas()\n",
    "year_1962_df_hist.hist(bins=10, xlabelsize=(20), ylabelsize=(20), figsize=(30, 50), grid=(True))"
   ]
  },
  {
   "cell_type": "code",
   "execution_count": 11,
   "metadata": {},
   "outputs": [
    {
     "data": {
      "text/plain": [
       "<Figure size 720x576 with 0 Axes>"
      ]
     },
     "metadata": {},
     "output_type": "display_data"
    },
    {
     "data": {
      "image/png": "[encoded data removed]",
      "text/plain": [
       "<Figure size 432x288 with 1 Axes>"
      ]
     },
     "metadata": {
      "needs_background": "light"
     },
     "output_type": "display_data"
    },
    {
     "data": {
      "image/png": "[encoded data removed]",
      "text/plain": [
       "<Figure size 432x288 with 1 Axes>"
      ]
     },
     "metadata": {
      "needs_background": "light"
     },
     "output_type": "display_data"
    },
    {
     "data": {
      "image/png": "[encoded data removed]",
      "text/plain": [
       "<Figure size 432x288 with 1 Axes>"
      ]
     },
     "metadata": {
      "needs_background": "light"
     },
     "output_type": "display_data"
    },
    {
     "data": {
      "image/png": "[encoded data removed]",
      "text/plain": [
       "<Figure size 432x288 with 1 Axes>"
      ]
     },
     "metadata": {
      "needs_background": "light"
     },
     "output_type": "display_data"
    },
    {
     "data": {
      "image/png": "[encoded data removed]",
      "text/plain": [
       "<Figure size 432x288 with 1 Axes>"
      ]
     },
     "metadata": {
      "needs_background": "light"
     },
     "output_type": "display_data"
    },
    {
     "data": {
      "image/png": "[encoded data removed]",
      "text/plain": [
       "<Figure size 432x288 with 1 Axes>"
      ]
     },
     "metadata": {
      "needs_background": "light"
     },
     "output_type": "display_data"
    }
   ],
   "source": [
    "#INSERTED (Smaller view but bigger labels)\n",
    "year_1962_df_hist = year_1962_df_stat.toPandas()\n",
    "\n",
    "num_cols=['open', 'high', 'low', 'close','adj_close', 'volume']\n",
    "fig = plt.figure(figsize=(10, 8))\n",
    "for col in num_cols:\n",
    "    x=year_1962_df_hist\n",
    "    x.plot(kind='hist')\n",
    "    plt.xlabel(col)\n",
    "    plt.ylabel('Frequency')\n",
    "    plt.title(col)\n",
    "    plt.show()"
   ]
  },
  {
   "cell_type": "markdown",
   "metadata": {},
   "source": [
    "> ℹ️ **Instructions** ℹ️\n",
    ">\n",
    "> Investigate the **open** column to identify stocks that have open values greater than 2, and note any anomalies that you find in the data.\n",
    ">\n",
    ">*You may use as many coding cells as necessary.*"
   ]
  },
  {
   "cell_type": "code",
   "execution_count": 12,
   "metadata": {},
   "outputs": [],
   "source": [
    "#INSERTED (Creating temporary view)\n",
    "year_1962_df.createOrReplaceTempView('year_1962_df_tbl')"
   ]
  },
  {
   "cell_type": "code",
   "execution_count": 13,
   "metadata": {},
   "outputs": [
    {
     "name": "stdout",
     "output_type": "stream",
     "text": [
      "+-----+-------+\n",
      "|stock|Overall|\n",
      "+-----+-------+\n",
      "|  HPQ|    309|\n",
      "|   ED|    271|\n",
      "|   PG|    252|\n",
      "|  XOM|    252|\n",
      "|  DTE|    252|\n",
      "|   GT|    252|\n",
      "|   FL|    252|\n",
      "|   MO|    252|\n",
      "|   AA|    252|\n",
      "|  CVX|    252|\n",
      "|   GE|    252|\n",
      "|  CAT|    252|\n",
      "|   IP|    252|\n",
      "|  NAV|    252|\n",
      "|   KO|    252|\n",
      "|  IBM|    252|\n",
      "|  JNJ|    252|\n",
      "|  DIS|    252|\n",
      "|   BA|    242|\n",
      "| ARNC|    231|\n",
      "+-----+-------+\n",
      "only showing top 20 rows\n",
      "\n"
     ]
    }
   ],
   "source": [
    "#INSERTED (Counting 'open' column values)\n",
    "spark.sql(\"\"\"SELECT stock, COUNT(open) as Overall\n",
    "          FROM year_1962_df_tbl \n",
    "          GROUP BY stock\n",
    "          ORDER BY Overall desc\"\"\").show()"
   ]
  },
  {
   "cell_type": "code",
   "execution_count": 14,
   "metadata": {},
   "outputs": [
    {
     "name": "stdout",
     "output_type": "stream",
     "text": [
      "+-----+--------+\n",
      "|stock|    open|\n",
      "+-----+--------+\n",
      "|   AA|5.939415|\n",
      "|   AA|6.155685|\n",
      "|   AA|5.138415|\n",
      "|   AA|6.339915|\n",
      "|   AA|5.322645|\n",
      "|   AA| 5.42277|\n",
      "|   AA|  6.0075|\n",
      "|   AA|5.346675|\n",
      "|   AA|5.330655|\n",
      "|   AA|4.906125|\n",
      "|   AA| 5.24655|\n",
      "|   AA| 6.23979|\n",
      "|   AA| 5.03829|\n",
      "|   AA| 5.64705|\n",
      "|   AA| 6.63228|\n",
      "|   AA|6.331905|\n",
      "|   AA|6.347925|\n",
      "|   AA|  5.2065|\n",
      "|   AA| 6.04755|\n",
      "|   AA| 5.43078|\n",
      "+-----+--------+\n",
      "only showing top 20 rows\n",
      "\n"
     ]
    }
   ],
   "source": [
    "#TODO: Write your code here (show open column values greater than 2 ordered by stock)\n",
    "spark.sql(\"\"\"SELECT stock, open\n",
    "          FROM year_1962_df_tbl \n",
    "          WHERE open > 2\n",
    "          ORDER BY stock \n",
    "          \"\"\").show()"
   ]
  },
  {
   "cell_type": "code",
   "execution_count": 15,
   "metadata": {},
   "outputs": [
    {
     "name": "stdout",
     "output_type": "stream",
     "text": [
      "+-----+-----------+\n",
      "|stock|  max(open)|\n",
      "+-----+-----------+\n",
      "|  XOM|        0.0|\n",
      "|  CVX|        0.0|\n",
      "|  DTE|        0.0|\n",
      "|   MO|        0.0|\n",
      "|   IP|        0.0|\n",
      "|   FL|        0.0|\n",
      "|  JNJ|        0.0|\n",
      "|   ED|        0.0|\n",
      "|  NAV|        0.0|\n",
      "|   GT|        0.0|\n",
      "|  DIS|0.099767394|\n",
      "|  HPQ|  0.1312727|\n",
      "|   KO| 0.26302084|\n",
      "|   GE|   0.785006|\n",
      "|   BA|  0.9238683|\n",
      "|  CAT|       1.75|\n",
      "|ARNCA|   5.387931|\n",
      "| ARNC|   6.360101|\n",
      "|   AA|   6.764445|\n",
      "|  IBM|   7.713333|\n",
      "+-----+-----------+\n",
      "only showing top 20 rows\n",
      "\n"
     ]
    }
   ],
   "source": [
    "#INSERTED (Show the largest open value per stock in the dataframe)\n",
    "year_1962_df.groupBy('stock').agg(F.max('open')).orderBy('max(open)').show()\n"
   ]
  },
  {
   "cell_type": "markdown",
   "metadata": {},
   "source": [
    " ## 📔️**Notes** 📔️\n",
    "\n",
    " *Use this cell to note down any potential findings.*\n",
    "\n",
    " 1. In the open column, the data contains outliers.\n",
    "\n",
    " 2. The normal range of the data in the open column is between 0.0 - 2.0\n",
    "   \n",
    " 3. IBM. AA, ARNC and ARNCA have the most number of extreme values.\n",
    " "
   ]
  },
  {
   "cell_type": "markdown",
   "metadata": {},
   "source": [
    "> ℹ️ **Instructions** ℹ️\n",
    ">\n",
    "> Investigate **high**, **low**, **close**, and **adj_close** to determine if any stocks may be deviating from the normal ranges of the data set. Note down the stock(s) that you come across.\n",
    ">\n",
    ">*You may use as many coding cells as necessary.*"
   ]
  },
  {
   "cell_type": "code",
   "execution_count": 16,
   "metadata": {},
   "outputs": [
    {
     "name": "stdout",
     "output_type": "stream",
     "text": [
      "+-----+----------+----------+---------+-----------+\n",
      "|stock|      high|       low|    close|  adj_close|\n",
      "+-----+----------+----------+---------+-----------+\n",
      "|   AA|  5.907375|   5.83929|  5.86332|  1.3863293|\n",
      "| ARNC|  5.528486|  5.481634|5.5167727|  1.2804527|\n",
      "|   BA|0.91563785|0.89917696|0.9032922| 0.16141544|\n",
      "|  CAT| 1.6927084| 1.6614584|1.6770834|  0.1440587|\n",
      "|  CVX|  3.578869|      20.0| 3.549107|0.056501225|\n",
      "+-----+----------+----------+---------+-----------+\n",
      "only showing top 5 rows\n",
      "\n"
     ]
    }
   ],
   "source": [
    "#INSERTED (showing all stocks and their high, low, close and adj_close numerical columns)\n",
    "spark.sql(\"\"\"SELECT stock, high, low, close, adj_close\n",
    "            FROM year_1962_df_tbl\"\"\").show(5)"
   ]
  },
  {
   "cell_type": "code",
   "execution_count": 17,
   "metadata": {},
   "outputs": [
    {
     "name": "stdout",
     "output_type": "stream",
     "text": [
      "+-------+-----+\n",
      "|   high|stock|\n",
      "+-------+-----+\n",
      "|   24.5|  DTE|\n",
      "|24.8125|  DTE|\n",
      "+-------+-----+\n",
      "only showing top 2 rows\n",
      "\n",
      "+----+-----+\n",
      "| low|stock|\n",
      "+----+-----+\n",
      "|20.0|  CVX|\n",
      "|20.0|  CVX|\n",
      "+----+-----+\n",
      "only showing top 2 rows\n",
      "\n",
      "+------+-----+\n",
      "| close|stock|\n",
      "+------+-----+\n",
      "|24.375|  DTE|\n",
      "|24.375|  DTE|\n",
      "+------+-----+\n",
      "only showing top 2 rows\n",
      "\n",
      "+---------+-----+\n",
      "|adj_close|stock|\n",
      "+---------+-----+\n",
      "|101.66623|  NAV|\n",
      "|102.06989|  NAV|\n",
      "+---------+-----+\n",
      "only showing top 2 rows\n",
      "\n"
     ]
    }
   ],
   "source": [
    "#INSERTED (list all values that are above average for high, low, close and adj_close columns)\n",
    "mean_high = 16.757624946793637\n",
    "high_vals =year_1962_df.filter(year_1962_df.high>mean_high).select('high','stock').orderBy('high').show(2)\n",
    "\n",
    "mean_low = 15.728619917198033\n",
    "low_vals =year_1962_df.filter(year_1962_df.low>mean_low).select('low','stock').orderBy('low').show(2)\n",
    "\n",
    "mean_close = 16.64199179044607\n",
    "close_vals =year_1962_df.filter(year_1962_df.close>mean_close).select('close','stock').orderBy('close').show(2)\n",
    "\n",
    "mean_adj_close = 5.986642513535306\n",
    "low_vals =year_1962_df.filter(year_1962_df.adj_close>mean_adj_close).select('adj_close','stock').orderBy('adj_close').show(2)"
   ]
  },
  {
   "cell_type": "code",
   "execution_count": 18,
   "metadata": {},
   "outputs": [
    {
     "name": "stdout",
     "output_type": "stream",
     "text": [
      "values in high higher than mean high value per stock\n",
      "+-----+-----+\n",
      "|stock|count|\n",
      "+-----+-----+\n",
      "|  DTE|  252|\n",
      "|  NAV|  252|\n",
      "+-----+-----+\n",
      "\n",
      "values in low higher than mean low value per stock\n",
      "+-----+-----+\n",
      "|stock|count|\n",
      "+-----+-----+\n",
      "|  CVX|   19|\n",
      "|  DTE|  252|\n",
      "|  NAV|  232|\n",
      "+-----+-----+\n",
      "\n",
      "values in close higher than mean close value per stock\n",
      "+-----+-----+\n",
      "|stock|count|\n",
      "+-----+-----+\n",
      "|  DTE|  252|\n",
      "|  NAV|  252|\n",
      "+-----+-----+\n",
      "\n",
      "values in adj_close higher than mean adj_close value per stock\n",
      "+-----+-----+\n",
      "|stock|count|\n",
      "+-----+-----+\n",
      "|  NAV|  252|\n",
      "+-----+-----+\n",
      "\n"
     ]
    }
   ],
   "source": [
    "#INSERTED (count values per stock that are above average for high, low, close and adj_close columns)\n",
    "\n",
    "for column in ['high']:\n",
    "    print(f'values in {column} higher than mean high value per stock')\n",
    "    year_1962_df.select('stock', column).filter(year_1962_df[column] > mean_high).groupBy('stock').count().show() \n",
    "    \n",
    "    \n",
    "for column in ['low']:\n",
    "    print(f'values in {column} higher than mean low value per stock')\n",
    "    year_1962_df.select('stock', column).filter(year_1962_df[column] > mean_low).groupBy('stock').count().show() \n",
    "    \n",
    "for column in ['close']:\n",
    "    print(f'values in {column} higher than mean close value per stock')\n",
    "    year_1962_df.select('stock', column).filter(year_1962_df[column] > mean_close).groupBy('stock').count().show() \n",
    "    \n",
    "    \n",
    "for column in ['adj_close']:\n",
    "    print(f'values in {column} higher than mean adj_close value per stock')\n",
    "    year_1962_df.select('stock', column).filter(year_1962_df[column] > mean_adj_close).groupBy('stock').count().show() "
   ]
  },
  {
   "cell_type": "code",
   "execution_count": 19,
   "metadata": {},
   "outputs": [
    {
     "name": "stdout",
     "output_type": "stream",
     "text": [
      "+-----+---------+\n",
      "|stock|max(high)|\n",
      "+-----+---------+\n",
      "|  NAV|    287.5|\n",
      "|  DTE|   31.875|\n",
      "+-----+---------+\n",
      "\n",
      "+-----+--------+\n",
      "|stock|max(low)|\n",
      "+-----+--------+\n",
      "|  NAV|   282.5|\n",
      "|  DTE|    31.5|\n",
      "|  CVX|    20.0|\n",
      "+-----+--------+\n",
      "\n",
      "+-----+----------+\n",
      "|stock|max(close)|\n",
      "+-----+----------+\n",
      "|  NAV|     285.0|\n",
      "|  DTE|   31.8125|\n",
      "+-----+----------+\n",
      "\n",
      "+-----+--------------+\n",
      "|stock|max(adj_close)|\n",
      "+-----+--------------+\n",
      "|  NAV|     127.45936|\n",
      "+-----+--------------+\n",
      "\n"
     ]
    }
   ],
   "source": [
    "#TODO: Write your code here (get the extremely high values for high, low, close and adj_close columns )\n",
    "\n",
    "spark.sql(\"\"\"SELECT stock, MAX(high)\n",
    "          FROM year_1962_df_tbl \n",
    "          WHERE high > 16.757624946793637\n",
    "          GROUP BY stock \n",
    "          ORDER BY MAX(high) DESC\"\"\").show()\n",
    "\n",
    "\n",
    "spark.sql(\"\"\"SELECT stock, MAX(low)\n",
    "          FROM year_1962_df_tbl\n",
    "          WHERE low > 15.728619917198033\n",
    "          GROUP BY stock\n",
    "          ORDER BY MAX(low) DESC\"\"\").show()\n",
    "\n",
    "spark.sql(\"\"\"SELECT stock, MAX(close)\n",
    "          FROM year_1962_df_tbl \n",
    "          WHERE close > 16.64199179044607\n",
    "          GROUP BY stock\n",
    "          ORDER BY MAX(close) DESC\"\"\").show()\n",
    "\n",
    "\n",
    "spark.sql(\"\"\"SELECT stock, MAX(adj_close)\n",
    "          FROM year_1962_df_tbl \n",
    "          WHERE adj_close > 5.986642513535306\n",
    "          GROUP BY stock\n",
    "          ORDER BY MAX(adj_close) DESC\"\"\").show()"
   ]
  },
  {
   "cell_type": "markdown",
   "metadata": {},
   "source": [
    " ## 📔️**Notes** 📔️\n",
    "\n",
    " *Use this cell to note down any potential findings.*\n",
    "\n",
    " 1. Although the mean values (averages) are not the true values, they give us an idea of the entries that are outliers within our dataset.\n",
    " 2. The high column contains some values that are above normal (with NAV and DTE stocks registering a MAX of 287.5 and 31.875 respectively.\n",
    " 3. The low column has extreme values ranging between 20 - 282.5. These values are distributed across NAV, DTE, and CVX stocks.\n",
    " 4. The close column has extreme values ranging from 31.8125 - 282.5. The stocks affected are NAV and DTE.\n",
    " 5. NAV is affected by extreme values in 4 columns, high, low, close and adj_close."
   ]
  },
  {
   "cell_type": "markdown",
   "metadata": {},
   "source": [
    "\n",
    "\n",
    "## Completeness\n",
    "\n",
    "Completeness is the proportion of stored data against the potential of “100% complete\". This is the degree to which the required data is in the dataset. \n",
    "\n",
    "Does the dataset have missing values, or if it is time-series data, does it have time period gaps? Has a bias been introduced that may change your assumptions or affect your results?\n",
    "\n",
    "Completeness issues can occur at the row level (gaps within the dataset) or the field level (one entry missing). At the field level, entire fields can being empty, or >80% of a field's data missing. \n",
    "\n",
    "Another issue that may occur is default values. A typical example of this is where a logger sends back a 0 instead of a null value, which can greatly skew any attempts at modelling. This is where it is instrumental to employ domain knowledge when assessing a dataset. \n",
    "\n",
    "- **Measured by**: A measure of the absence of blank (null) values or the presence of non-blank values;\n",
    "- **Units**: Percentage;\n",
    "- **Related to**: Validity and Accuracy."
   ]
  },
  {
   "cell_type": "markdown",
   "metadata": {},
   "source": [
    "### Missing values\n",
    "\n",
    "> ℹ️ **Instructions** ℹ️\n",
    ">\n",
    "> Write code to identify and count the number of missing values (nulls) in the dataset. Include a percentage to describe the proportion of missing values per column. Output the results in the following manner:\n",
    ">\n",
    "> `There are <number_of_missing_values> (<percentage>) null values in <column_name> column`\n",
    ">\n",
    ">*You may use as many coding cells as necessary.*"
   ]
  },
  {
   "cell_type": "code",
   "execution_count": 20,
   "metadata": {},
   "outputs": [
    {
     "name": "stdout",
     "output_type": "stream",
     "text": [
      "+----+----+----+-----+---------+------+\n",
      "|open|high| low|close|adj_close|volume|\n",
      "+----+----+----+-----+---------+------+\n",
      "|5106|5106|5064| 5106|     5085|  5085|\n",
      "+----+----+----+-----+---------+------+\n",
      "\n",
      "+----+----+---+-----+---------+------+\n",
      "|open|high|low|close|adj_close|volume|\n",
      "+----+----+---+-----+---------+------+\n",
      "|   0|   0| 42|    0|       21|    21|\n",
      "+----+----+---+-----+---------+------+\n",
      "\n"
     ]
    }
   ],
   "source": [
    "# INSERTED (count null values per column)\n",
    "from pyspark.sql.functions import col, when, count\n",
    "\n",
    "total_count = year_1962_df_stat.select([count(c).alias(c) for c in year_1962_df_stat.columns])\n",
    "total_count.show()\n",
    "\n",
    "null_count = year_1962_df_stat.select([(count(when(col(c).isNull(), c)).alias(c)) for c in year_1962_df_stat.columns])\n",
    "null_count.show()"
   ]
  },
  {
   "cell_type": "code",
   "execution_count": 21,
   "metadata": {},
   "outputs": [
    {
     "name": "stdout",
     "output_type": "stream",
     "text": [
      "There are 0 (0.0%) null values in open column\n",
      "There are 0 (0.0%) null values in high column\n",
      "There are 42 (0.8225616921269095%) null values in low column\n",
      "There are 0 (0.0%) null values in close column\n",
      "There are 21 (0.4112808460634548%) null values in adj_close column\n",
      "There are 21 (0.4112808460634548%) null values in volume column\n"
     ]
    }
   ],
   "source": [
    "#TODO: Write your code here\n",
    "\n",
    "for column in year_1962_df_stat.columns:  \n",
    "    count = year_1962_df_stat.where(year_1962_df_stat[column].isNull()).count() \n",
    "    total_count = year_1962_df_stat.select(year_1962_df_stat[column]).count() \n",
    "    print(f'There are {count} ({round(count/total_count*100, 16)}%) null values in {column} column')\n"
   ]
  },
  {
   "cell_type": "markdown",
   "metadata": {},
   "source": [
    "### Columns with missing values"
   ]
  },
  {
   "cell_type": "markdown",
   "metadata": {},
   "source": [
    "\n",
    "> ℹ️ **Instructions** ℹ️\n",
    ">\n",
    "> From the above result, probe the columns that are affected by the missing data to find out which stocks were affected.\n",
    ">\n",
    ">*You may use as many coding cells as necessary.*"
   ]
  },
  {
   "cell_type": "code",
   "execution_count": 22,
   "metadata": {},
   "outputs": [
    {
     "name": "stdout",
     "output_type": "stream",
     "text": [
      "Missing values in open based on stock\n",
      "+-----+-----+\n",
      "|stock|count|\n",
      "+-----+-----+\n",
      "+-----+-----+\n",
      "\n",
      "Missing values in high based on stock\n",
      "+-----+-----+\n",
      "|stock|count|\n",
      "+-----+-----+\n",
      "+-----+-----+\n",
      "\n",
      "Missing values in low based on stock\n",
      "+-----+-----+\n",
      "|stock|count|\n",
      "+-----+-----+\n",
      "|  CAT|   22|\n",
      "|  NAV|   20|\n",
      "+-----+-----+\n",
      "\n",
      "Missing values in close based on stock\n",
      "+-----+-----+\n",
      "|stock|count|\n",
      "+-----+-----+\n",
      "+-----+-----+\n",
      "\n",
      "Missing values in adj_close based on stock\n",
      "+-----+-----+\n",
      "|stock|count|\n",
      "+-----+-----+\n",
      "|   FL|   21|\n",
      "+-----+-----+\n",
      "\n",
      "Missing values in volume based on stock\n",
      "+-----+-----+\n",
      "|stock|count|\n",
      "+-----+-----+\n",
      "|  JNJ|   21|\n",
      "+-----+-----+\n",
      "\n"
     ]
    }
   ],
   "source": [
    "#TODO: Write your code here\n",
    "for column in ['open', 'high', 'low', 'close', 'adj_close','volume']:\n",
    "    print(f'Missing values in {column} based on stock')\n",
    "    year_1962_df.select('stock', column).filter(year_1962_df[column].isNull()).groupBy('stock').count().show()"
   ]
  },
  {
   "cell_type": "code",
   "execution_count": 23,
   "metadata": {},
   "outputs": [
    {
     "name": "stdout",
     "output_type": "stream",
     "text": [
      "+-------------------+---------+---------+----+---------+----------+--------+-----+\n",
      "|               date|     open|     high| low|    close| adj_close|  Volume|stock|\n",
      "+-------------------+---------+---------+----+---------+----------+--------+-----+\n",
      "|1962-12-03 00:00:00|      0.0|    247.5|null|    247.5|  114.7004|   500.0|  NAV|\n",
      "|1962-12-20 00:00:00|      0.0|   241.25|null|  239.375|112.296135|   600.0|  NAV|\n",
      "|1962-12-21 00:00:00|      0.0|  243.125|null|    242.5| 113.76213|   500.0|  NAV|\n",
      "|1962-03-20 00:00:00|1.6666666|1.6979166|null|1.6979166|0.14584826|177600.0|  CAT|\n",
      "|1962-03-14 00:00:00|1.6302084|1.6614584|null|1.6614584|0.14271663|117600.0|  CAT|\n",
      "|1962-12-31 00:00:00|      0.0|  250.625|null|   248.75| 116.69414|   600.0|  NAV|\n",
      "|1962-12-28 00:00:00|      0.0|  249.375|null|  248.125| 116.40094|   300.0|  NAV|\n",
      "|1962-03-22 00:00:00|1.6666666|1.6927084|null|1.6822916|0.14450607|268800.0|  CAT|\n",
      "|1962-12-18 00:00:00|      0.0|   238.75|null|   236.25|  110.8301|   900.0|  NAV|\n",
      "|1962-03-19 00:00:00|1.6614584|1.6822916|null|1.6614584|0.14271663|105600.0|  CAT|\n",
      "|1962-12-19 00:00:00|      0.0|    240.0|null|    240.0|112.589325|   700.0|  NAV|\n",
      "|1962-12-27 00:00:00|      0.0|  248.125|null|  248.125| 116.40094|   600.0|  NAV|\n",
      "|1962-03-15 00:00:00|1.6614584|1.6614584|null|1.6458334|0.14137442|139200.0|  CAT|\n",
      "|1962-03-13 00:00:00|1.6145834|1.6354166|null|    1.625|0.13958487|141600.0|  CAT|\n",
      "|1962-03-01 00:00:00|1.6822916| 1.703125|null|1.6822916|0.14450607| 74400.0|  CAT|\n",
      "|1962-03-27 00:00:00| 1.671875|1.6770834|null| 1.671875|0.14361136|112800.0|  CAT|\n",
      "|1962-12-24 00:00:00|      0.0|    245.0|null|  244.375| 114.64173|   500.0|  NAV|\n",
      "|1962-03-16 00:00:00|1.6458334|1.6614584|null|1.6614584|0.14271663| 79200.0|  CAT|\n",
      "|1962-03-30 00:00:00|1.6822916| 1.703125|null| 1.703125|0.14629564| 86400.0|  CAT|\n",
      "|1962-12-26 00:00:00|      0.0|  246.875|null|   246.25|115.521324|   500.0|  NAV|\n",
      "|1962-03-07 00:00:00|1.6770834|1.6770834|null|  1.65625| 0.1422691|172800.0|  CAT|\n",
      "|1962-03-23 00:00:00|1.6822916|1.6979166|null|1.6822916|0.14450607|189600.0|  CAT|\n",
      "|1962-03-12 00:00:00|1.6354166| 1.640625|null|1.6145834|0.13869008| 96000.0|  CAT|\n",
      "|1962-03-21 00:00:00|1.6979166| 1.703125|null|  1.65625| 0.1422691|232800.0|  CAT|\n",
      "|1962-03-02 00:00:00|1.6822916|   1.6875|null|   1.6875|0.14495347|105600.0|  CAT|\n",
      "|1962-03-08 00:00:00|  1.65625|1.6614584|null| 1.640625|  0.140927| 98400.0|  CAT|\n",
      "|1962-03-29 00:00:00| 1.703125| 1.703125|null|1.6822916|0.14450607| 91200.0|  CAT|\n",
      "|1962-03-28 00:00:00| 1.671875| 1.703125|null| 1.703125|0.14629564|146400.0|  CAT|\n",
      "|1962-03-09 00:00:00| 1.640625|1.6458334|null|1.6354166|0.14047968| 86400.0|  CAT|\n",
      "|1962-03-06 00:00:00|   1.6875| 1.703125|null|1.6770834| 0.1440587| 98400.0|  CAT|\n",
      "|1962-03-26 00:00:00|1.6822916|   1.6875|null| 1.671875|0.14361136|124800.0|  CAT|\n",
      "|1962-03-05 00:00:00|   1.6875|1.6927084|null|   1.6875|0.14495347| 79200.0|  CAT|\n",
      "|1962-12-10 00:00:00|      0.0|  249.375|null|    247.5|  114.7004|  2200.0|  NAV|\n",
      "|1962-12-11 00:00:00|      0.0|  244.375|null|  244.375| 114.64173|   400.0|  NAV|\n",
      "|1962-12-04 00:00:00|      0.0|  249.375|null|  249.375| 115.56933|   500.0|  NAV|\n",
      "|1962-12-17 00:00:00|      0.0|  240.625|null|   238.75| 112.00292|   700.0|  NAV|\n",
      "|1962-12-05 00:00:00|      0.0|   248.75|null|   248.75|115.279655|   500.0|  NAV|\n",
      "|1962-12-14 00:00:00|      0.0|  239.375|null|  239.375|112.296135|   400.0|  NAV|\n",
      "|1962-12-12 00:00:00|      0.0|  244.375|null|   241.25| 113.17572|   600.0|  NAV|\n",
      "|1962-12-13 00:00:00|      0.0|   241.25|null|  238.125| 111.70971|   500.0|  NAV|\n",
      "|1962-12-06 00:00:00|      0.0|  249.375|null|  249.375| 115.56933|   500.0|  NAV|\n",
      "|1962-12-07 00:00:00|      0.0|  251.875|null|    250.0| 115.85895|  1400.0|  NAV|\n",
      "+-------------------+---------+---------+----+---------+----------+--------+-----+\n",
      "\n"
     ]
    }
   ],
   "source": [
    "#INSERTED (Display rows having null values in the low column)\n",
    "year_1962_df.filter(year_1962_df['low'].isNull()).show(42)"
   ]
  },
  {
   "cell_type": "code",
   "execution_count": 24,
   "metadata": {},
   "outputs": [
    {
     "name": "stdout",
     "output_type": "stream",
     "text": [
      "+-------------------+----+---------+---------+---------+---------+--------+-----+\n",
      "|               date|open|     high|      low|    close|adj_close|  Volume|stock|\n",
      "+-------------------+----+---------+---------+---------+---------+--------+-----+\n",
      "|1962-06-12 00:00:00| 0.0|5.6666665|5.6041665|5.6041665|     null| 50400.0|   FL|\n",
      "|1962-06-06 00:00:00| 0.0|    5.875|  5.65625|5.8333335|     null|109200.0|   FL|\n",
      "|1962-06-07 00:00:00| 0.0|  5.84375|5.7291665|5.7291665|     null| 36000.0|   FL|\n",
      "|1962-06-18 00:00:00| 0.0|5.6666665|      5.5|   5.5625|     null| 42000.0|   FL|\n",
      "|1962-06-15 00:00:00| 0.0|5.6666665|5.4583335|5.6666665|     null| 64800.0|   FL|\n",
      "|1962-06-22 00:00:00| 0.0|5.3645835|5.2916665|5.2916665|     null| 67200.0|   FL|\n",
      "|1962-06-19 00:00:00| 0.0|      5.5|5.4791665|5.4791665|     null| 19200.0|   FL|\n",
      "|1962-06-21 00:00:00| 0.0|  5.46875|5.4166665|5.4166665|     null| 49200.0|   FL|\n",
      "|1962-06-20 00:00:00| 0.0|  5.53125|5.4583335|5.4583335|     null| 34800.0|   FL|\n",
      "|1962-06-01 00:00:00| 0.0|5.8333335|     5.75|5.7916665|     null| 49200.0|   FL|\n",
      "|1962-06-11 00:00:00| 0.0|5.7083335|5.6458335|5.6458335|     null|  8400.0|   FL|\n",
      "|1962-06-05 00:00:00| 0.0|5.6666665|  5.59375|5.6145835|     null| 52800.0|   FL|\n",
      "|1962-06-04 00:00:00| 0.0|5.7708335|5.6458335|5.6666665|     null| 68400.0|   FL|\n",
      "|1962-06-28 00:00:00| 0.0|  5.46875|5.3333335|5.4583335|     null| 26400.0|   FL|\n",
      "|1962-06-08 00:00:00| 0.0|5.7916665|5.6458335|5.6458335|     null| 20400.0|   FL|\n",
      "|1962-06-27 00:00:00| 0.0|  5.40625|   5.3125|5.3541665|     null| 51600.0|   FL|\n",
      "|1962-06-26 00:00:00| 0.0|   5.4375|  5.34375|5.3645835|     null| 56400.0|   FL|\n",
      "|1962-06-25 00:00:00| 0.0|   5.3125|5.2083335|     5.25|     null| 90000.0|   FL|\n",
      "|1962-06-14 00:00:00| 0.0|5.5833335|5.5208335|5.5208335|     null| 48000.0|   FL|\n",
      "|1962-06-29 00:00:00| 0.0|      5.5|    5.375|    5.375|     null| 28800.0|   FL|\n",
      "|1962-06-13 00:00:00| 0.0|5.5833335|5.5416665|5.5520835|     null| 54000.0|   FL|\n",
      "+-------------------+----+---------+---------+---------+---------+--------+-----+\n",
      "\n"
     ]
    }
   ],
   "source": [
    "#INSERTED (Display rows having null values in the adj_close column)\n",
    "year_1962_df.filter(year_1962_df['adj_close'].isNull()).show(21)"
   ]
  },
  {
   "cell_type": "code",
   "execution_count": 25,
   "metadata": {},
   "outputs": [
    {
     "name": "stdout",
     "output_type": "stream",
     "text": [
      "+-------------------+----+----------+----------+----------+------------+------+-----+\n",
      "|               date|open|      high|       low|     close|   adj_close|Volume|stock|\n",
      "+-------------------+----+----------+----------+----------+------------+------+-----+\n",
      "|1962-07-20 00:00:00| 0.0| 0.1730324| 0.1724537| 0.1724537| 4.874888E-7|  null|  JNJ|\n",
      "|1962-07-25 00:00:00| 0.0| 0.1724537|0.16435185|0.16435185|4.6458675E-7|  null|  JNJ|\n",
      "|1962-07-03 00:00:00| 0.0|0.18171297|0.17824075|0.18171297| 5.136628E-7|  null|  JNJ|\n",
      "|1962-07-09 00:00:00| 0.0|0.17708333|0.17708333|0.17708333|5.0057577E-7|  null|  JNJ|\n",
      "|1962-07-17 00:00:00| 0.0|0.17766203|0.17766203|0.17766203| 5.022119E-7|  null|  JNJ|\n",
      "|1962-07-18 00:00:00| 0.0|0.17534722|0.17418982|0.17418982| 4.923964E-7|  null|  JNJ|\n",
      "|1962-07-27 00:00:00| 0.0| 0.1701389|0.16898148|0.16956018|4.7930956E-7|  null|  JNJ|\n",
      "|1962-07-31 00:00:00| 0.0|0.17274305| 0.1712963|0.17274305| 4.883069E-7|  null|  JNJ|\n",
      "|1962-07-02 00:00:00| 0.0|0.18229167|0.17650463|0.18229167|5.1529855E-7|  null|  JNJ|\n",
      "|1962-07-16 00:00:00| 0.0|0.17881945|0.17766203|0.17766203| 5.022119E-7|  null|  JNJ|\n",
      "|1962-07-11 00:00:00| 0.0|0.17592593| 0.1724537|0.17418982| 4.923964E-7|  null|  JNJ|\n",
      "|1962-07-24 00:00:00| 0.0| 0.1701389|0.16319445|0.16319445|4.6131473E-7|  null|  JNJ|\n",
      "|1962-07-13 00:00:00| 0.0|0.18113425|0.17592593|0.18113425| 5.120267E-7|  null|  JNJ|\n",
      "|1962-07-19 00:00:00| 0.0| 0.1736111| 0.1724537| 0.1724537| 4.874888E-7|  null|  JNJ|\n",
      "|1962-07-06 00:00:00| 0.0|0.18055555|0.17476852|0.17476852| 4.940323E-7|  null|  JNJ|\n",
      "|1962-07-12 00:00:00| 0.0|0.18113425|0.17592593|0.17881945| 5.054835E-7|  null|  JNJ|\n",
      "|1962-07-26 00:00:00| 0.0|0.16956018|0.16608797|0.16956018|4.7930956E-7|  null|  JNJ|\n",
      "|1962-07-05 00:00:00| 0.0|0.18229167|0.17939815|0.18229167|5.1529855E-7|  null|  JNJ|\n",
      "|1962-07-30 00:00:00| 0.0|0.16898148|0.16782407|0.16898148| 4.776736E-7|  null|  JNJ|\n",
      "|1962-07-23 00:00:00| 0.0| 0.1730324| 0.1707176| 0.1707176| 4.825813E-7|  null|  JNJ|\n",
      "|1962-07-10 00:00:00| 0.0|0.18402778|0.17824075|0.17824075| 5.038474E-7|  null|  JNJ|\n",
      "+-------------------+----+----------+----------+----------+------------+------+-----+\n",
      "\n"
     ]
    }
   ],
   "source": [
    "#INSERTED (Display rows having null values in the volume column)\n",
    "year_1962_df.filter(year_1962_df['volume'].isNull()).show(21)"
   ]
  },
  {
   "cell_type": "markdown",
   "metadata": {},
   "source": [
    "#### Fix Completeness\n",
    "\n",
    "How do we deal with incomplete data?\n",
    "- Dropping missing values\n",
    "- Discard the incomplete column\n",
    "- Discard the rows containing missing data\n",
    "- Case deletion\n",
    "\n",
    "> ℹ️ **Instructions** ℹ️\n",
    ">\n",
    "> Use the appropriate strategy to remedy the missing data. \n",
    ">\n",
    ">*You may use as many coding cells as necessary.*"
   ]
  },
  {
   "cell_type": "code",
   "execution_count": 26,
   "metadata": {},
   "outputs": [],
   "source": [
    "#TODO: Write your code here\n",
    "year_1962_df = year_1962_df.na.drop()"
   ]
  },
  {
   "cell_type": "code",
   "execution_count": 27,
   "metadata": {},
   "outputs": [
    {
     "name": "stdout",
     "output_type": "stream",
     "text": [
      "Missing values in low per stock\n",
      "+-----+-----+\n",
      "|stock|count|\n",
      "+-----+-----+\n",
      "+-----+-----+\n",
      "\n",
      "Missing values in adj_close per stock\n",
      "+-----+-----+\n",
      "|stock|count|\n",
      "+-----+-----+\n",
      "+-----+-----+\n",
      "\n",
      "Missing values in volume per stock\n",
      "+-----+-----+\n",
      "|stock|count|\n",
      "+-----+-----+\n",
      "+-----+-----+\n",
      "\n"
     ]
    }
   ],
   "source": [
    "#INSERTED (confirm rows with null values have been dropped)\n",
    "for column in ['low', 'adj_close','volume']:\n",
    "    print(f'Missing values in {column} per stock')\n",
    "    year_1962_df.select('stock', column).filter(year_1962_df[column].isNull()).groupBy('stock').count().show()  "
   ]
  },
  {
   "cell_type": "markdown",
   "metadata": {},
   "source": [
    "### Zero Values\n",
    "\n",
    "Take a deeper look into the entries with many zero values."
   ]
  },
  {
   "cell_type": "markdown",
   "metadata": {},
   "source": [
    "#### Fix Completeness\n",
    "\n",
    "Completeness issues can be fixed through imputation of the missing data through:\n",
    "- imputation by mean/mode/median;\n",
    "- regression; or\n",
    "- KNN.\n",
    " \n",
    "> ℹ️ **Instructions** ℹ️\n",
    ">\n",
    "> Write code to identify and count the number of zeros (0) in the dataset. Include a percentage to describe the proportion of missing values per column. Output the results in the following manner:\n",
    ">\n",
    "> `There are <number_of_zeros> (<percentage>) zero values in <column_name> column`\n",
    ">\n",
    ">*You may use as many coding cells as necessary.*"
   ]
  },
  {
   "cell_type": "code",
   "execution_count": 28,
   "metadata": {},
   "outputs": [
    {
     "name": "stdout",
     "output_type": "stream",
     "text": [
      "There are 2768 (54.21%) zero values in open column\n",
      "There are 20 (0.39%) zero values in high column\n",
      "There are 0 (0.0%) zero values in low column\n",
      "There are 0 (0.0%) zero values in close column\n",
      "There are 0 (0.0%) zero values in adj_close column\n",
      "There are 27 (0.53%) zero values in volume column\n"
     ]
    }
   ],
   "source": [
    "#TODO: Write your code here (Find percentage of zero values in each of the 6 columns)\n",
    "num_cols = ('open', 'high', 'low', 'close', 'adj_close', 'volume')\n",
    "\n",
    "year_1962_df_no_zero = year_1962_df_stat.select([F.count(F.when(year_1962_df_stat[c] == 0, c)).alias(c) for c in num_cols])\n",
    "\n",
    "for column in num_cols:\n",
    "    print(f'There are {year_1962_df_no_zero.select(column).collect()[0][0]}\\\n",
    " ({round(year_1962_df_no_zero.select(column).collect()[0][0]/year_1962_df_stat.select(column).count()*100, 2)}%)\\\n",
    " zero values in {column} column')\n",
    "    "
   ]
  },
  {
   "cell_type": "code",
   "execution_count": 29,
   "metadata": {},
   "outputs": [
    {
     "name": "stdout",
     "output_type": "stream",
     "text": [
      "+----+----+---+-----+---------+------+\n",
      "|open|high|low|close|adj_close|volume|\n",
      "+----+----+---+-----+---------+------+\n",
      "|2768|  20|  0|    0|        0|    27|\n",
      "+----+----+---+-----+---------+------+\n",
      "\n"
     ]
    }
   ],
   "source": [
    "#INSERTED (Count the number of zeros in each of the numerical columns)\n",
    "year_1962_df_no_zero.show()"
   ]
  },
  {
   "cell_type": "markdown",
   "metadata": {},
   "source": [
    "From the above section, you find that there are a few columns that contain zero values. However, some of these are true zeros and are explainable. Your task is to distinguish which column should undergo data imputation.\n",
    "\n",
    "> ℹ️ **Instructions** ℹ️\n",
    ">\n",
    "> Investigate the columns with zero values and determine which one should undergo data imputation. Take note of the stock and month on which zero values occurred.\n",
    ">\n",
    ">*You may use as many coding cells as necessary.*"
   ]
  },
  {
   "cell_type": "code",
   "execution_count": 30,
   "metadata": {},
   "outputs": [
    {
     "name": "stdout",
     "output_type": "stream",
     "text": [
      "+-------------------+----+---------+---------+---------+-----------+--------+-----+\n",
      "|               date|open|     high|      low|    close|  adj_close|  Volume|stock|\n",
      "+-------------------+----+---------+---------+---------+-----------+--------+-----+\n",
      "|1962-01-02 00:00:00| 0.0| 3.296131|3.2440476| 3.296131|0.051992513|105600.0|  CVX|\n",
      "|1962-01-03 00:00:00| 0.0|3.3035715|3.2738094|3.2886906|0.051875107|126400.0|  CVX|\n",
      "|1962-01-04 00:00:00| 0.0|3.2886906|3.2589285|3.2589285|0.051405635| 75200.0|  CVX|\n",
      "|1962-01-05 00:00:00| 0.0| 3.266369|3.1770833|3.1770833| 0.05011463|201600.0|  CVX|\n",
      "|1962-01-08 00:00:00| 0.0|3.1919644| 3.139881|3.1622024|0.049879935|124800.0|  CVX|\n",
      "|1962-01-09 00:00:00| 0.0|3.2068453|    3.125|3.2068453|0.050584078|182400.0|  CVX|\n",
      "|1962-01-10 00:00:00| 0.0|3.2068453|3.1622024|3.2068453|0.050584078| 72000.0|  CVX|\n",
      "|1962-01-11 00:00:00| 0.0| 3.296131|3.1919644|3.2886906|0.051875107|112000.0|  CVX|\n",
      "|1962-01-12 00:00:00| 0.0| 3.296131|3.2514882|  3.28125| 0.05175776|123200.0|  CVX|\n",
      "|1962-01-15 00:00:00| 0.0|3.2886906|3.2291667|3.2291667|0.050936185| 91200.0|  CVX|\n",
      "|1962-01-16 00:00:00| 0.0|3.2514882|3.1994047| 3.236607| 0.05105355| 97600.0|  CVX|\n",
      "|1962-01-17 00:00:00| 0.0| 3.266369|3.2142856|3.2142856|0.050701465|150400.0|  CVX|\n",
      "|1962-01-18 00:00:00| 0.0|3.2589285|3.1919644|3.2589285|0.051405635|147200.0|  CVX|\n",
      "|1962-01-19 00:00:00| 0.0| 3.266369|3.2217262|3.2440476|0.051170915|123200.0|  CVX|\n",
      "|1962-01-22 00:00:00| 0.0|3.2589285|3.2291667|3.2589285|0.051405635|102400.0|  CVX|\n",
      "|1962-01-23 00:00:00| 0.0|3.2589285|3.2291667| 3.236607| 0.05105355|121600.0|  CVX|\n",
      "|1962-01-24 00:00:00| 0.0|3.2440476|3.2217262|3.2217262|0.050818827|102400.0|  CVX|\n",
      "|1962-01-25 00:00:00| 0.0| 3.266369|3.2291667|3.2291667|0.050936185|136000.0|  CVX|\n",
      "|1962-01-26 00:00:00| 0.0|3.2738094|3.2291667|3.2514882|0.051288273|113600.0|  CVX|\n",
      "|1962-01-29 00:00:00| 0.0|3.2738094|3.2142856|3.2291667|0.050936185|193600.0|  CVX|\n",
      "+-------------------+----+---------+---------+---------+-----------+--------+-----+\n",
      "only showing top 20 rows\n",
      "\n"
     ]
    }
   ],
   "source": [
    "#TODO: Write your code here (Display rows having zero values in the open column)\n",
    "year_1962_df.filter('open==0').orderBy('stock','date').show()"
   ]
  },
  {
   "cell_type": "code",
   "execution_count": 31,
   "metadata": {},
   "outputs": [
    {
     "name": "stdout",
     "output_type": "stream",
     "text": [
      "+-------------------+---------+----+---------+---------+----------+--------+-----+\n",
      "|               date|     open|high|      low|    close| adj_close|  Volume|stock|\n",
      "+-------------------+---------+----+---------+---------+----------+--------+-----+\n",
      "|1962-11-01 00:00:00|1.3697916| 0.0|1.3697916|1.4010416| 0.1230039|136800.0|  CAT|\n",
      "|1962-11-02 00:00:00|1.4010416| 0.0|1.3958334|1.4114584|0.12391846|211200.0|  CAT|\n",
      "|1962-11-05 00:00:00|1.4114584| 0.0|1.4114584|   1.4375|0.12620474|172800.0|  CAT|\n",
      "|1962-11-07 00:00:00|   1.4375| 0.0|   1.4375|1.4583334|0.12803373|182400.0|  CAT|\n",
      "|1962-11-08 00:00:00|1.4583334| 0.0|1.4427084|1.4583334|0.12803373|129600.0|  CAT|\n",
      "|1962-11-09 00:00:00| 1.453125| 0.0|   1.4375| 1.453125|0.12757647|120000.0|  CAT|\n",
      "|1962-11-12 00:00:00| 1.453125| 0.0|1.4427084|1.4583334|0.12803373| 96000.0|  CAT|\n",
      "|1962-11-13 00:00:00|1.4583334| 0.0| 1.453125| 1.484375| 0.1303201|216000.0|  CAT|\n",
      "|1962-11-14 00:00:00| 1.484375| 0.0|1.4791666|1.5052084|0.13214913|261600.0|  CAT|\n",
      "|1962-11-15 00:00:00|1.5052084| 0.0|1.4947916|      1.5|0.13169187|187200.0|  CAT|\n",
      "|1962-11-16 00:00:00|      1.5| 0.0|1.4947916|      1.5|0.13169187|127200.0|  CAT|\n",
      "|1962-11-19 00:00:00|      1.5| 0.0|1.4895834|      1.5|0.13169187|112800.0|  CAT|\n",
      "|1962-11-20 00:00:00|      1.5| 0.0|1.4947916|      1.5|0.13169187|112800.0|  CAT|\n",
      "|1962-11-21 00:00:00|      1.5| 0.0|1.4947916|      1.5|0.13169187|105600.0|  CAT|\n",
      "|1962-11-23 00:00:00|      1.5| 0.0|1.4947916|      1.5|0.13169187|228000.0|  CAT|\n",
      "|1962-11-26 00:00:00|      1.5| 0.0|1.4947916|      1.5|0.13169187|187200.0|  CAT|\n",
      "|1962-11-27 00:00:00|      1.5| 0.0| 1.484375|      1.5|0.13169187|165600.0|  CAT|\n",
      "|1962-11-28 00:00:00|      1.5| 0.0|1.4947916|1.5052084|0.13214913|177600.0|  CAT|\n",
      "|1962-11-29 00:00:00|1.5052084| 0.0|1.5052084|1.5052084|0.13214913|132000.0|  CAT|\n",
      "|1962-11-30 00:00:00|1.5052084| 0.0|1.5052084|1.5052084|0.13214913|124800.0|  CAT|\n",
      "+-------------------+---------+----+---------+---------+----------+--------+-----+\n",
      "\n"
     ]
    }
   ],
   "source": [
    "#Write your code here (Display rows having zero values in the high column)\n",
    "year_1962_df.filter('high==0').orderBy('stock', 'date').show()"
   ]
  },
  {
   "cell_type": "code",
   "execution_count": 32,
   "metadata": {},
   "outputs": [
    {
     "name": "stdout",
     "output_type": "stream",
     "text": [
      "+-------------------+----------+----------+----------+----------+------------+------+-----+\n",
      "|               date|      open|      high|       low|     close|   adj_close|Volume|stock|\n",
      "+-------------------+----------+----------+----------+----------+------------+------+-----+\n",
      "|1962-11-09 00:00:00|0.69736576|0.69736576|0.69736576|0.69736576|0.0016955283|   0.0|   GE|\n",
      "|1962-01-02 00:00:00|       0.0|0.22337963|0.22222222|0.22337963| 6.281419E-7|   0.0|  JNJ|\n",
      "|1962-04-17 00:00:00|       0.0|   0.21875| 0.2175926|   0.21875|6.1658733E-7|   0.0|  JNJ|\n",
      "|1962-09-28 00:00:00|       0.0|0.15914352| 0.1574074|0.15914352| 4.514184E-7|   0.0|  JNJ|\n",
      "|1962-10-15 00:00:00|       0.0|0.15856482|0.15856482|0.15856482|4.4977733E-7|   0.0|  JNJ|\n",
      "|1962-05-01 00:00:00|       0.0| 1.6992188| 1.6601562| 1.6992188| 0.015146574|   0.0|  XOM|\n",
      "|1962-05-02 00:00:00|       0.0| 1.7148438| 1.6992188| 1.7148438| 0.015285846|   0.0|  XOM|\n",
      "|1962-05-03 00:00:00|       0.0| 1.7304688| 1.7148438|   1.71875|0.0153206745|   0.0|  XOM|\n",
      "|1962-05-04 00:00:00|       0.0| 1.7226562| 1.7109375|   1.71875|0.0153206745|   0.0|  XOM|\n",
      "|1962-05-07 00:00:00|       0.0| 1.7148438| 1.7070312| 1.7148438| 0.015285846|   0.0|  XOM|\n",
      "|1962-05-08 00:00:00|       0.0| 1.7265625| 1.7109375| 1.7148438| 0.015285846|   0.0|  XOM|\n",
      "|1962-05-09 00:00:00|       0.0| 1.6953125| 1.6796875|    1.6875| 0.015208395|   0.0|  XOM|\n",
      "|1962-05-10 00:00:00|       0.0|    1.6875| 1.6640625| 1.6679688| 0.015032374|   0.0|  XOM|\n",
      "|1962-05-11 00:00:00|       0.0|  1.671875| 1.6445312| 1.6445312| 0.014821144|   0.0|  XOM|\n",
      "|1962-05-14 00:00:00|       0.0|  1.640625| 1.5820312| 1.6328125| 0.014715531|   0.0|  XOM|\n",
      "|1962-05-15 00:00:00|       0.0| 1.6914062| 1.6445312| 1.6796875|0.0151379965|   0.0|  XOM|\n",
      "|1962-05-16 00:00:00|       0.0| 1.6953125|  1.671875| 1.6796875|0.0151379965|   0.0|  XOM|\n",
      "|1962-05-17 00:00:00|       0.0| 1.6796875| 1.6484375| 1.6640625|  0.01499716|   0.0|  XOM|\n",
      "|1962-05-18 00:00:00|       0.0| 1.6679688| 1.6484375| 1.6679688| 0.015032374|   0.0|  XOM|\n",
      "|1962-05-21 00:00:00|       0.0|   1.65625| 1.6445312|   1.65625| 0.014926753|   0.0|  XOM|\n",
      "+-------------------+----------+----------+----------+----------+------------+------+-----+\n",
      "only showing top 20 rows\n",
      "\n"
     ]
    }
   ],
   "source": [
    "#Write your code here (Display rows having zero values in the volume column)\n",
    "year_1962_df.filter('volume==0').orderBy('stock', 'date').show()"
   ]
  },
  {
   "cell_type": "markdown",
   "metadata": {},
   "source": [
    "> ℹ️ **Instructions** ℹ️\n",
    ">\n",
    "> Once you have identified the column that needs to undergo imputation, update the values for the affected records by using the average value for the affected stock.\n",
    ">\n",
    ">*You may use as many coding cells as necessary.*"
   ]
  },
  {
   "cell_type": "code",
   "execution_count": 33,
   "metadata": {},
   "outputs": [
    {
     "data": {
      "text/plain": [
       "1.1014219280169133"
      ]
     },
     "execution_count": 33,
     "metadata": {},
     "output_type": "execute_result"
    }
   ],
   "source": [
    "\n",
    "year_1962_df.agg(F.avg('open')).collect()[0][0]"
   ]
  },
  {
   "cell_type": "code",
   "execution_count": 34,
   "metadata": {},
   "outputs": [
    {
     "data": {
      "text/plain": [
       "16.028819454351698"
      ]
     },
     "execution_count": 34,
     "metadata": {},
     "output_type": "execute_result"
    }
   ],
   "source": [
    "year_1962_df.agg(F.avg('high')).collect()[0][0]"
   ]
  },
  {
   "cell_type": "code",
   "execution_count": 35,
   "metadata": {},
   "outputs": [
    {
     "data": {
      "text/plain": [
       "546946.4157706093"
      ]
     },
     "execution_count": 35,
     "metadata": {},
     "output_type": "execute_result"
    }
   ],
   "source": [
    "year_1962_df.agg(F.avg('volume')).collect()[0][0]"
   ]
  },
  {
   "cell_type": "code",
   "execution_count": 36,
   "metadata": {},
   "outputs": [],
   "source": [
    "#TODO: Write your code here\n",
    "year_1962_df=year_1962_df.withColumn('open', when(F.col('open')==0, year_1962_df.agg(F.avg('open')).collect()[0][0]).otherwise(F.col('open')))"
   ]
  },
  {
   "cell_type": "code",
   "execution_count": 37,
   "metadata": {},
   "outputs": [],
   "source": [
    "#TODO: Write your code here\n",
    "year_1962_df=year_1962_df.withColumn('high', when(F.col('high')==0, year_1962_df.agg(F.avg('high')).collect()[0][0]).otherwise(F.col('high')))"
   ]
  },
  {
   "cell_type": "code",
   "execution_count": 38,
   "metadata": {},
   "outputs": [],
   "source": [
    "#TODO: Write your code here\n",
    "#year_1962_df=year_1962_df.withColumn('volume', when(F.col('volume')==0, year_1962_df.agg(F.avg('volume')).collect()[0][0]).otherwise(F.col('volume')))"
   ]
  },
  {
   "cell_type": "code",
   "execution_count": 39,
   "metadata": {},
   "outputs": [
    {
     "name": "stdout",
     "output_type": "stream",
     "text": [
      "+----+----+----+---+-----+---------+------+-----+\n",
      "|date|open|high|low|close|adj_close|Volume|stock|\n",
      "+----+----+----+---+-----+---------+------+-----+\n",
      "+----+----+----+---+-----+---------+------+-----+\n",
      "\n"
     ]
    }
   ],
   "source": [
    "year_1962_df.filter(F.col('open')==0).show()"
   ]
  },
  {
   "cell_type": "code",
   "execution_count": 40,
   "metadata": {},
   "outputs": [
    {
     "name": "stdout",
     "output_type": "stream",
     "text": [
      "+----+----+----+---+-----+---------+------+-----+\n",
      "|date|open|high|low|close|adj_close|Volume|stock|\n",
      "+----+----+----+---+-----+---------+------+-----+\n",
      "+----+----+----+---+-----+---------+------+-----+\n",
      "\n"
     ]
    }
   ],
   "source": [
    "year_1962_df.filter(F.col('high')==0).show()"
   ]
  },
  {
   "cell_type": "code",
   "execution_count": 41,
   "metadata": {},
   "outputs": [
    {
     "name": "stdout",
     "output_type": "stream",
     "text": [
      "+-------------------+------------------+-------------------+----------+----------+------------+------+-----+\n",
      "|               date|              open|               high|       low|     close|   adj_close|Volume|stock|\n",
      "+-------------------+------------------+-------------------+----------+----------+------------+------+-----+\n",
      "|1962-05-18 00:00:00|1.1014219280169133|         1.66796875| 1.6484375| 1.6679688| 0.015032374|   0.0|  XOM|\n",
      "|1962-05-24 00:00:00|1.1014219280169133|          1.6328125| 1.6171875| 1.6289062|  0.01468032|   0.0|  XOM|\n",
      "|1962-09-28 00:00:00|1.1014219280169133|0.15914352238178253| 0.1574074|0.15914352| 4.514184E-7|   0.0|  JNJ|\n",
      "|1962-05-08 00:00:00|1.1014219280169133|          1.7265625| 1.7109375| 1.7148438| 0.015285846|   0.0|  XOM|\n",
      "|1962-01-02 00:00:00|1.1014219280169133|0.22337962687015533|0.22222222|0.22337963| 6.281419E-7|   0.0|  JNJ|\n",
      "|1962-05-14 00:00:00|1.1014219280169133|           1.640625| 1.5820312| 1.6328125| 0.014715531|   0.0|  XOM|\n",
      "|1962-05-28 00:00:00|1.1014219280169133|             1.5625| 1.4179688|    1.4375| 0.012955305|   0.0|  XOM|\n",
      "|1962-05-25 00:00:00|1.1014219280169133|          1.6328125|  1.578125|   1.59375|  0.01436349|   0.0|  XOM|\n",
      "|1962-05-29 00:00:00|1.1014219280169133|            1.59375| 1.4179688| 1.5898438| 0.014328282|   0.0|  XOM|\n",
      "|1962-05-02 00:00:00|1.1014219280169133|         1.71484375| 1.6992188| 1.7148438| 0.015285846|   0.0|  XOM|\n",
      "|1962-05-31 00:00:00|1.1014219280169133|          1.6328125|  1.609375|     1.625| 0.014645126|   0.0|  XOM|\n",
      "|1962-05-16 00:00:00|1.1014219280169133|          1.6953125|  1.671875| 1.6796875|0.0151379965|   0.0|  XOM|\n",
      "|1962-05-07 00:00:00|1.1014219280169133|         1.71484375| 1.7070312| 1.7148438| 0.015285846|   0.0|  XOM|\n",
      "|1962-05-10 00:00:00|1.1014219280169133|             1.6875| 1.6640625| 1.6679688| 0.015032374|   0.0|  XOM|\n",
      "|1962-05-15 00:00:00|1.1014219280169133|         1.69140625| 1.6445312| 1.6796875|0.0151379965|   0.0|  XOM|\n",
      "|1962-05-01 00:00:00|1.1014219280169133|         1.69921875| 1.6601562| 1.6992188| 0.015146574|   0.0|  XOM|\n",
      "|1962-05-11 00:00:00|1.1014219280169133|           1.671875| 1.6445312| 1.6445312| 0.014821144|   0.0|  XOM|\n",
      "|1962-05-17 00:00:00|1.1014219280169133|          1.6796875| 1.6484375| 1.6640625|  0.01499716|   0.0|  XOM|\n",
      "|1962-05-21 00:00:00|1.1014219280169133|            1.65625| 1.6445312|   1.65625| 0.014926753|   0.0|  XOM|\n",
      "|1962-05-23 00:00:00|1.1014219280169133|         1.63671875| 1.6171875| 1.6210938| 0.014609924|   0.0|  XOM|\n",
      "+-------------------+------------------+-------------------+----------+----------+------------+------+-----+\n",
      "only showing top 20 rows\n",
      "\n"
     ]
    }
   ],
   "source": [
    "year_1962_df.filter(F.col('volume')==0).show()"
   ]
  },
  {
   "cell_type": "markdown",
   "metadata": {},
   "source": [
    "\n",
    "## Consistency\n",
    "\n",
    "Consistency is the absence of difference when comparing two or more representations of a thing against a reference.\n",
    "\n",
    "Data entries that refer to the same record or entity have to be consistent across all entries, e.g., if you are dealing with records from a logger in the field, the entries for that logger have to remain consistent, and the name or primary key of that logger cannot change from one entry to another. \n",
    "\n",
    "For example, 'Logger1', 'Loger1' and 'Logge1' are examples of inconsistent keys. \n",
    "\n",
    "This is not just within a single table but also becomes more important if you are dealing with relational data. In which case, the mappings between tables and systems must be consistent. If not, the relationships will be completely lost between the tables and referential integrity compromised. \n",
    "\n",
    "- **Measured by**: Analysis of pattern and/or value frequency;\n",
    "- **Units**: Percentage;\n",
    "- **Related to**: Accuracy, Validity, and Uniqueness."
   ]
  },
  {
   "cell_type": "markdown",
   "metadata": {},
   "source": [
    "> ℹ️ **Instructions** ℹ️\n",
    ">\n",
    "> There currently exists a stock that has inconsistent naming. Make use of the metadata to determine which stock is inconsistently named, then update the dataframe appropriately to get rid of this inconsistency.\n",
    ">\n",
    ">*You may use as many coding cells as necessary.*"
   ]
  },
  {
   "cell_type": "code",
   "execution_count": 42,
   "metadata": {},
   "outputs": [
    {
     "data": {
      "text/plain": [
       "['ARNCA']"
      ]
     },
     "execution_count": 42,
     "metadata": {},
     "output_type": "execute_result"
    }
   ],
   "source": [
    "#INSERTED (checking for inconsistency in naming)\n",
    "list(set(year_1962_df.select('stock').rdd.flatMap(lambda x: x).collect())-set(meta_df.select('symbol').rdd.flatMap(lambda x: x).collect()))"
   ]
  },
  {
   "cell_type": "code",
   "execution_count": 43,
   "metadata": {},
   "outputs": [
    {
     "data": {
      "text/html": [
       "<div>\n",
       "<style scoped>\n",
       "    .dataframe tbody tr th:only-of-type {\n",
       "        vertical-align: middle;\n",
       "    }\n",
       "\n",
       "    .dataframe tbody tr th {\n",
       "        vertical-align: top;\n",
       "    }\n",
       "\n",
       "    .dataframe thead th {\n",
       "        text-align: right;\n",
       "    }\n",
       "</style>\n",
       "<table border=\"1\" class=\"dataframe\">\n",
       "  <thead>\n",
       "    <tr style=\"text-align: right;\">\n",
       "      <th></th>\n",
       "      <th>Nasdaq Traded</th>\n",
       "      <th>Symbol</th>\n",
       "      <th>Security Name</th>\n",
       "      <th>Listing Exchange</th>\n",
       "      <th>Market Category</th>\n",
       "      <th>ETF</th>\n",
       "      <th>Round Lot Size</th>\n",
       "      <th>Test Issue</th>\n",
       "      <th>Financial Status</th>\n",
       "      <th>CQS Symbol</th>\n",
       "      <th>NASDAQ Symbol</th>\n",
       "      <th>NextShares</th>\n",
       "    </tr>\n",
       "  </thead>\n",
       "  <tbody>\n",
       "    <tr>\n",
       "      <th>0</th>\n",
       "      <td>Y</td>\n",
       "      <td>ARNA</td>\n",
       "      <td>Arena Pharmaceuticals, Inc. - Common Stock</td>\n",
       "      <td>Q</td>\n",
       "      <td>Q</td>\n",
       "      <td>N</td>\n",
       "      <td>100.0</td>\n",
       "      <td>N</td>\n",
       "      <td>N</td>\n",
       "      <td>None</td>\n",
       "      <td>ARNA</td>\n",
       "      <td>N</td>\n",
       "    </tr>\n",
       "    <tr>\n",
       "      <th>1</th>\n",
       "      <td>Y</td>\n",
       "      <td>ARNC</td>\n",
       "      <td>Arconic Corporation Common Stock</td>\n",
       "      <td>N</td>\n",
       "      <td></td>\n",
       "      <td>N</td>\n",
       "      <td>100.0</td>\n",
       "      <td>N</td>\n",
       "      <td>None</td>\n",
       "      <td>ARNC</td>\n",
       "      <td>ARNC</td>\n",
       "      <td>N</td>\n",
       "    </tr>\n",
       "  </tbody>\n",
       "</table>\n",
       "</div>"
      ],
      "text/plain": [
       "  Nasdaq Traded Symbol                               Security Name  \\\n",
       "0             Y   ARNA  Arena Pharmaceuticals, Inc. - Common Stock   \n",
       "1             Y   ARNC           Arconic Corporation Common Stock    \n",
       "\n",
       "  Listing Exchange Market Category ETF Round Lot Size Test Issue  \\\n",
       "0                Q               Q   N          100.0          N   \n",
       "1                N                   N          100.0          N   \n",
       "\n",
       "  Financial Status CQS Symbol NASDAQ Symbol NextShares  \n",
       "0                N       None          ARNA          N  \n",
       "1             None       ARNC          ARNC          N  "
      ]
     },
     "execution_count": 43,
     "metadata": {},
     "output_type": "execute_result"
    }
   ],
   "source": [
    "#INSERTED (checking the correct name for the stock)\n",
    "meta_df.createOrReplaceTempView(\"metadata\")\n",
    "\n",
    "spark.sql(\"select * from metadata where symbol like 'ARN%'\").toPandas()"
   ]
  },
  {
   "cell_type": "code",
   "execution_count": 44,
   "metadata": {},
   "outputs": [],
   "source": [
    "##TODO: Write your code here (Replacing the stock with the correct name)\n",
    "year_1962_df = year_1962_df.withColumn('stock', when(F.col('stock')=='ARNCA', 'ARNC').otherwise(F.col(\"stock\")))"
   ]
  },
  {
   "cell_type": "code",
   "execution_count": 45,
   "metadata": {},
   "outputs": [
    {
     "data": {
      "text/plain": [
       "[]"
      ]
     },
     "execution_count": 45,
     "metadata": {},
     "output_type": "execute_result"
    }
   ],
   "source": [
    "#INSERTED (checking again for inconsistency in naming)\n",
    "list(set(year_1962_df.select('stock').rdd.flatMap(lambda x: x).collect())-set(meta_df.select('symbol').rdd.flatMap(lambda x: x).collect()))"
   ]
  },
  {
   "cell_type": "code",
   "execution_count": 46,
   "metadata": {},
   "outputs": [],
   "source": [
    "#INSERTED (Creating a temporary view)\n",
    "year_1962_df.createOrReplaceTempView('year_1962_df_tbl')"
   ]
  },
  {
   "cell_type": "code",
   "execution_count": 47,
   "metadata": {},
   "outputs": [
    {
     "name": "stdout",
     "output_type": "stream",
     "text": [
      "+-----+-------+\n",
      "|stock|Overall|\n",
      "+-----+-------+\n",
      "|  HPQ|    309|\n",
      "|   ED|    271|\n",
      "|   PG|    252|\n",
      "|   GE|    252|\n",
      "|   GT|    252|\n",
      "|  XOM|    252|\n",
      "|  DIS|    252|\n",
      "|  DTE|    252|\n",
      "| ARNC|    252|\n",
      "|   IP|    252|\n",
      "|   KO|    252|\n",
      "|   MO|    252|\n",
      "|  IBM|    252|\n",
      "|   AA|    252|\n",
      "|  CVX|    252|\n",
      "|   BA|    242|\n",
      "|  NAV|    232|\n",
      "|  JNJ|    231|\n",
      "|   FL|    231|\n",
      "|  CAT|    230|\n",
      "+-----+-------+\n",
      "\n"
     ]
    }
   ],
   "source": [
    "#INSERTED (Count each in the dataframe)\n",
    "spark.sql(\"\"\"SELECT stock, COUNT(open) as Overall\n",
    "          FROM year_1962_df_tbl \n",
    "          GROUP BY stock\n",
    "          ORDER BY Overall desc\"\"\").show(21)"
   ]
  },
  {
   "cell_type": "markdown",
   "metadata": {},
   "source": [
    "## Timeliness\n",
    "\n",
    "Timeliness is the degree to which data represent reality from the required point in time.\n",
    "\n",
    "Timeliness expects that the data within your dataset is sufficiently up to date. If you are trying to answer questions that relate to recent problems, having timely data is extremely important. For example, you cannot use current flight patterns to model how many aeroplanes will be required by a large aeronautics company within the next 5-10 years. \n",
    "\n",
    "Similarly, when answering questions that require real-time answers (e.g., predicting when a pipe will burst in a manufacturing plant), you have to be set up to receive real-time data from sensors and loggers. \n",
    "\n",
    "- **Measured by**: Time difference;\n",
    "- **Units**: Time;\n",
    "- **Related to**: Accuracy because it will decay as time progress. "
   ]
  },
  {
   "cell_type": "markdown",
   "metadata": {},
   "source": [
    "It is important to see the latest value for each of the stocks that we are looking at:"
   ]
  },
  {
   "cell_type": "code",
   "execution_count": 48,
   "metadata": {},
   "outputs": [
    {
     "name": "stdout",
     "output_type": "stream",
     "text": [
      "+-----+-------------------+\n",
      "|stock|          max(Date)|\n",
      "+-----+-------------------+\n",
      "|   AA|1962-12-31 00:00:00|\n",
      "|  XOM|1962-12-31 00:00:00|\n",
      "|  DIS|1962-12-31 00:00:00|\n",
      "|   PG|1962-12-31 00:00:00|\n",
      "|   GT|1962-12-31 00:00:00|\n",
      "|   MO|1962-12-31 00:00:00|\n",
      "|  IBM|1962-12-31 00:00:00|\n",
      "|  JNJ|1962-12-31 00:00:00|\n",
      "|  CVX|1962-12-31 00:00:00|\n",
      "|  DTE|1962-12-31 00:00:00|\n",
      "|   BA|1962-12-31 00:00:00|\n",
      "|   GE|1962-12-31 00:00:00|\n",
      "|  HPQ|1962-12-31 00:00:00|\n",
      "| ARNC|1962-12-31 00:00:00|\n",
      "|  CAT|1962-12-31 00:00:00|\n",
      "|   IP|1962-12-31 00:00:00|\n",
      "|   FL|1962-12-31 00:00:00|\n",
      "|   ED|1962-12-31 00:00:00|\n",
      "|  NAV|1962-11-30 00:00:00|\n",
      "|   KO|1962-12-31 00:00:00|\n",
      "+-----+-------------------+\n",
      "\n"
     ]
    }
   ],
   "source": [
    "#INSERTED (See the latest entries in the 1962 dataframe)\n",
    "year_1962_df.groupBy('stock').agg(F.max('Date')).show()"
   ]
  },
  {
   "cell_type": "markdown",
   "metadata": {},
   "source": [
    "Sometimes, some of these axes of data quality will be less important than others. \n",
    "This is one of those cases where it is less important to have timely data, since \n",
    "we are trying to create a training dataset for a stock market prediction algorithm. \n",
    "\n",
    "It is important to know the context in which you are doing your modelling. "
   ]
  },
  {
   "cell_type": "markdown",
   "metadata": {},
   "source": [
    "### Gaps in the dataset\n",
    "\n",
    "Let's see if we can find inconsistencies in the time series by having a look at the number of entries for each of the tickers.\n",
    " \n",
    "> ℹ️ **Instructions** ℹ️\n",
    ">\n",
    "> Uncomment and use the below code to determine which dates had entries that were not equal to 20. You may have to change the name of the dataframe to see the resultant output\n",
    ">\n",
    ">*You may use as many coding cells as necessary.*"
   ]
  },
  {
   "cell_type": "code",
   "execution_count": 49,
   "metadata": {},
   "outputs": [
    {
     "name": "stdout",
     "output_type": "stream",
     "text": [
      "+-------------------+-----+\n",
      "|               date|count|\n",
      "+-------------------+-----+\n",
      "|1962-02-19 00:00:00|   23|\n",
      "|1962-02-26 00:00:00|   23|\n",
      "|1962-06-07 00:00:00|   19|\n",
      "|1962-09-05 00:00:00|   21|\n",
      "|1962-02-23 00:00:00|   23|\n",
      "|1962-09-14 00:00:00|   21|\n",
      "|1962-02-07 00:00:00|   23|\n",
      "|1962-06-12 00:00:00|   19|\n",
      "|1962-03-19 00:00:00|   19|\n",
      "|1962-09-24 00:00:00|   21|\n",
      "|1962-02-12 00:00:00|   23|\n",
      "|1962-02-20 00:00:00|   23|\n",
      "|1962-02-02 00:00:00|   23|\n",
      "|1962-07-25 00:00:00|   19|\n",
      "|1962-03-14 00:00:00|   19|\n",
      "|1962-09-18 00:00:00|   21|\n",
      "|1962-09-12 00:00:00|   21|\n",
      "|1962-12-18 00:00:00|   19|\n",
      "|1962-12-20 00:00:00|   19|\n",
      "|1962-09-20 00:00:00|   21|\n",
      "|1962-03-22 00:00:00|   19|\n",
      "|1962-09-28 00:00:00|   21|\n",
      "|1962-12-21 00:00:00|   19|\n",
      "|1962-09-04 00:00:00|   21|\n",
      "|1962-09-21 00:00:00|   21|\n",
      "|1962-12-03 00:00:00|   19|\n",
      "|1962-03-20 00:00:00|   19|\n",
      "|1962-09-11 00:00:00|   21|\n",
      "|1962-02-05 00:00:00|   23|\n",
      "|1962-09-25 00:00:00|   21|\n",
      "|1962-09-06 00:00:00|   21|\n",
      "|1962-02-13 00:00:00|   23|\n",
      "|1962-02-21 00:00:00|   23|\n",
      "|1962-09-19 00:00:00|   21|\n",
      "|1962-06-06 00:00:00|   19|\n",
      "|1962-09-26 00:00:00|   21|\n",
      "|1962-02-15 00:00:00|   23|\n",
      "|1962-02-27 00:00:00|   23|\n",
      "|1962-12-28 00:00:00|   19|\n",
      "|1962-07-20 00:00:00|   19|\n",
      "|1962-02-06 00:00:00|   23|\n",
      "|1962-09-17 00:00:00|   21|\n",
      "|1962-09-27 00:00:00|   21|\n",
      "|1962-12-31 00:00:00|   19|\n",
      "|1962-02-16 00:00:00|   23|\n",
      "|1962-09-13 00:00:00|   21|\n",
      "|1962-09-07 00:00:00|   21|\n",
      "|1962-02-28 00:00:00|   23|\n",
      "|1962-02-14 00:00:00|   23|\n",
      "|1962-02-09 00:00:00|   23|\n",
      "|1962-02-01 00:00:00|   23|\n",
      "|1962-02-08 00:00:00|   23|\n",
      "|1962-09-10 00:00:00|   21|\n",
      "|1962-06-11 00:00:00|   19|\n",
      "|1962-03-15 00:00:00|   19|\n",
      "|1962-06-20 00:00:00|   19|\n",
      "|1962-03-16 00:00:00|   19|\n",
      "|1962-07-19 00:00:00|   19|\n",
      "|1962-06-08 00:00:00|   19|\n",
      "|1962-07-03 00:00:00|   19|\n",
      "|1962-03-28 00:00:00|   19|\n",
      "|1962-06-05 00:00:00|   19|\n",
      "|1962-07-23 00:00:00|   19|\n",
      "|1962-07-30 00:00:00|   19|\n",
      "|1962-12-13 00:00:00|   18|\n",
      "|1962-06-14 00:00:00|   19|\n",
      "|1962-07-31 00:00:00|   19|\n",
      "|1962-03-06 00:00:00|   19|\n",
      "|1962-03-13 00:00:00|   19|\n",
      "|1962-12-06 00:00:00|   18|\n",
      "|1962-03-05 00:00:00|   19|\n",
      "|1962-07-27 00:00:00|   19|\n",
      "|1962-06-27 00:00:00|   19|\n",
      "|1962-06-21 00:00:00|   19|\n",
      "|1962-06-25 00:00:00|   19|\n",
      "|1962-03-21 00:00:00|   19|\n",
      "|1962-07-16 00:00:00|   19|\n",
      "|1962-07-06 00:00:00|   19|\n",
      "|1962-12-04 00:00:00|   18|\n",
      "|1962-03-26 00:00:00|   19|\n",
      "|1962-07-11 00:00:00|   19|\n",
      "|1962-07-26 00:00:00|   19|\n",
      "|1962-06-29 00:00:00|   19|\n",
      "|1962-03-01 00:00:00|   19|\n",
      "|1962-12-24 00:00:00|   19|\n",
      "|1962-07-09 00:00:00|   19|\n",
      "|1962-03-12 00:00:00|   19|\n",
      "|1962-06-18 00:00:00|   19|\n",
      "|1962-12-10 00:00:00|   18|\n",
      "|1962-12-14 00:00:00|   18|\n",
      "|1962-12-12 00:00:00|   18|\n",
      "|1962-06-28 00:00:00|   19|\n",
      "|1962-12-17 00:00:00|   18|\n",
      "|1962-03-02 00:00:00|   19|\n",
      "|1962-07-18 00:00:00|   19|\n",
      "|1962-07-10 00:00:00|   19|\n",
      "|1962-12-26 00:00:00|   19|\n",
      "|1962-07-05 00:00:00|   19|\n",
      "|1962-03-23 00:00:00|   19|\n",
      "|1962-03-27 00:00:00|   19|\n",
      "|1962-03-29 00:00:00|   19|\n",
      "|1962-12-07 00:00:00|   18|\n",
      "|1962-06-13 00:00:00|   19|\n",
      "|1962-12-11 00:00:00|   18|\n",
      "|1962-07-24 00:00:00|   19|\n",
      "|1962-03-08 00:00:00|   19|\n",
      "|1962-03-09 00:00:00|   19|\n",
      "|1962-03-30 00:00:00|   19|\n",
      "|1962-06-01 00:00:00|   19|\n",
      "|1962-06-26 00:00:00|   19|\n",
      "|1962-06-19 00:00:00|   19|\n",
      "|1962-07-13 00:00:00|   19|\n",
      "|1962-12-19 00:00:00|   19|\n",
      "|1962-06-22 00:00:00|   19|\n",
      "|1962-07-02 00:00:00|   19|\n",
      "|1962-07-17 00:00:00|   19|\n",
      "|1962-07-12 00:00:00|   19|\n",
      "|1962-06-04 00:00:00|   19|\n",
      "|1962-03-07 00:00:00|   19|\n",
      "|1962-06-15 00:00:00|   19|\n",
      "|1962-12-27 00:00:00|   19|\n",
      "|1962-12-05 00:00:00|   18|\n",
      "+-------------------+-----+\n",
      "\n"
     ]
    }
   ],
   "source": [
    "year_1962_df.orderBy('date').groupby('date').count().where(F.col('count') != 20).show(400)"
   ]
  },
  {
   "cell_type": "markdown",
   "metadata": {},
   "source": [
    "> ℹ️ **Instructions** ℹ️\n",
    ">\n",
    "> From the above result, investigate the number of times a stock appears for the given month. You can infer the months by using the output of the previous cell.\n",
    ">\n",
    ">*You may use as many coding cells as necessary.*"
   ]
  },
  {
   "cell_type": "code",
   "execution_count": 50,
   "metadata": {},
   "outputs": [
    {
     "name": "stdout",
     "output_type": "stream",
     "text": [
      "+-----------+-----+-----+\n",
      "|month(date)|stock|count|\n",
      "+-----------+-----+-----+\n",
      "|          1|   AA|   22|\n",
      "|          1| ARNC|   22|\n",
      "|          1|   BA|   22|\n",
      "|          1|  CAT|   22|\n",
      "|          1|  CVX|   22|\n",
      "|          1|  DIS|   22|\n",
      "|          1|  DTE|   22|\n",
      "|          1|   ED|   22|\n",
      "|          1|   FL|   22|\n",
      "|          1|   GE|   22|\n",
      "|          1|   GT|   22|\n",
      "|          1|  HPQ|   22|\n",
      "|          1|  IBM|   22|\n",
      "|          1|   IP|   22|\n",
      "|          1|  JNJ|   22|\n",
      "|          1|   KO|   22|\n",
      "|          1|   MO|   22|\n",
      "|          1|  NAV|   22|\n",
      "|          1|   PG|   22|\n",
      "|          1|  XOM|   22|\n",
      "+-----------+-----+-----+\n",
      "only showing top 20 rows\n",
      "\n"
     ]
    }
   ],
   "source": [
    "#TODO: Write your code here\n",
    "year_1962_df.groupby(F.month('date'),'stock').count().orderBy('month(date)','stock').show()"
   ]
  },
  {
   "cell_type": "markdown",
   "metadata": {},
   "source": [
    "## Uniqueness\n",
    "\n",
    "Uniqueness requires that nothing will be recorded more than once based upon how that thing is identified. It is the inverse of an assessment of the level of duplication.\n",
    "\n",
    "Each entry within the dataset should only relate to a single event that has occurred and thus should not be duplicated. This is largely mediated by having the appropriate primary key, which means sticking to the requirements of a good primary key. All fields in the tables should be non-transitively dependent on the primary key.\n",
    "\n",
    "As such, deduplication of the dataset may be required. \n",
    "\n",
    "- **Measured by**: Analysis of the number of things assessed in the “real world” compared to the number of records of things in the dataset. This requires a reference dataset which is the ground truth;\n",
    "- **Units**: Percentage;\n",
    "- **Related to**: Consistency."
   ]
  },
  {
   "cell_type": "markdown",
   "metadata": {},
   "source": [
    "### Duplication Test\n",
    "For time-series data, it is important to check for duplications, as we typically expect all values to be unique within the dataset.\n",
    "\n",
    "The first thing to check will be if the primary key values within the dataset are unique - in our case, that will be a combination of the stock name and the date.\n",
    "\n",
    "Secondly, we want to check if the entries are all unique, which is done by checking for duplicates across that whole dataset."
   ]
  },
  {
   "cell_type": "markdown",
   "metadata": {},
   "source": [
    "> ℹ️ **Instructions** ℹ️\n",
    ">\n",
    "> Write code to determine if there are any duplicates within the data, and then proceed to correct this by dropping them from the dataframe.\n",
    ">\n",
    ">*You may use as many coding cells as necessary.*"
   ]
  },
  {
   "cell_type": "code",
   "execution_count": 51,
   "metadata": {},
   "outputs": [
    {
     "name": "stdout",
     "output_type": "stream",
     "text": [
      "+-------------------+-----+-----+\n",
      "|               date|stock|count|\n",
      "+-------------------+-----+-----+\n",
      "|1962-02-05 00:00:00|  HPQ|    4|\n",
      "|1962-02-23 00:00:00|  HPQ|    4|\n",
      "|1962-02-06 00:00:00|  HPQ|    4|\n",
      "|1962-02-01 00:00:00|  HPQ|    4|\n",
      "|1962-02-07 00:00:00|  HPQ|    4|\n",
      "|1962-02-02 00:00:00|  HPQ|    4|\n",
      "|1962-02-27 00:00:00|  HPQ|    4|\n",
      "|1962-02-26 00:00:00|  HPQ|    4|\n",
      "|1962-02-15 00:00:00|  HPQ|    4|\n",
      "|1962-02-21 00:00:00|  HPQ|    4|\n",
      "|1962-02-09 00:00:00|  HPQ|    4|\n",
      "|1962-02-13 00:00:00|  HPQ|    4|\n",
      "|1962-02-28 00:00:00|  HPQ|    4|\n",
      "|1962-02-08 00:00:00|  HPQ|    4|\n",
      "|1962-02-12 00:00:00|  HPQ|    4|\n",
      "|1962-02-20 00:00:00|  HPQ|    4|\n",
      "|1962-02-19 00:00:00|  HPQ|    4|\n",
      "|1962-02-14 00:00:00|  HPQ|    4|\n",
      "|1962-02-16 00:00:00|  HPQ|    4|\n",
      "|1962-09-19 00:00:00|   ED|    2|\n",
      "+-------------------+-----+-----+\n",
      "only showing top 20 rows\n",
      "\n"
     ]
    }
   ],
   "source": [
    "#INSERTED (Check for duplicates)\n",
    "year_1962_df.groupby(['date', 'stock']) \\\n",
    "  .count() \\\n",
    "  .where('count > 1') \\\n",
    "  .sort('count', ascending=False) \\\n",
    "  .show()"
   ]
  },
  {
   "cell_type": "code",
   "execution_count": 52,
   "metadata": {},
   "outputs": [],
   "source": [
    "#TODO: Write your code here\n",
    "year_1962_df=year_1962_df.dropDuplicates(['date', 'stock'])"
   ]
  },
  {
   "cell_type": "code",
   "execution_count": 53,
   "metadata": {},
   "outputs": [
    {
     "name": "stdout",
     "output_type": "stream",
     "text": [
      "+----+-----+-----+\n",
      "|date|stock|count|\n",
      "+----+-----+-----+\n",
      "+----+-----+-----+\n",
      "\n"
     ]
    }
   ],
   "source": [
    "#INSERTED (check again for duplicates)\n",
    "year_1962_df.groupby(['date', 'stock']) \\\n",
    "  .count() \\\n",
    "  .where('count > 1') \\\n",
    "  .sort('count', ascending=False) \\\n",
    "  .show()"
   ]
  },
  {
   "cell_type": "markdown",
   "metadata": {},
   "source": [
    "## Validity\n",
    "Data is valid if it conforms to the syntax (format, type, range) of its definition.\n",
    "\n",
    "Certain values within a field may have specific criteria required to make it valid, e.g., numerical columns cannot contain alphabetical characters, which can occur due to scientific notation.\n",
    "\n",
    "This can be more difficult to determine in stings, in which case you may have to check using regex. \n",
    "\n",
    "- **Measured by**: Comparison between the data and metadata or documentation for the data item;\n",
    "- **Units**: Percentage of data items deemed Valid or Invalid;\n",
    "- **Related to**: Accuracy, Completeness, Consistency, and Uniqueness."
   ]
  },
  {
   "cell_type": "markdown",
   "metadata": {},
   "source": [
    "We need to first define what we expect from our dataset:\n",
    "\n",
    "- stock: string (nullable = true) => Should be contained in the list of expected tickers\n",
    "- date: date (nullable = true) => Should conform to date format, and be in the past\n",
    "- open: double (nullable = true) => Should be positive or 0\n",
    "- high: double (nullable = true) => Should be positive or 0\n",
    "- low: double (nullable = true) => Should be positive or 0 (should be < high)\n",
    "- close: double (nullable = true) => Should be positive or 0 (should be <= high )\n",
    "- adj_close: double (nullable = true) => Should be positive or 0\n",
    "- volume: integer (nullable = true) => Should be positive or 0\n",
    "- high_avg: double (nullable = true) => Derived (not needed to test)\n",
    "- high_imp: double (nullable = true) => Derived (not needed to test)\n",
    "- day_of_week: string (nullable = true) => Derived (not needed to test)\n",
    "\n",
    "*Is there any other logic that we can incorporate?*"
   ]
  },
  {
   "cell_type": "markdown",
   "metadata": {},
   "source": [
    "> ℹ️ **Instructions** ℹ️\n",
    ">\n",
    "> Use the metadata to check if all the stocks in your current dataframe are valid. In other words, make sure you have no foreign/unknown tickers in your dataframe.\n",
    ">\n",
    ">*You may use as many coding cells as necessary.*\n"
   ]
  },
  {
   "cell_type": "code",
   "execution_count": 54,
   "metadata": {},
   "outputs": [
    {
     "data": {
      "text/plain": [
       "[]"
      ]
     },
     "execution_count": 54,
     "metadata": {},
     "output_type": "execute_result"
    }
   ],
   "source": [
    "#TODO: Write your code here\n",
    "#check if there are any stocks in the dataframe that are not contained in the metadata\n",
    "\n",
    "list(set(year_1962_df.select('stock').rdd.flatMap(lambda x: x).collect())-set(meta_df.select('symbol').rdd.flatMap(lambda x: x).collect()))"
   ]
  },
  {
   "cell_type": "markdown",
   "metadata": {},
   "source": [
    "> ℹ️ **Instructions** ℹ️\n",
    ">\n",
    ">\n",
    ">Check if the date column contains only valid dates and all dates are in the past.\n",
    ">\n",
    ">*Valid dates should already be checked in the data reading step.*"
   ]
  },
  {
   "cell_type": "code",
   "execution_count": 55,
   "metadata": {},
   "outputs": [
    {
     "name": "stdout",
     "output_type": "stream",
     "text": [
      "+----+----+----+---+-----+---------+------+-----+\n",
      "|date|open|high|low|close|adj_close|Volume|stock|\n",
      "+----+----+----+---+-----+---------+------+-----+\n",
      "+----+----+----+---+-----+---------+------+-----+\n",
      "\n"
     ]
    }
   ],
   "source": [
    "#TODO: Write your code here\n",
    "year_1962_df.filter((F.col('date')).isNull()).show()"
   ]
  },
  {
   "cell_type": "code",
   "execution_count": 56,
   "metadata": {},
   "outputs": [
    {
     "name": "stdout",
     "output_type": "stream",
     "text": [
      "+-------------------+-------------------+\n",
      "|          min(date)|          max(date)|\n",
      "+-------------------+-------------------+\n",
      "|1962-01-02 00:00:00|1962-12-31 00:00:00|\n",
      "+-------------------+-------------------+\n",
      "\n"
     ]
    }
   ],
   "source": [
    "#INSERTED (GET THE START AND END DATES OF year_1962_df)\n",
    "year_1962_df.agg(F.min(\"date\"), F.max(\"date\")).show()"
   ]
  },
  {
   "cell_type": "code",
   "execution_count": 57,
   "metadata": {},
   "outputs": [
    {
     "data": {
      "text/plain": [
       "0"
      ]
     },
     "execution_count": 57,
     "metadata": {},
     "output_type": "execute_result"
    }
   ],
   "source": [
    "#INSERTED (check if the all dates are in the past)\n",
    "import datetime as dt\n",
    "year_1962_df.where(F.col('date')>dt.datetime.now()).count()"
   ]
  },
  {
   "cell_type": "markdown",
   "metadata": {},
   "source": [
    "> ℹ️ **Instructions** ℹ️\n",
    ">\n",
    ">Check that all of numerical columns are positive."
   ]
  },
  {
   "cell_type": "code",
   "execution_count": 58,
   "metadata": {},
   "outputs": [
    {
     "name": "stdout",
     "output_type": "stream",
     "text": [
      "checking for negative values in open\n",
      "+----+----+----+---+-----+---------+------+-----+\n",
      "|date|open|high|low|close|adj_close|Volume|stock|\n",
      "+----+----+----+---+-----+---------+------+-----+\n",
      "+----+----+----+---+-----+---------+------+-----+\n",
      "\n",
      "checking for negative values in high\n",
      "+----+----+----+---+-----+---------+------+-----+\n",
      "|date|open|high|low|close|adj_close|Volume|stock|\n",
      "+----+----+----+---+-----+---------+------+-----+\n",
      "+----+----+----+---+-----+---------+------+-----+\n",
      "\n",
      "checking for negative values in low\n",
      "+----+----+----+---+-----+---------+------+-----+\n",
      "|date|open|high|low|close|adj_close|Volume|stock|\n",
      "+----+----+----+---+-----+---------+------+-----+\n",
      "+----+----+----+---+-----+---------+------+-----+\n",
      "\n",
      "checking for negative values in close\n",
      "+----+----+----+---+-----+---------+------+-----+\n",
      "|date|open|high|low|close|adj_close|Volume|stock|\n",
      "+----+----+----+---+-----+---------+------+-----+\n",
      "+----+----+----+---+-----+---------+------+-----+\n",
      "\n",
      "checking for negative values in adj_close\n",
      "+----+----+----+---+-----+---------+------+-----+\n",
      "|date|open|high|low|close|adj_close|Volume|stock|\n",
      "+----+----+----+---+-----+---------+------+-----+\n",
      "+----+----+----+---+-----+---------+------+-----+\n",
      "\n",
      "checking for negative values in volume\n",
      "+----+----+----+---+-----+---------+------+-----+\n",
      "|date|open|high|low|close|adj_close|Volume|stock|\n",
      "+----+----+----+---+-----+---------+------+-----+\n",
      "+----+----+----+---+-----+---------+------+-----+\n",
      "\n"
     ]
    }
   ],
   "source": [
    "#TODO: Write your code here\n",
    "for i in num_cols:\n",
    "    print(f'checking for negative values in {i}')\n",
    "    year_1962_df.filter(F.col(i)<0).show()"
   ]
  },
  {
   "cell_type": "markdown",
   "metadata": {},
   "source": [
    "### Save Updates\n",
    "\n",
    "With our initial work of checking the various dimensions of the data quality completed, we can now save these results to a CSV file.  "
   ]
  },
  {
   "cell_type": "code",
   "execution_count": 59,
   "metadata": {},
   "outputs": [
    {
     "name": "stdout",
     "output_type": "stream",
     "text": [
      "+-------------------+-------------------+-------------------+----------+----------+------------+---------+-----+\n",
      "|               date|               open|               high|       low|     close|   adj_close|   Volume|stock|\n",
      "+-------------------+-------------------+-------------------+----------+----------+------------+---------+-----+\n",
      "|1962-02-26 00:00:00| 0.7562099099159241|  0.758713960647583| 0.7399339| 0.7461939|0.0017756341|1257900.0|   GE|\n",
      "|1962-02-06 00:00:00| 1.1014219280169133| 3.3854167461395264|      20.0| 3.3630953| 0.053539913| 145600.0|  CVX|\n",
      "|1962-09-14 00:00:00|            0.21875|            0.21875|0.21614583|   0.21875|0.0035986318| 460800.0|   KO|\n",
      "|1962-04-18 00:00:00|  6.416009902954102|  6.448050022125244|  6.339915|  6.355935|   1.5028032|  41900.0|   AA|\n",
      "|1962-05-08 00:00:00| 1.1014219280169133|  6.416666507720947| 6.2604165| 6.2604165|    0.820745|  30000.0|   FL|\n",
      "|1962-05-08 00:00:00|  6.328333377838135|  6.328333377838135| 6.1266665| 6.1266665|  0.49672183|1032000.0|  IBM|\n",
      "|1962-09-27 00:00:00| 1.1014219280169133|            29.3125|    29.125|   29.1875|   0.5014075|   1800.0|  DTE|\n",
      "|1962-01-10 00:00:00| 0.7161458134651184| 0.7236578464508057| 0.7136418|0.71990186|0.0017130706|1956800.0|   GE|\n",
      "|1962-10-08 00:00:00| 0.2115885466337204| 0.2115885466337204|0.20833333|0.21126302|0.0034754681| 384000.0|   KO|\n",
      "|1962-05-29 00:00:00| 1.1014219280169133|            8.71875|    8.1875|   8.71875|  0.19961333| 168800.0|   ED|\n",
      "|1962-10-26 00:00:00| 1.1014219280169133|            28.4375|    28.125|   28.4375|  0.48852363|   2200.0|  DTE|\n",
      "|1962-08-10 00:00:00| 1.1014219280169133|  6.375207901000977| 6.2543507|  6.375208|   0.5673862|  71700.0|   IP|\n",
      "|1962-12-28 00:00:00| 1.1014219280169133|            3.90625| 3.8671875|   3.90625|  0.06380817| 132800.0|  CVX|\n",
      "|1962-04-02 00:00:00| 1.1014219280169133|  3.519345283508301| 3.4672618| 3.4747024| 0.055316698|  83200.0|  CVX|\n",
      "|1962-08-09 00:00:00| 1.1014219280169133|  3.340773820877075| 3.3184524| 3.3407738|   0.0541107|  75200.0|  CVX|\n",
      "|1962-03-22 00:00:00| 0.2513020932674408| 0.2545572817325592| 0.2513021|0.25325522|0.0041068336|1344000.0|   KO|\n",
      "|1962-05-17 00:00:00| 1.1014219280169133|          1.6796875| 1.6484375| 1.6640625|  0.01499716|      0.0|  XOM|\n",
      "|1962-07-20 00:00:00| 1.1014219280169133|  6.284564971923828| 6.1032796|  6.284565|   0.5593194|  45400.0|   IP|\n",
      "|1962-04-19 00:00:00|0.10288941860198975|0.10288941860198975|0.10067198|0.10155895|0.0056328103|1437400.0|  HPQ|\n",
      "|1962-02-13 00:00:00| 1.6979166269302368|           1.703125| 1.6822916| 1.6927084|   0.1454009|  86400.0|  CAT|\n",
      "+-------------------+-------------------+-------------------+----------+----------+------------+---------+-----+\n",
      "only showing top 20 rows\n",
      "\n"
     ]
    }
   ],
   "source": [
    "year_1962_df.show()"
   ]
  },
  {
   "cell_type": "code",
   "execution_count": 60,
   "metadata": {},
   "outputs": [
    {
     "name": "stdout",
     "output_type": "stream",
     "text": [
      "root\n",
      " |-- date: timestamp (nullable = true)\n",
      " |-- open: double (nullable = true)\n",
      " |-- high: double (nullable = true)\n",
      " |-- low: float (nullable = true)\n",
      " |-- close: float (nullable = true)\n",
      " |-- adj_close: float (nullable = true)\n",
      " |-- Volume: float (nullable = true)\n",
      " |-- stock: string (nullable = true)\n",
      "\n"
     ]
    }
   ],
   "source": [
    "year_1962_df.printSchema()"
   ]
  },
  {
   "cell_type": "code",
   "execution_count": 61,
   "metadata": {},
   "outputs": [],
   "source": [
    "#INSERTED (Convert time-stamp format to date format)\n",
    "year_1962_df = year_1962_df.withColumn('date', F.to_date(F.col('date')))"
   ]
  },
  {
   "cell_type": "code",
   "execution_count": 62,
   "metadata": {},
   "outputs": [
    {
     "data": {
      "text/html": [
       "<div>\n",
       "<style scoped>\n",
       "    .dataframe tbody tr th:only-of-type {\n",
       "        vertical-align: middle;\n",
       "    }\n",
       "\n",
       "    .dataframe tbody tr th {\n",
       "        vertical-align: top;\n",
       "    }\n",
       "\n",
       "    .dataframe thead th {\n",
       "        text-align: right;\n",
       "    }\n",
       "</style>\n",
       "<table border=\"1\" class=\"dataframe\">\n",
       "  <thead>\n",
       "    <tr style=\"text-align: right;\">\n",
       "      <th></th>\n",
       "      <th>date</th>\n",
       "      <th>open</th>\n",
       "      <th>high</th>\n",
       "      <th>low</th>\n",
       "      <th>close</th>\n",
       "      <th>adj_close</th>\n",
       "      <th>Volume</th>\n",
       "      <th>stock</th>\n",
       "    </tr>\n",
       "  </thead>\n",
       "  <tbody>\n",
       "    <tr>\n",
       "      <th>0</th>\n",
       "      <td>1962-01-02</td>\n",
       "      <td>1.101422</td>\n",
       "      <td>0.223380</td>\n",
       "      <td>0.222222</td>\n",
       "      <td>0.223380</td>\n",
       "      <td>6.281419e-07</td>\n",
       "      <td>0.0</td>\n",
       "      <td>JNJ</td>\n",
       "    </tr>\n",
       "    <tr>\n",
       "      <th>1</th>\n",
       "      <td>1962-01-02</td>\n",
       "      <td>6.125844</td>\n",
       "      <td>6.160982</td>\n",
       "      <td>6.125844</td>\n",
       "      <td>6.125844</td>\n",
       "      <td>1.414651e+00</td>\n",
       "      <td>59700.0</td>\n",
       "      <td>ARNC</td>\n",
       "    </tr>\n",
       "    <tr>\n",
       "      <th>2</th>\n",
       "      <td>1962-01-02</td>\n",
       "      <td>0.092908</td>\n",
       "      <td>0.096026</td>\n",
       "      <td>0.092908</td>\n",
       "      <td>0.092908</td>\n",
       "      <td>3.551725e-02</td>\n",
       "      <td>817400.0</td>\n",
       "      <td>DIS</td>\n",
       "    </tr>\n",
       "    <tr>\n",
       "      <th>3</th>\n",
       "      <td>1962-01-02</td>\n",
       "      <td>1.101422</td>\n",
       "      <td>3.296131</td>\n",
       "      <td>3.244048</td>\n",
       "      <td>3.296131</td>\n",
       "      <td>5.199251e-02</td>\n",
       "      <td>105600.0</td>\n",
       "      <td>CVX</td>\n",
       "    </tr>\n",
       "    <tr>\n",
       "      <th>4</th>\n",
       "      <td>1962-01-02</td>\n",
       "      <td>1.101422</td>\n",
       "      <td>0.191840</td>\n",
       "      <td>0.189236</td>\n",
       "      <td>0.189236</td>\n",
       "      <td>2.316218e-04</td>\n",
       "      <td>345600.0</td>\n",
       "      <td>MO</td>\n",
       "    </tr>\n",
       "    <tr>\n",
       "      <th>...</th>\n",
       "      <td>...</td>\n",
       "      <td>...</td>\n",
       "      <td>...</td>\n",
       "      <td>...</td>\n",
       "      <td>...</td>\n",
       "      <td>...</td>\n",
       "      <td>...</td>\n",
       "      <td>...</td>\n",
       "    </tr>\n",
       "    <tr>\n",
       "      <th>4941</th>\n",
       "      <td>1962-12-31</td>\n",
       "      <td>1.101422</td>\n",
       "      <td>3.937500</td>\n",
       "      <td>3.898438</td>\n",
       "      <td>3.937500</td>\n",
       "      <td>6.431865e-02</td>\n",
       "      <td>105600.0</td>\n",
       "      <td>CVX</td>\n",
       "    </tr>\n",
       "    <tr>\n",
       "      <th>4942</th>\n",
       "      <td>1962-12-31</td>\n",
       "      <td>1.101422</td>\n",
       "      <td>6.625986</td>\n",
       "      <td>6.502712</td>\n",
       "      <td>6.625986</td>\n",
       "      <td>6.012197e-01</td>\n",
       "      <td>52700.0</td>\n",
       "      <td>IP</td>\n",
       "    </tr>\n",
       "    <tr>\n",
       "      <th>4943</th>\n",
       "      <td>1962-12-31</td>\n",
       "      <td>0.085593</td>\n",
       "      <td>0.086037</td>\n",
       "      <td>0.085593</td>\n",
       "      <td>0.085593</td>\n",
       "      <td>4.747302e-03</td>\n",
       "      <td>1127400.0</td>\n",
       "      <td>HPQ</td>\n",
       "    </tr>\n",
       "    <tr>\n",
       "      <th>4944</th>\n",
       "      <td>1962-12-31</td>\n",
       "      <td>1.101422</td>\n",
       "      <td>0.171875</td>\n",
       "      <td>0.169560</td>\n",
       "      <td>0.169560</td>\n",
       "      <td>4.827062e-07</td>\n",
       "      <td>216000.0</td>\n",
       "      <td>JNJ</td>\n",
       "    </tr>\n",
       "    <tr>\n",
       "      <th>4945</th>\n",
       "      <td>1962-12-31</td>\n",
       "      <td>1.101422</td>\n",
       "      <td>0.128472</td>\n",
       "      <td>0.126736</td>\n",
       "      <td>0.127387</td>\n",
       "      <td>1.634534e-04</td>\n",
       "      <td>1440000.0</td>\n",
       "      <td>MO</td>\n",
       "    </tr>\n",
       "  </tbody>\n",
       "</table>\n",
       "<p>4946 rows × 8 columns</p>\n",
       "</div>"
      ],
      "text/plain": [
       "            date      open      high       low     close     adj_close  \\\n",
       "0     1962-01-02  1.101422  0.223380  0.222222  0.223380  6.281419e-07   \n",
       "1     1962-01-02  6.125844  6.160982  6.125844  6.125844  1.414651e+00   \n",
       "2     1962-01-02  0.092908  0.096026  0.092908  0.092908  3.551725e-02   \n",
       "3     1962-01-02  1.101422  3.296131  3.244048  3.296131  5.199251e-02   \n",
       "4     1962-01-02  1.101422  0.191840  0.189236  0.189236  2.316218e-04   \n",
       "...          ...       ...       ...       ...       ...           ...   \n",
       "4941  1962-12-31  1.101422  3.937500  3.898438  3.937500  6.431865e-02   \n",
       "4942  1962-12-31  1.101422  6.625986  6.502712  6.625986  6.012197e-01   \n",
       "4943  1962-12-31  0.085593  0.086037  0.085593  0.085593  4.747302e-03   \n",
       "4944  1962-12-31  1.101422  0.171875  0.169560  0.169560  4.827062e-07   \n",
       "4945  1962-12-31  1.101422  0.128472  0.126736  0.127387  1.634534e-04   \n",
       "\n",
       "         Volume stock  \n",
       "0           0.0   JNJ  \n",
       "1       59700.0  ARNC  \n",
       "2      817400.0   DIS  \n",
       "3      105600.0   CVX  \n",
       "4      345600.0    MO  \n",
       "...         ...   ...  \n",
       "4941   105600.0   CVX  \n",
       "4942    52700.0    IP  \n",
       "4943  1127400.0   HPQ  \n",
       "4944   216000.0   JNJ  \n",
       "4945  1440000.0    MO  \n",
       "\n",
       "[4946 rows x 8 columns]"
      ]
     },
     "execution_count": 62,
     "metadata": {},
     "output_type": "execute_result"
    }
   ],
   "source": [
    "pd_df = year_1962_df.orderBy('date').toPandas()\n",
    "\n",
    "pd_df"
   ]
  },
  {
   "cell_type": "code",
   "execution_count": 63,
   "metadata": {},
   "outputs": [],
   "source": [
    "pd_df.to_csv('./Olusoji_Onigbinde_data_profiling.csv')"
   ]
  },
  {
   "cell_type": "code",
   "execution_count": 64,
   "metadata": {},
   "outputs": [],
   "source": [
    "spark.stop()"
   ]
  }
 ],
 "metadata": {
  "kernelspec": {
   "display_name": "Python 3 (ipykernel)",
   "language": "python",
   "name": "python3"
  },
  "language_info": {
   "codemirror_mode": {
    "name": "ipython",
    "version": 3
   },
   "file_extension": ".py",
   "mimetype": "text/x-python",
   "name": "python",
   "nbconvert_exporter": "python",
   "pygments_lexer": "ipython3",
   "version": "3.9.12"
  },
  "vscode": {
   "interpreter": {
    "hash": "a077222d77dfe082b8f1dd562ad70e458ac2ab76993a0b248ab0476e32e9e8dd"
   }
  }
 },
 "nbformat": 4,
 "nbformat_minor": 2
}
