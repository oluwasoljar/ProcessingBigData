{
 "cells": [
  {
   "cell_type": "markdown",
   "metadata": {},
   "source": [
    "# Processing Big Data - Data profiling\n",
    "\n",
    "© Explore Data Science Academy\n",
    "\n",
    "## Honour Code\n",
    "I {OLUSOJI, ONIGBINDE}, confirm - by submitting this document - that the solutions in this notebook are a result of my own work and that I abide by the [EDSA honour code](https://drive.google.com/file/d/1QDCjGZJ8-FmJE3bZdIQNwnJyQKPhHZBn/view?usp=sharing).\n",
    "    Non-compliance with the honour code constitutes a material breach of contract.\n",
    "\n",
    "## Context\n",
    "\n",
    "Having completed the first step - data ingestion, the data now needs to be thoroughly prepared so that it is readable, reliable and robust. As the Data Engineer in the team, this will be your responsibility. The Data Scientists are looking to you to clean this data so that model development and deployment become seamless when the data is used in a production environment. Having completed your Data Engineering course recently, your manager Gnissecorp Atadgid, asks you to create data summaries and perform checks using the six dimensions of data quality.\n",
    "\n",
    "<div align=\"center\" style=\"width: 600px; font-size: 80%; text-align: center; margin: 0 auto\">\n",
    "<img src=\"https://github.com/Explore-AI/Pictures/raw/master/data_engineering/transform/predict/DataQuality.jpg\"\n",
    "     alt=\"Data Quality\"\n",
    "     style=\"float: center; padding-bottom=0.5em\"\n",
    "     width=100%/>\n",
    "     <p><em>Figure 1. Six dimensions of data quality</em></p>\n",
    "</div>"
   ]
  },
  {
   "cell_type": "markdown",
   "metadata": {},
   "source": [
    "## Import libraries\n",
    "Below we import the libraries required to complete this section of the predict."
   ]
  },
  {
   "cell_type": "code",
   "execution_count": 1,
   "metadata": {},
   "outputs": [],
   "source": [
    "import pandas as pd\n",
    "import numpy as np\n",
    "import matplotlib.pyplot as plt\n",
    "\n",
    "from pyspark import SparkContext\n",
    "from pyspark.sql import SparkSession\n",
    "from pyspark.sql import functions as F\n",
    "from pyspark.sql.types import *"
   ]
  },
  {
   "cell_type": "markdown",
   "metadata": {},
   "source": [
    "Remember that we need a `SparkContext` and `SparkSession` to interface with Spark.\n",
    "We will mostly be using the `SparkContext` to interact with RDDs \n",
    "and the `SparkSession` to interface with Python objects.\n",
    "\n",
    "> ℹ️ **Instructions** ℹ️\n",
    ">\n",
    ">Initialise a new **Spark Context** and **Session** that you will use to interface with Spark."
   ]
  },
  {
   "cell_type": "code",
   "execution_count": 2,
   "metadata": {},
   "outputs": [],
   "source": [
    "#TODO: Write your code here.\n",
    "sc = SparkContext()\n",
    "spark = SparkSession(sc)"
   ]
  },
  {
   "cell_type": "markdown",
   "metadata": {},
   "source": [
    "## Parquet files\n",
    "In the previous section of the predict, you generated parquet files to your local directory. You will be making use of these files to continue with this section of the predict. Please make sure that your parquet files are specifically for the year **1962**. Any other year used outside of **1962** will produce incorrect answers and have a negative impact on your overall predict mark.\n",
    "\n",
    "> ℹ️ **Instructions** ℹ️\n",
    ">\n",
    "> Read the parquet files stored in your directory for the year **1962** into a Spark DataFrame."
   ]
  },
  {
   "cell_type": "code",
   "execution_count": 3,
   "metadata": {},
   "outputs": [],
   "source": [
    "#TODO: Write your code here\n",
    "year_1962_df = spark.read.parquet('transformed_data/')"
   ]
  },
  {
   "cell_type": "code",
   "execution_count": 4,
   "metadata": {},
   "outputs": [
    {
     "name": "stdout",
     "output_type": "stream",
     "text": [
      "+-------------------+----------+-----------+----------+----------+-----------+--------+-----+\n",
      "|               date|      open|       high|       low|     close|  adj_close|  Volume|stock|\n",
      "+-------------------+----------+-----------+----------+----------+-----------+--------+-----+\n",
      "|1962-01-02 00:00:00| 1.6041666|  1.6197916| 1.5885416| 1.6041666| 0.13695742|163200.0|  CAT|\n",
      "|1962-01-02 00:00:00| 6.1258435|   6.160982| 6.1258435| 6.1258435|  1.4146507| 59700.0| ARNC|\n",
      "|1962-01-02 00:00:00|0.83744854| 0.83744854|0.82304525|0.82304525|  0.1457476|352200.0|   BA|\n",
      "|1962-01-02 00:00:00|  6.532155|   6.556185|  6.532155|  6.532155|  1.5366576| 55900.0|   AA|\n",
      "|1962-01-02 00:00:00|0.09290839|0.096026115|0.09290839|0.09290839|0.035517246|817400.0|  DIS|\n",
      "+-------------------+----------+-----------+----------+----------+-----------+--------+-----+\n",
      "only showing top 5 rows\n",
      "\n"
     ]
    }
   ],
   "source": [
    "#INSERTED (To get start of dataframe. Take note of the date)\n",
    "from pyspark.sql.functions import col\n",
    "year_1962_df.sort(col('date').asc()).show(5)"
   ]
  },
  {
   "cell_type": "code",
   "execution_count": 5,
   "metadata": {},
   "outputs": [
    {
     "name": "stdout",
     "output_type": "stream",
     "text": [
      "+-------------------+---------+---------+----------+----------+-----------+---------+-----+\n",
      "|               date|     open|     high|       low|     close|  adj_close|   Volume|stock|\n",
      "+-------------------+---------+---------+----------+----------+-----------+---------+-----+\n",
      "|1962-12-31 00:00:00|1.5416666|   1.5625| 1.5260416| 1.5572916| 0.13672175|  98400.0|  CAT|\n",
      "|1962-12-31 00:00:00|5.1302476|5.1302476|  5.071683| 5.1185346|  1.2070543|  58200.0| ARNC|\n",
      "|1962-12-31 00:00:00|0.6069959|0.6111111| 0.6069959| 0.6111111| 0.11326626|1123400.0|   BA|\n",
      "|1962-12-31 00:00:00|  5.45481|  5.45481|   5.41476|    5.4468|  1.3085586|  54500.0|   AA|\n",
      "|1962-12-31 00:00:00|0.0745013|0.0745013|0.07129004|0.07225342|0.027980544|1245600.0|  DIS|\n",
      "+-------------------+---------+---------+----------+----------+-----------+---------+-----+\n",
      "only showing top 5 rows\n",
      "\n"
     ]
    }
   ],
   "source": [
    "#INSERTED (To get end of dataframe. Take note of the date)\n",
    "from pyspark.sql.functions import col\n",
    "year_1962_df.sort(col('date').desc()).show(5)"
   ]
  },
  {
   "cell_type": "markdown",
   "metadata": {},
   "source": [
    "## Metadata \n",
    "\n",
    "Metadata is data containing additional information about the data itself. In the cloud storage, there is a metadata file called [`symbols_valid_meta.csv`](https://processing-big-data-predict-stocks-data.s3.eu-west-1.amazonaws.com/symbols_valid_meta.csv) that is collocated with the stock market data. You will need to download this to use when performing your data quality checks.\n",
    "\n",
    "> ℹ️ **Instructions** ℹ️\n",
    ">\n",
    "> Download the metadata from the S3 bucket and read it into a Spark DataFrame."
   ]
  },
  {
   "cell_type": "code",
   "execution_count": 6,
   "metadata": {},
   "outputs": [
    {
     "data": {
      "text/html": [
       "<div>\n",
       "<style scoped>\n",
       "    .dataframe tbody tr th:only-of-type {\n",
       "        vertical-align: middle;\n",
       "    }\n",
       "\n",
       "    .dataframe tbody tr th {\n",
       "        vertical-align: top;\n",
       "    }\n",
       "\n",
       "    .dataframe thead th {\n",
       "        text-align: right;\n",
       "    }\n",
       "</style>\n",
       "<table border=\"1\" class=\"dataframe\">\n",
       "  <thead>\n",
       "    <tr style=\"text-align: right;\">\n",
       "      <th></th>\n",
       "      <th>Nasdaq Traded</th>\n",
       "      <th>Symbol</th>\n",
       "      <th>Security Name</th>\n",
       "      <th>Listing Exchange</th>\n",
       "      <th>Market Category</th>\n",
       "      <th>ETF</th>\n",
       "      <th>Round Lot Size</th>\n",
       "      <th>Test Issue</th>\n",
       "      <th>Financial Status</th>\n",
       "      <th>CQS Symbol</th>\n",
       "      <th>NASDAQ Symbol</th>\n",
       "      <th>NextShares</th>\n",
       "    </tr>\n",
       "  </thead>\n",
       "  <tbody>\n",
       "    <tr>\n",
       "      <th>0</th>\n",
       "      <td>Y</td>\n",
       "      <td>A</td>\n",
       "      <td>Agilent Technologies, Inc. Common Stock</td>\n",
       "      <td>N</td>\n",
       "      <td></td>\n",
       "      <td>N</td>\n",
       "      <td>100.0</td>\n",
       "      <td>N</td>\n",
       "      <td>None</td>\n",
       "      <td>A</td>\n",
       "      <td>A</td>\n",
       "      <td>N</td>\n",
       "    </tr>\n",
       "    <tr>\n",
       "      <th>1</th>\n",
       "      <td>Y</td>\n",
       "      <td>AA</td>\n",
       "      <td>Alcoa Corporation Common Stock</td>\n",
       "      <td>N</td>\n",
       "      <td></td>\n",
       "      <td>N</td>\n",
       "      <td>100.0</td>\n",
       "      <td>N</td>\n",
       "      <td>None</td>\n",
       "      <td>AA</td>\n",
       "      <td>AA</td>\n",
       "      <td>N</td>\n",
       "    </tr>\n",
       "    <tr>\n",
       "      <th>2</th>\n",
       "      <td>Y</td>\n",
       "      <td>AAAU</td>\n",
       "      <td>Perth Mint Physical Gold ETF</td>\n",
       "      <td>P</td>\n",
       "      <td></td>\n",
       "      <td>Y</td>\n",
       "      <td>100.0</td>\n",
       "      <td>N</td>\n",
       "      <td>None</td>\n",
       "      <td>AAAU</td>\n",
       "      <td>AAAU</td>\n",
       "      <td>N</td>\n",
       "    </tr>\n",
       "    <tr>\n",
       "      <th>3</th>\n",
       "      <td>Y</td>\n",
       "      <td>AACG</td>\n",
       "      <td>ATA Creativity Global - American Depositary Sh...</td>\n",
       "      <td>Q</td>\n",
       "      <td>G</td>\n",
       "      <td>N</td>\n",
       "      <td>100.0</td>\n",
       "      <td>N</td>\n",
       "      <td>N</td>\n",
       "      <td>None</td>\n",
       "      <td>AACG</td>\n",
       "      <td>N</td>\n",
       "    </tr>\n",
       "    <tr>\n",
       "      <th>4</th>\n",
       "      <td>Y</td>\n",
       "      <td>AADR</td>\n",
       "      <td>AdvisorShares Dorsey Wright ADR ETF</td>\n",
       "      <td>P</td>\n",
       "      <td></td>\n",
       "      <td>Y</td>\n",
       "      <td>100.0</td>\n",
       "      <td>N</td>\n",
       "      <td>None</td>\n",
       "      <td>AADR</td>\n",
       "      <td>AADR</td>\n",
       "      <td>N</td>\n",
       "    </tr>\n",
       "    <tr>\n",
       "      <th>...</th>\n",
       "      <td>...</td>\n",
       "      <td>...</td>\n",
       "      <td>...</td>\n",
       "      <td>...</td>\n",
       "      <td>...</td>\n",
       "      <td>...</td>\n",
       "      <td>...</td>\n",
       "      <td>...</td>\n",
       "      <td>...</td>\n",
       "      <td>...</td>\n",
       "      <td>...</td>\n",
       "      <td>...</td>\n",
       "    </tr>\n",
       "    <tr>\n",
       "      <th>8044</th>\n",
       "      <td>Y</td>\n",
       "      <td>ZUO</td>\n",
       "      <td>Zuora, Inc. Class A Common Stock</td>\n",
       "      <td>N</td>\n",
       "      <td></td>\n",
       "      <td>N</td>\n",
       "      <td>100.0</td>\n",
       "      <td>N</td>\n",
       "      <td>None</td>\n",
       "      <td>ZUO</td>\n",
       "      <td>ZUO</td>\n",
       "      <td>N</td>\n",
       "    </tr>\n",
       "    <tr>\n",
       "      <th>8045</th>\n",
       "      <td>Y</td>\n",
       "      <td>ZVO</td>\n",
       "      <td>Zovio Inc. - Common Stock</td>\n",
       "      <td>Q</td>\n",
       "      <td>Q</td>\n",
       "      <td>N</td>\n",
       "      <td>100.0</td>\n",
       "      <td>N</td>\n",
       "      <td>N</td>\n",
       "      <td>None</td>\n",
       "      <td>ZVO</td>\n",
       "      <td>N</td>\n",
       "    </tr>\n",
       "    <tr>\n",
       "      <th>8046</th>\n",
       "      <td>Y</td>\n",
       "      <td>ZYME</td>\n",
       "      <td>Zymeworks Inc. Common Shares</td>\n",
       "      <td>N</td>\n",
       "      <td></td>\n",
       "      <td>N</td>\n",
       "      <td>100.0</td>\n",
       "      <td>N</td>\n",
       "      <td>None</td>\n",
       "      <td>ZYME</td>\n",
       "      <td>ZYME</td>\n",
       "      <td>N</td>\n",
       "    </tr>\n",
       "    <tr>\n",
       "      <th>8047</th>\n",
       "      <td>Y</td>\n",
       "      <td>ZYNE</td>\n",
       "      <td>Zynerba Pharmaceuticals, Inc. - Common Stock</td>\n",
       "      <td>Q</td>\n",
       "      <td>G</td>\n",
       "      <td>N</td>\n",
       "      <td>100.0</td>\n",
       "      <td>N</td>\n",
       "      <td>N</td>\n",
       "      <td>None</td>\n",
       "      <td>ZYNE</td>\n",
       "      <td>N</td>\n",
       "    </tr>\n",
       "    <tr>\n",
       "      <th>8048</th>\n",
       "      <td>Y</td>\n",
       "      <td>ZYXI</td>\n",
       "      <td>Zynex, Inc. - Common Stock</td>\n",
       "      <td>Q</td>\n",
       "      <td>S</td>\n",
       "      <td>N</td>\n",
       "      <td>100.0</td>\n",
       "      <td>N</td>\n",
       "      <td>N</td>\n",
       "      <td>None</td>\n",
       "      <td>ZYXI</td>\n",
       "      <td>N</td>\n",
       "    </tr>\n",
       "  </tbody>\n",
       "</table>\n",
       "<p>8049 rows × 12 columns</p>\n",
       "</div>"
      ],
      "text/plain": [
       "     Nasdaq Traded Symbol                                      Security Name  \\\n",
       "0                Y      A            Agilent Technologies, Inc. Common Stock   \n",
       "1                Y     AA                    Alcoa Corporation Common Stock    \n",
       "2                Y   AAAU                       Perth Mint Physical Gold ETF   \n",
       "3                Y   AACG  ATA Creativity Global - American Depositary Sh...   \n",
       "4                Y   AADR                AdvisorShares Dorsey Wright ADR ETF   \n",
       "...            ...    ...                                                ...   \n",
       "8044             Y    ZUO                   Zuora, Inc. Class A Common Stock   \n",
       "8045             Y    ZVO                          Zovio Inc. - Common Stock   \n",
       "8046             Y   ZYME                       Zymeworks Inc. Common Shares   \n",
       "8047             Y   ZYNE       Zynerba Pharmaceuticals, Inc. - Common Stock   \n",
       "8048             Y   ZYXI                         Zynex, Inc. - Common Stock   \n",
       "\n",
       "     Listing Exchange Market Category ETF Round Lot Size Test Issue  \\\n",
       "0                   N                   N          100.0          N   \n",
       "1                   N                   N          100.0          N   \n",
       "2                   P                   Y          100.0          N   \n",
       "3                   Q               G   N          100.0          N   \n",
       "4                   P                   Y          100.0          N   \n",
       "...               ...             ...  ..            ...        ...   \n",
       "8044                N                   N          100.0          N   \n",
       "8045                Q               Q   N          100.0          N   \n",
       "8046                N                   N          100.0          N   \n",
       "8047                Q               G   N          100.0          N   \n",
       "8048                Q               S   N          100.0          N   \n",
       "\n",
       "     Financial Status CQS Symbol NASDAQ Symbol NextShares  \n",
       "0                None          A             A          N  \n",
       "1                None         AA            AA          N  \n",
       "2                None       AAAU          AAAU          N  \n",
       "3                   N       None          AACG          N  \n",
       "4                None       AADR          AADR          N  \n",
       "...               ...        ...           ...        ...  \n",
       "8044             None        ZUO           ZUO          N  \n",
       "8045                N       None           ZVO          N  \n",
       "8046             None       ZYME          ZYME          N  \n",
       "8047                N       None          ZYNE          N  \n",
       "8048                N       None          ZYXI          N  \n",
       "\n",
       "[8049 rows x 12 columns]"
      ]
     },
     "execution_count": 6,
     "metadata": {},
     "output_type": "execute_result"
    }
   ],
   "source": [
    "#TODO: Write your code here\n",
    "meta_df = spark.read.csv('symbols_valid_meta.csv', header=True)\n",
    "meta_df.toPandas()"
   ]
  },
  {
   "cell_type": "code",
   "execution_count": 7,
   "metadata": {},
   "outputs": [
    {
     "data": {
      "text/html": [
       "<div>\n",
       "<style scoped>\n",
       "    .dataframe tbody tr th:only-of-type {\n",
       "        vertical-align: middle;\n",
       "    }\n",
       "\n",
       "    .dataframe tbody tr th {\n",
       "        vertical-align: top;\n",
       "    }\n",
       "\n",
       "    .dataframe thead th {\n",
       "        text-align: right;\n",
       "    }\n",
       "</style>\n",
       "<table border=\"1\" class=\"dataframe\">\n",
       "  <thead>\n",
       "    <tr style=\"text-align: right;\">\n",
       "      <th></th>\n",
       "      <th>Nasdaq Traded</th>\n",
       "      <th>Symbol</th>\n",
       "      <th>Security Name</th>\n",
       "      <th>Listing Exchange</th>\n",
       "      <th>Market Category</th>\n",
       "      <th>ETF</th>\n",
       "      <th>Round Lot Size</th>\n",
       "      <th>Test Issue</th>\n",
       "      <th>Financial Status</th>\n",
       "      <th>CQS Symbol</th>\n",
       "      <th>NASDAQ Symbol</th>\n",
       "      <th>NextShares</th>\n",
       "    </tr>\n",
       "  </thead>\n",
       "  <tbody>\n",
       "    <tr>\n",
       "      <th>0</th>\n",
       "      <td>Y</td>\n",
       "      <td>A</td>\n",
       "      <td>Agilent Technologies, Inc. Common Stock</td>\n",
       "      <td>N</td>\n",
       "      <td></td>\n",
       "      <td>N</td>\n",
       "      <td>100.0</td>\n",
       "      <td>N</td>\n",
       "      <td>NaN</td>\n",
       "      <td>A</td>\n",
       "      <td>A</td>\n",
       "      <td>N</td>\n",
       "    </tr>\n",
       "    <tr>\n",
       "      <th>1</th>\n",
       "      <td>Y</td>\n",
       "      <td>AA</td>\n",
       "      <td>Alcoa Corporation Common Stock</td>\n",
       "      <td>N</td>\n",
       "      <td></td>\n",
       "      <td>N</td>\n",
       "      <td>100.0</td>\n",
       "      <td>N</td>\n",
       "      <td>NaN</td>\n",
       "      <td>AA</td>\n",
       "      <td>AA</td>\n",
       "      <td>N</td>\n",
       "    </tr>\n",
       "    <tr>\n",
       "      <th>2</th>\n",
       "      <td>Y</td>\n",
       "      <td>AAAU</td>\n",
       "      <td>Perth Mint Physical Gold ETF</td>\n",
       "      <td>P</td>\n",
       "      <td></td>\n",
       "      <td>Y</td>\n",
       "      <td>100.0</td>\n",
       "      <td>N</td>\n",
       "      <td>NaN</td>\n",
       "      <td>AAAU</td>\n",
       "      <td>AAAU</td>\n",
       "      <td>N</td>\n",
       "    </tr>\n",
       "    <tr>\n",
       "      <th>3</th>\n",
       "      <td>Y</td>\n",
       "      <td>AACG</td>\n",
       "      <td>ATA Creativity Global - American Depositary Sh...</td>\n",
       "      <td>Q</td>\n",
       "      <td>G</td>\n",
       "      <td>N</td>\n",
       "      <td>100.0</td>\n",
       "      <td>N</td>\n",
       "      <td>N</td>\n",
       "      <td>NaN</td>\n",
       "      <td>AACG</td>\n",
       "      <td>N</td>\n",
       "    </tr>\n",
       "    <tr>\n",
       "      <th>4</th>\n",
       "      <td>Y</td>\n",
       "      <td>AADR</td>\n",
       "      <td>AdvisorShares Dorsey Wright ADR ETF</td>\n",
       "      <td>P</td>\n",
       "      <td></td>\n",
       "      <td>Y</td>\n",
       "      <td>100.0</td>\n",
       "      <td>N</td>\n",
       "      <td>NaN</td>\n",
       "      <td>AADR</td>\n",
       "      <td>AADR</td>\n",
       "      <td>N</td>\n",
       "    </tr>\n",
       "  </tbody>\n",
       "</table>\n",
       "</div>"
      ],
      "text/plain": [
       "  Nasdaq Traded Symbol                                      Security Name  \\\n",
       "0             Y      A            Agilent Technologies, Inc. Common Stock   \n",
       "1             Y     AA                    Alcoa Corporation Common Stock    \n",
       "2             Y   AAAU                       Perth Mint Physical Gold ETF   \n",
       "3             Y   AACG  ATA Creativity Global - American Depositary Sh...   \n",
       "4             Y   AADR                AdvisorShares Dorsey Wright ADR ETF   \n",
       "\n",
       "  Listing Exchange Market Category ETF  Round Lot Size Test Issue  \\\n",
       "0                N                   N           100.0          N   \n",
       "1                N                   N           100.0          N   \n",
       "2                P                   Y           100.0          N   \n",
       "3                Q               G   N           100.0          N   \n",
       "4                P                   Y           100.0          N   \n",
       "\n",
       "  Financial Status CQS Symbol NASDAQ Symbol NextShares  \n",
       "0              NaN          A             A          N  \n",
       "1              NaN         AA            AA          N  \n",
       "2              NaN       AAAU          AAAU          N  \n",
       "3                N        NaN          AACG          N  \n",
       "4              NaN       AADR          AADR          N  "
      ]
     },
     "execution_count": 7,
     "metadata": {},
     "output_type": "execute_result"
    }
   ],
   "source": [
    "#INSERTED\n",
    "pd_df = pd.read_csv('symbols_valid_meta.csv')\n",
    "pd_df[:5]"
   ]
  },
  {
   "cell_type": "markdown",
   "metadata": {},
   "source": [
    "## Data Accuracy\n",
    "Data accuracy is the degree to which data correctly describes a \"real world\" object or event.\n",
    "\n",
    "It is important to do checks to determine the basic integrity of the dataset; do the values fall within expected ranges?\n",
    "\n",
    "Most of the possible errors relating to data accuracy can occur at collection time. In our case, it is not possible to test the collection time accuracy, so we have to infer from ranges and summary statistics. Here you need to look closely at each field to see if its values make sense, with no strange surprises.\n",
    "\n",
    "In assessing accuracy, it is important to look into precision as well. Do you need seven decimals, or will one or two suffice?\n",
    "\n",
    "- **Measured by**: The degree to which the data mirrors the characteristics of the real-world object or objects it represents;\n",
    "- **Units**: The percentage of data entries that pass the data accuracy rules;\n",
    "- **Related to**: Validity, Uniqueness, Consistency."
   ]
  },
  {
   "cell_type": "markdown",
   "metadata": {},
   "source": [
    "> ℹ️ **Instructions** ℹ️\n",
    ">\n",
    "> Generate summary statistics to explore your data. Make sure you understand the ranges, means, extremums, and deviations found in the data set."
   ]
  },
  {
   "cell_type": "code",
   "execution_count": 8,
   "metadata": {},
   "outputs": [
    {
     "name": "stdout",
     "output_type": "stream",
     "text": [
      "+-------+------------------+------------------+------------------+-----------------+-----------------+-----------------+-----+\n",
      "|summary|              open|              high|               low|            close|        adj_close|           Volume|stock|\n",
      "+-------+------------------+------------------+------------------+-----------------+-----------------+-----------------+-----+\n",
      "|  count|              5106|              5106|              5064|             5106|             5085|             5085| 5106|\n",
      "|   mean|1.0904873526012002|16.757624946793637|15.728619917198033|16.64199179044607|5.986642513535306|540930.2458210423| null|\n",
      "| stddev|  2.36445352530491| 53.91407348193546| 51.32292289814399|53.54677139900802|24.64637054715319|864596.2440525505| null|\n",
      "|    min|               0.0|               0.0|       0.052377883|      0.053624976|     4.0381454E-7|              0.0|   AA|\n",
      "|    25%|               0.0|         0.2454427|        0.24348958|       0.24739583|      0.006592116|          38400.0| null|\n",
      "|    50%|               0.0|         1.8046875|         1.7851562|        1.8007812|       0.12449309|         177600.0| null|\n",
      "|    75%|        0.69547325|          6.903353|         6.7916665|        6.8333335|        0.7141595|         734400.0| null|\n",
      "|    max|              20.0|             287.5|             282.5|            285.0|        127.45936|        1.95456E7|  XOM|\n",
      "+-------+------------------+------------------+------------------+-----------------+-----------------+-----------------+-----+\n",
      "\n"
     ]
    }
   ],
   "source": [
    "#TODO: Write your code high\n",
    "year_1962_df.summary().show()"
   ]
  },
  {
   "cell_type": "markdown",
   "metadata": {},
   "source": [
    "> ℹ️ **Instructions** ℹ️\n",
    ">\n",
    "> Generate histograms for the six numerical attributes found in the data to understand the distribution of values.\n",
    ">\n",
    ">*You may use as many coding cells as necessary.*"
   ]
  },
  {
   "cell_type": "code",
   "execution_count": 9,
   "metadata": {},
   "outputs": [
    {
     "data": {
      "text/html": [
       "<div>\n",
       "<style scoped>\n",
       "    .dataframe tbody tr th:only-of-type {\n",
       "        vertical-align: middle;\n",
       "    }\n",
       "\n",
       "    .dataframe tbody tr th {\n",
       "        vertical-align: top;\n",
       "    }\n",
       "\n",
       "    .dataframe thead th {\n",
       "        text-align: right;\n",
       "    }\n",
       "</style>\n",
       "<table border=\"1\" class=\"dataframe\">\n",
       "  <thead>\n",
       "    <tr style=\"text-align: right;\">\n",
       "      <th></th>\n",
       "      <th>open</th>\n",
       "      <th>high</th>\n",
       "      <th>low</th>\n",
       "      <th>close</th>\n",
       "      <th>adj_close</th>\n",
       "      <th>volume</th>\n",
       "    </tr>\n",
       "  </thead>\n",
       "  <tbody>\n",
       "    <tr>\n",
       "      <th>0</th>\n",
       "      <td>5.839290</td>\n",
       "      <td>5.907375</td>\n",
       "      <td>5.839290</td>\n",
       "      <td>5.863320</td>\n",
       "      <td>1.386329</td>\n",
       "      <td>29900.0</td>\n",
       "    </tr>\n",
       "    <tr>\n",
       "      <th>1</th>\n",
       "      <td>5.481634</td>\n",
       "      <td>5.528486</td>\n",
       "      <td>5.481634</td>\n",
       "      <td>5.516773</td>\n",
       "      <td>1.280453</td>\n",
       "      <td>32000.0</td>\n",
       "    </tr>\n",
       "    <tr>\n",
       "      <th>2</th>\n",
       "      <td>0.907407</td>\n",
       "      <td>0.915638</td>\n",
       "      <td>0.899177</td>\n",
       "      <td>0.903292</td>\n",
       "      <td>0.161415</td>\n",
       "      <td>619400.0</td>\n",
       "    </tr>\n",
       "    <tr>\n",
       "      <th>3</th>\n",
       "      <td>1.677083</td>\n",
       "      <td>1.692708</td>\n",
       "      <td>1.661458</td>\n",
       "      <td>1.677083</td>\n",
       "      <td>0.144059</td>\n",
       "      <td>170400.0</td>\n",
       "    </tr>\n",
       "    <tr>\n",
       "      <th>4</th>\n",
       "      <td>0.000000</td>\n",
       "      <td>3.578869</td>\n",
       "      <td>20.000000</td>\n",
       "      <td>3.549107</td>\n",
       "      <td>0.056501</td>\n",
       "      <td>273600.0</td>\n",
       "    </tr>\n",
       "  </tbody>\n",
       "</table>\n",
       "</div>"
      ],
      "text/plain": [
       "       open      high        low     close  adj_close    volume\n",
       "0  5.839290  5.907375   5.839290  5.863320   1.386329   29900.0\n",
       "1  5.481634  5.528486   5.481634  5.516773   1.280453   32000.0\n",
       "2  0.907407  0.915638   0.899177  0.903292   0.161415  619400.0\n",
       "3  1.677083  1.692708   1.661458  1.677083   0.144059  170400.0\n",
       "4  0.000000  3.578869  20.000000  3.549107   0.056501  273600.0"
      ]
     },
     "execution_count": 9,
     "metadata": {},
     "output_type": "execute_result"
    }
   ],
   "source": [
    "year_1962_df_stat = year_1962_df.select('open', 'high', 'low', 'close', 'adj_close', 'volume')\n",
    "year_1962_df_stat.toPandas().head()"
   ]
  },
  {
   "cell_type": "code",
   "execution_count": 10,
   "metadata": {},
   "outputs": [
    {
     "data": {
      "text/plain": [
       "array([[<AxesSubplot:title={'center':'open'}>,\n",
       "        <AxesSubplot:title={'center':'high'}>],\n",
       "       [<AxesSubplot:title={'center':'low'}>,\n",
       "        <AxesSubplot:title={'center':'close'}>],\n",
       "       [<AxesSubplot:title={'center':'adj_close'}>,\n",
       "        <AxesSubplot:title={'center':'volume'}>]], dtype=object)"
      ]
     },
     "execution_count": 10,
     "metadata": {},
     "output_type": "execute_result"
    },
    {
     "data": {
      "image/png": "[encoded data removed]",
      "text/plain": [
       "<Figure size 2160x3600 with 6 Axes>"
      ]
     },
     "metadata": {
      "needs_background": "light"
     },
     "output_type": "display_data"
    }
   ],
   "source": [
    "#TODO: Write your code here\n",
    "year_1962_df_hist = year_1962_df_stat.toPandas()\n",
    "year_1962_df_hist.hist(bins=10, xlabelsize=(20), ylabelsize=(20), figsize=(30, 50), grid=(True))"
   ]
  },
  {
   "cell_type": "markdown",
   "metadata": {},
   "source": [
    "> ℹ️ **Instructions** ℹ️\n",
    ">\n",
    "> Investigate the **open** column to identify stocks that have open values greater than 2, and note any anomalies that you find in the data.\n",
    ">\n",
    ">*You may use as many coding cells as necessary.*"
   ]
  },
  {
   "cell_type": "code",
   "execution_count": 11,
   "metadata": {},
   "outputs": [],
   "source": [
    "#INSERTED\n",
    "year_1962_df.createOrReplaceTempView('year_1962_df_tbl ')"
   ]
  },
  {
   "cell_type": "code",
   "execution_count": 12,
   "metadata": {},
   "outputs": [
    {
     "name": "stdout",
     "output_type": "stream",
     "text": [
      "+-----+-------+\n",
      "|stock|Overall|\n",
      "+-----+-------+\n",
      "|  HPQ|    309|\n",
      "|   ED|    271|\n",
      "|   PG|    252|\n",
      "|  XOM|    252|\n",
      "|  DTE|    252|\n",
      "|   GT|    252|\n",
      "|   FL|    252|\n",
      "|   MO|    252|\n",
      "|   AA|    252|\n",
      "|  CVX|    252|\n",
      "|   GE|    252|\n",
      "|  CAT|    252|\n",
      "|   IP|    252|\n",
      "|  NAV|    252|\n",
      "|   KO|    252|\n",
      "|  IBM|    252|\n",
      "|  JNJ|    252|\n",
      "|  DIS|    252|\n",
      "|   BA|    242|\n",
      "| ARNC|    231|\n",
      "|ARNCA|     21|\n",
      "+-----+-------+\n",
      "\n"
     ]
    }
   ],
   "source": [
    "#INSERTED\n",
    "spark.sql(\"\"\"SELECT stock, COUNT(open) as Overall\n",
    "          FROM year_1962_df_tbl \n",
    "          GROUP BY stock\n",
    "          ORDER BY Overall desc\"\"\").show(21)"
   ]
  },
  {
   "cell_type": "code",
   "execution_count": 13,
   "metadata": {},
   "outputs": [
    {
     "name": "stdout",
     "output_type": "stream",
     "text": [
      "+-------------------+---------+---------+---------+---------+----------+---------+-----+\n",
      "|               date|     open|     high|      low|    close| adj_close|   Volume|stock|\n",
      "+-------------------+---------+---------+---------+---------+----------+---------+-----+\n",
      "|1962-06-15 00:00:00|     4.08|     4.46|4.0066667|4.4466667| 0.3605149|6328000.0|  IBM|\n",
      "|1962-06-22 00:00:00|     4.21| 4.286667|     4.14| 4.266667| 0.3459215|3371200.0|  IBM|\n",
      "|1962-06-25 00:00:00| 4.266667|     4.48|4.2066665|4.4333334| 0.3594339|3792000.0|  IBM|\n",
      "|1962-06-27 00:00:00|4.2733335|     4.44|4.2733335|     4.44|0.35997435|2955200.0|  IBM|\n",
      "|1962-06-14 00:00:00|4.3016667| 4.423333|      4.0|     4.08|0.33078736|6675200.0|  IBM|\n",
      "|1962-06-21 00:00:00|     4.32|     4.32|4.2033334|     4.21|0.34132713|3707200.0|  IBM|\n",
      "|1962-06-26 00:00:00|4.3806224| 4.544603|4.3806224|4.4508996| 1.0385756| 123700.0| ARNC|\n",
      "|1962-06-19 00:00:00|4.3966665|     4.48| 4.346667|     4.48| 0.3632174|2104000.0|  IBM|\n",
      "|1962-10-24 00:00:00|      4.4|4.5333333|4.2933335|4.5333333|0.36761397|3688000.0|  IBM|\n",
      "|1962-06-27 00:00:00| 4.404048| 4.404048|4.3689094| 4.404048| 1.0276438|  36200.0| ARNC|\n",
      "|1962-06-26 00:00:00|4.4333334|     4.52| 4.266667| 4.266667| 0.3459215|3227200.0|  IBM|\n",
      "|1962-06-25 00:00:00|4.4391866|4.4391866| 4.216642| 4.286919| 1.0003128| 103100.0| ARNC|\n",
      "|1962-06-18 00:00:00|4.4466667|     4.53| 4.233333|4.3966665| 0.3564611|4768000.0|  IBM|\n",
      "|1962-06-28 00:00:00|4.4508996|4.6851573|4.4508996|4.6851573|  1.093237| 139400.0| ARNC|\n",
      "|1962-06-13 00:00:00|4.4683332|4.5733333|4.2966666|4.3016667|0.34875914|4384000.0|  IBM|\n",
      "|1962-06-28 00:00:00|     4.47|4.6466665|     4.47|4.5866666|0.37186557|4083200.0|  IBM|\n",
      "|1962-06-20 00:00:00|     4.48|     4.57|4.3733335|4.3733335|0.35456952|3059200.0|  IBM|\n",
      "|1962-10-26 00:00:00|4.4933333|4.4933333|     4.39|     4.42|0.35842383|1547200.0|  IBM|\n",
      "|1962-10-29 00:00:00|4.5066667| 4.596667|4.5066667|4.5933332| 0.3724795|3520000.0|  IBM|\n",
      "|1962-07-02 00:00:00|4.5233335|4.6666665|4.5133333|4.6666665| 0.3783515|1392000.0|  IBM|\n",
      "|1962-10-25 00:00:00|4.5333333|     4.54|4.4266667|4.5133333|0.36599225|2675200.0|  IBM|\n",
      "|1962-10-23 00:00:00|4.5733333|4.5733333|      4.4|      4.4| 0.3568019|2520000.0|  IBM|\n",
      "|1962-10-02 00:00:00| 4.576667|4.6833334| 4.576667|4.6716666|0.37883157|2832000.0|  IBM|\n",
      "|1962-06-29 00:00:00|4.5866666| 4.633333|     4.51|4.5233335| 0.3667307|2824000.0|  IBM|\n",
      "|1962-06-22 00:00:00|4.5914545|4.5914545|4.4274735|4.4391866| 1.0358437|  45400.0| ARNC|\n",
      "|1962-10-30 00:00:00|4.5933332| 4.693333| 4.548333|     4.69| 0.3803184|2643200.0|  IBM|\n",
      "|1962-10-22 00:00:00|4.5983334|4.5983334| 4.516667|4.5733333| 0.3708576|2739200.0|  IBM|\n",
      "|1962-07-09 00:00:00|      4.6| 4.673333|4.5466666|     4.67|0.37862203|1888000.0|  IBM|\n",
      "|1962-07-06 00:00:00| 4.613333| 4.613333|     4.56|      4.6| 0.3729468|1624000.0|  IBM|\n",
      "|1962-11-01 00:00:00| 4.613333| 4.693333|     4.56| 4.693333|0.38058835|1992000.0|  IBM|\n",
      "|1962-10-04 00:00:00|4.6466665|4.7733335|4.6266665|     4.77|0.38680583|1299200.0|  IBM|\n",
      "|1962-06-26 00:00:00|  4.65381|  4.83804|  4.65381| 4.737915| 1.1262363| 115800.0|   AA|\n",
      "|1962-10-23 00:00:00|4.6617317| 4.849138|4.6617317|4.6617317|   1.09318|  57600.0| ARNC|\n",
      "|1962-10-24 00:00:00|4.6617317|4.8959894|4.6383057| 4.872564| 1.1426216|  57600.0| ARNC|\n",
      "|1962-07-03 00:00:00|4.6666665|4.7166667|     4.64|4.6866665|0.37997296|2584000.0|  IBM|\n",
      "|1962-09-28 00:00:00|     4.67|4.7533336|     4.67| 4.713333|0.38221067|1416000.0|  IBM|\n",
      "|1962-10-03 00:00:00|4.6716666|4.7466664|4.6266665|4.6466665| 0.3768041|1800000.0|  IBM|\n",
      "|1962-10-31 00:00:00|     4.68|     4.68|     4.59| 4.613333|0.37410137|1176000.0|  IBM|\n",
      "|1962-07-05 00:00:00|4.6866665|4.7066665|     4.65|4.6666665| 0.3783515|2016000.0|  IBM|\n",
      "|1962-11-02 00:00:00| 4.693333| 4.931667|4.6266665|4.7633333|0.38626516|3131200.0|  IBM|\n",
      "|1962-06-27 00:00:00| 4.705875| 4.705875|   4.6458| 4.705875| 1.1186203|  33900.0|   AA|\n",
      "|1962-10-01 00:00:00| 4.713333| 4.713333| 4.536667|4.5383334| 0.3680194|1848000.0|  IBM|\n",
      "|1962-06-25 00:00:00| 4.729905| 4.729905| 4.505625| 4.553685|  1.082444|  96500.0|   AA|\n",
      "|1962-10-22 00:00:00| 4.732009| 4.732009|4.6383057|4.6383057| 1.0876881|  70400.0| ARNC|\n",
      "|1962-06-21 00:00:00| 4.732009| 4.732009|4.6383057|4.6500187|  1.085038|  71100.0| ARNC|\n",
      "|1962-06-29 00:00:00| 4.732009|4.8959894| 4.732009| 4.872564|  1.136968|  91700.0| ARNC|\n",
      "|1962-06-12 00:00:00| 4.733333| 4.733333|4.4683332|4.4683332| 0.3622713|3328000.0|  IBM|\n",
      "|1962-10-19 00:00:00|    4.735|4.7466664|     4.64| 4.641667|0.37639922|2368000.0|  IBM|\n",
      "|1962-06-28 00:00:00| 4.737915|  5.00625| 4.737915|  5.00625| 1.1900223| 130400.0|   AA|\n",
      "|1962-09-27 00:00:00|     4.74|4.7966666|4.6466665|4.6666665|0.37842622|2880000.0|  IBM|\n",
      "+-------------------+---------+---------+---------+---------+----------+---------+-----+\n",
      "only showing top 50 rows\n",
      "\n"
     ]
    }
   ],
   "source": [
    "#INSERTED - (3)\n",
    "year_1962_df.filter(year_1962_df.open>2).orderBy('open', 'high', 'low', 'close').show(50)"
   ]
  },
  {
   "cell_type": "code",
   "execution_count": 14,
   "metadata": {},
   "outputs": [
    {
     "name": "stdout",
     "output_type": "stream",
     "text": [
      "+-------+------------------+------------------+------------------+-----------------+-----------------+-----------------+-----+\n",
      "|summary|              open|              high|               low|            close|        adj_close|           Volume|stock|\n",
      "+-------+------------------+------------------+------------------+-----------------+-----------------+-----------------+-----+\n",
      "|  count|              5106|              5106|              5064|             5106|             5085|             5085| 5106|\n",
      "|   mean|1.0904873526012002|16.757624946793637|15.728619917198033|16.64199179044607|5.986642513535306|540930.2458210423| null|\n",
      "| stddev|  2.36445352530491| 53.91407348193546| 51.32292289814399|53.54677139900802|24.64637054715319|864596.2440525505| null|\n",
      "|    min|               0.0|               0.0|       0.052377883|      0.053624976|     4.0381454E-7|              0.0|   AA|\n",
      "|    25%|               0.0|         0.2454427|        0.24348958|       0.24739583|      0.006592116|          38400.0| null|\n",
      "|    50%|               0.0|         1.8046875|         1.7851562|        1.8007812|       0.12449309|         177600.0| null|\n",
      "|    75%|        0.69547325|          6.903353|         6.7916665|        6.8333335|        0.7141595|         734400.0| null|\n",
      "|    max|              20.0|             287.5|             282.5|            285.0|        127.45936|        1.95456E7|  XOM|\n",
      "+-------+------------------+------------------+------------------+-----------------+-----------------+-----------------+-----+\n",
      "\n"
     ]
    }
   ],
   "source": [
    "#INSERTED (2)\n",
    "year_1962_df.summary().show()"
   ]
  },
  {
   "cell_type": "code",
   "execution_count": 15,
   "metadata": {},
   "outputs": [
    {
     "name": "stdout",
     "output_type": "stream",
     "text": [
      "+-----+--------+--------+--------+--------+---------+-------+\n",
      "|stock|    open|    high|     low|   close|adj_close| volume|\n",
      "+-----+--------+--------+--------+--------+---------+-------+\n",
      "|   AA|5.931405|5.955435|5.907375|5.915385|1.3915651|30500.0|\n",
      "|   AA| 5.86332|5.923395| 5.82327| 5.82327|1.3768599|33900.0|\n",
      "|   AA|5.739165| 5.83128|5.739165| 5.83128|1.3787535|55900.0|\n",
      "|   AA| 5.83929| 5.83929|5.747175| 5.80725|1.3730713|56500.0|\n",
      "|   AA|6.107625|6.123645|6.107625|6.107625|1.4440926|27900.0|\n",
      "+-----+--------+--------+--------+--------+---------+-------+\n",
      "only showing top 5 rows\n",
      "\n"
     ]
    }
   ],
   "source": [
    "#TODO: Write your code here\n",
    "spark.sql(\"\"\"SELECT stock, open, high, low, close, adj_close, volume \n",
    "          FROM year_1962_df_tbl \n",
    "          WHERE open > 2\n",
    "          ORDER BY stock \n",
    "          \"\"\").show(5)"
   ]
  },
  {
   "cell_type": "markdown",
   "metadata": {},
   "source": [
    " ## 📔️**Notes** 📔️\n",
    "\n",
    " *Use this cell to note down any potential findings.*\n",
    "\n",
    " 1.In the open column, the data contains outliers\n",
    " \n",
    " 2.The normal range of the data is between 0.0 - 2.5 although some stocks recorded extreme maximum values of 20(open) \n",
    "    & 127(adj_close) and extreme minimum of 4.08(adj_close).\n",
    "   \n",
    " 3.IBM. AA, and ARNC have the most number of extreme values\n",
    "    ...\n",
    " "
   ]
  },
  {
   "cell_type": "markdown",
   "metadata": {},
   "source": [
    "> ℹ️ **Instructions** ℹ️\n",
    ">\n",
    "> Investigate **high**, **low**, **close**, and **adj_close** to determine if any stocks may be deviating from the normal ranges of the data set. Note down the stock(s) that you come across.\n",
    ">\n",
    ">*You may use as many coding cells as necessary.*"
   ]
  },
  {
   "cell_type": "code",
   "execution_count": 16,
   "metadata": {},
   "outputs": [
    {
     "name": "stdout",
     "output_type": "stream",
     "text": [
      "+-----+-----------+-----------+-----------+------------+\n",
      "|stock|       high|        low|      close|   adj_close|\n",
      "+-----+-----------+-----------+-----------+------------+\n",
      "|   AA|   5.907375|    5.83929|    5.86332|   1.3863293|\n",
      "| ARNC|   5.528486|   5.481634|  5.5167727|   1.2804527|\n",
      "|   BA| 0.91563785| 0.89917696|  0.9032922|  0.16141544|\n",
      "|  CAT|  1.6927084|  1.6614584|  1.6770834|   0.1440587|\n",
      "|  CVX|   3.578869|       20.0|   3.549107| 0.056501225|\n",
      "|  DIS|0.099767394| 0.09820853| 0.09820853| 0.037543412|\n",
      "|  DTE|    29.9375|      29.75|    29.9375|  0.49964145|\n",
      "|   ED|   9.921875|   9.890625|   9.921875|  0.22499175|\n",
      "|   FL|  7.0833335|  7.0208335|  7.0208335|  0.91296524|\n",
      "|   GE|   0.777494| 0.76372194|   0.767478|0.0018262818|\n",
      "|   GT|    10.9375|      10.75|    10.9375|   1.9131781|\n",
      "|  HPQ| 0.11397664| 0.11264618|0.113089666| 0.006272347|\n",
      "|  IBM|  7.2933335|   7.173333|  7.1866665|   0.5825691|\n",
      "|   IP|   9.003848|   8.822562|   8.882991|   0.7784165|\n",
      "|  JNJ| 0.23206018| 0.23206018| 0.23206018| 6.541049E-7|\n",
      "|   KO| 0.24348958| 0.24153645| 0.24348958| 0.003923037|\n",
      "|   MO| 0.17881945| 0.17621528| 0.17708333|2.1674694E-4|\n",
      "|  NAV|      280.0|    276.875|    279.375|   124.94374|\n",
      "|   PG|  1.2734375|   1.265625|   1.265625| 0.012011507|\n",
      "|  XOM|  1.7460938|  1.7109375|  1.7382812| 0.015494763|\n",
      "|  HPQ| 0.11397664| 0.11264618|0.113089666| 0.006272347|\n",
      "|  HPQ| 0.11397664| 0.11264618|0.113089666| 0.006272347|\n",
      "|  HPQ| 0.11397664| 0.11264618|0.113089666| 0.006272347|\n",
      "|   AA|    5.83929|   5.747175|    5.80725|   1.3730713|\n",
      "| ARNC|   5.481634|   5.399644|  5.4347825|   1.2614225|\n",
      "|   BA| 0.91563785|  0.9032922|  0.9115226|  0.16288617|\n",
      "|  CAT|  1.6927084|  1.6666666|  1.6770834|   0.1440587|\n",
      "|  CVX|  3.4970238|       20.0|  3.4970238| 0.055672023|\n",
      "|  DIS| 0.09820853| 0.09727321| 0.09727321| 0.037185837|\n",
      "|  DTE|    30.1875|    29.6875|     29.875|   0.4985984|\n",
      "|   ED|    9.90625|   9.796875|    9.90625|  0.22463761|\n",
      "|   FL|  7.0833335|  7.0520835|  7.0520835|  0.91702884|\n",
      "|   GE|   0.769982| 0.75996596|   0.767478|0.0018262818|\n",
      "|   GT|   10.78125|   10.59375|   10.78125|   1.8858457|\n",
      "|  HPQ|0.115750596|0.113533154|0.113533154|0.0062969415|\n",
      "|  IBM|  7.3333335|       7.28|  7.2933335|  0.59121627|\n",
      "|   IP|   8.762134|   8.641277|   8.701706|   0.7625307|\n",
      "|  JNJ| 0.24074075|  0.2337963|  0.2349537| 6.622604E-7|\n",
      "|   KO|  0.2454427| 0.24088542| 0.24088542|0.0038810822|\n",
      "|   MO| 0.17708333| 0.17621528| 0.17621528|2.1568447E-4|\n",
      "|  NAV|    276.875|    273.125|     273.75|   122.42809|\n",
      "|   PG|  1.2792969|  1.2675781|  1.2753906| 0.012104195|\n",
      "|  XOM|   1.703125|   1.671875|   1.703125| 0.015181391|\n",
      "|  HPQ|0.115750596|0.113533154|0.113533154|0.0062969415|\n",
      "|  HPQ|0.115750596|0.113533154|0.113533154|0.0062969415|\n",
      "|  HPQ|0.115750596|0.113533154|0.113533154|0.0062969415|\n",
      "|   AA|   5.915385|    5.85531|    5.86332|   1.3863293|\n",
      "| ARNC|   5.540199|    5.50506|  5.5167727|   1.2804527|\n",
      "|   BA| 0.91769546|  0.9032922|  0.9053498|   0.1617831|\n",
      "|  CAT|   1.703125|  1.6822916|  1.6927084|   0.1454009|\n",
      "+-----+-----------+-----------+-----------+------------+\n",
      "only showing top 50 rows\n",
      "\n"
     ]
    }
   ],
   "source": [
    "#TODO: Write your code here\n",
    "spark.sql(\"\"\"SELECT stock, high, low, close, adj_close\n",
    "            FROM year_1962_df_tbl\"\"\").show(50)"
   ]
  },
  {
   "cell_type": "markdown",
   "metadata": {},
   "source": [
    " ## 📔️**Notes** 📔️\n",
    "\n",
    " *Use this cell to note down any potential findings.*\n",
    "\n",
    " 1.\n",
    " 2.\n",
    "    ..."
   ]
  },
  {
   "cell_type": "markdown",
   "metadata": {},
   "source": [
    "\n",
    "\n",
    "## Completeness\n",
    "\n",
    "Completeness is the proportion of stored data against the potential of “100% complete\". This is the degree to which the required data is in the dataset. \n",
    "\n",
    "Does the dataset have missing values, or if it is time-series data, does it have time period gaps? Has a bias been introduced that may change your assumptions or affect your results?\n",
    "\n",
    "Completeness issues can occur at the row level (gaps within the dataset) or the field level (one entry missing). At the field level, entire fields can being empty, or >80% of a field's data missing. \n",
    "\n",
    "Another issue that may occur is default values. A typical example of this is where a logger sends back a 0 instead of a null value, which can greatly skew any attempts at modelling. This is where it is instrumental to employ domain knowledge when assessing a dataset. \n",
    "\n",
    "- **Measured by**: A measure of the absence of blank (null) values or the presence of non-blank values;\n",
    "- **Units**: Percentage;\n",
    "- **Related to**: Validity and Accuracy."
   ]
  },
  {
   "cell_type": "markdown",
   "metadata": {},
   "source": [
    "### Missing values\n",
    "\n",
    "> ℹ️ **Instructions** ℹ️\n",
    ">\n",
    "> Write code to identify and count the number of missing values (nulls) in the dataset. Include a percentage to describe the proportion of missing values per column. Output the results in the following manner:\n",
    ">\n",
    "> `There are <number_of_missing_values> (<percentage>) null values in <column_name> column`\n",
    ">\n",
    ">*You may use as many coding cells as necessary.*"
   ]
  },
  {
   "cell_type": "code",
   "execution_count": 17,
   "metadata": {},
   "outputs": [
    {
     "name": "stdout",
     "output_type": "stream",
     "text": [
      "+----+----+----+-----+---------+------+\n",
      "|open|high| low|close|adj_close|volume|\n",
      "+----+----+----+-----+---------+------+\n",
      "|5106|5106|5064| 5106|     5085|  5085|\n",
      "+----+----+----+-----+---------+------+\n",
      "\n",
      "+----+----+---+-----+---------+------+\n",
      "|open|high|low|close|adj_close|volume|\n",
      "+----+----+---+-----+---------+------+\n",
      "|   0|   0| 42|    0|       21|    21|\n",
      "+----+----+---+-----+---------+------+\n",
      "\n"
     ]
    }
   ],
   "source": [
    "#TODO: Write your code here\n",
    "from pyspark.sql.functions import col, isnan, when, count\n",
    "\n",
    "# CHECK HIGHEST VALUE PER COLUMN\n",
    "total_count = year_1962_df_stat.select([count(c).alias(c) for c in year_1962_df_stat.columns])\n",
    "total_count.show()\n",
    "\n",
    "null_count = year_1962_df_stat.select([(count(when(col(c).isNull(), c)).alias(c)) for c in year_1962_df_stat.columns])\n",
    "null_count.show()"
   ]
  },
  {
   "cell_type": "code",
   "execution_count": 18,
   "metadata": {},
   "outputs": [
    {
     "data": {
      "text/plain": [
       "{'open': {0: 5106},\n",
       " 'high': {0: 5106},\n",
       " 'low': {0: 5064},\n",
       " 'close': {0: 5106},\n",
       " 'adj_close': {0: 5085},\n",
       " 'volume': {0: 5085}}"
      ]
     },
     "execution_count": 18,
     "metadata": {},
     "output_type": "execute_result"
    }
   ],
   "source": [
    "total_count.toPandas().to_dict()"
   ]
  },
  {
   "cell_type": "code",
   "execution_count": 19,
   "metadata": {},
   "outputs": [
    {
     "data": {
      "text/plain": [
       "{'open': {0: 0},\n",
       " 'high': {0: 0},\n",
       " 'low': {0: 42},\n",
       " 'close': {0: 0},\n",
       " 'adj_close': {0: 21},\n",
       " 'volume': {0: 21}}"
      ]
     },
     "execution_count": 19,
     "metadata": {},
     "output_type": "execute_result"
    }
   ],
   "source": [
    "null_dict = null_count.toPandas().to_dict()\n",
    "null_dict"
   ]
  },
  {
   "cell_type": "code",
   "execution_count": 20,
   "metadata": {},
   "outputs": [
    {
     "name": "stdout",
     "output_type": "stream",
     "text": [
      "There are 0 (0.0)% null values in open column\n",
      "There are 0 (0.0)% null values in high column\n",
      "There are 42 (0.82)% null values in low column\n",
      "There are 0 (0.0)% null values in close column\n",
      "There are 21 (0.41)% null values in adj_close column\n",
      "There are 21 (0.41)% null values in volume column\n"
     ]
    }
   ],
   "source": [
    "for key,value in null_dict.items():\n",
    "    print(f'There are {round(((value[0])))} ({round(((value[0]) * 100/5106), 2)})% null values in {key} column')"
   ]
  },
  {
   "cell_type": "markdown",
   "metadata": {},
   "source": [
    "### Columns with missing values"
   ]
  },
  {
   "cell_type": "markdown",
   "metadata": {},
   "source": [
    "\n",
    "> ℹ️ **Instructions** ℹ️\n",
    ">\n",
    "> From the above result, probe the columns that are affected by the missing data to find out which stocks were affected.\n",
    ">\n",
    ">*You may use as many coding cells as necessary.*"
   ]
  },
  {
   "cell_type": "code",
   "execution_count": 21,
   "metadata": {},
   "outputs": [
    {
     "name": "stdout",
     "output_type": "stream",
     "text": [
      "Missing values in low based on stock\n",
      "+-----+-----+\n",
      "|stock|count|\n",
      "+-----+-----+\n",
      "|  CAT|   22|\n",
      "|  NAV|   20|\n",
      "+-----+-----+\n",
      "\n",
      "Missing values in adj_close based on stock\n",
      "+-----+-----+\n",
      "|stock|count|\n",
      "+-----+-----+\n",
      "|   FL|   21|\n",
      "+-----+-----+\n",
      "\n",
      "Missing values in volume based on stock\n",
      "+-----+-----+\n",
      "|stock|count|\n",
      "+-----+-----+\n",
      "|  JNJ|   21|\n",
      "+-----+-----+\n",
      "\n"
     ]
    }
   ],
   "source": [
    "#TODO: Write your code here\n",
    "#TODO: Write your code here\n",
    "for column in ['low', 'adj_close','volume']:\n",
    "    print(f'Missing values in {column} based on stock')\n",
    "    year_1962_df.select('stock', column).filter(year_1962_df[column].isNull()).groupBy('stock').count().show()"
   ]
  },
  {
   "cell_type": "code",
   "execution_count": 22,
   "metadata": {},
   "outputs": [
    {
     "name": "stdout",
     "output_type": "stream",
     "text": [
      "+-------------------+---------+---------+----+---------+----------+--------+-----+\n",
      "|               date|     open|     high| low|    close| adj_close|  Volume|stock|\n",
      "+-------------------+---------+---------+----+---------+----------+--------+-----+\n",
      "|1962-12-03 00:00:00|      0.0|    247.5|null|    247.5|  114.7004|   500.0|  NAV|\n",
      "|1962-12-20 00:00:00|      0.0|   241.25|null|  239.375|112.296135|   600.0|  NAV|\n",
      "|1962-12-21 00:00:00|      0.0|  243.125|null|    242.5| 113.76213|   500.0|  NAV|\n",
      "|1962-03-20 00:00:00|1.6666666|1.6979166|null|1.6979166|0.14584826|177600.0|  CAT|\n",
      "|1962-03-14 00:00:00|1.6302084|1.6614584|null|1.6614584|0.14271663|117600.0|  CAT|\n",
      "|1962-12-31 00:00:00|      0.0|  250.625|null|   248.75| 116.69414|   600.0|  NAV|\n",
      "|1962-12-28 00:00:00|      0.0|  249.375|null|  248.125| 116.40094|   300.0|  NAV|\n",
      "|1962-03-22 00:00:00|1.6666666|1.6927084|null|1.6822916|0.14450607|268800.0|  CAT|\n",
      "|1962-12-18 00:00:00|      0.0|   238.75|null|   236.25|  110.8301|   900.0|  NAV|\n",
      "|1962-03-19 00:00:00|1.6614584|1.6822916|null|1.6614584|0.14271663|105600.0|  CAT|\n",
      "|1962-12-19 00:00:00|      0.0|    240.0|null|    240.0|112.589325|   700.0|  NAV|\n",
      "|1962-12-27 00:00:00|      0.0|  248.125|null|  248.125| 116.40094|   600.0|  NAV|\n",
      "|1962-03-15 00:00:00|1.6614584|1.6614584|null|1.6458334|0.14137442|139200.0|  CAT|\n",
      "|1962-03-13 00:00:00|1.6145834|1.6354166|null|    1.625|0.13958487|141600.0|  CAT|\n",
      "|1962-03-01 00:00:00|1.6822916| 1.703125|null|1.6822916|0.14450607| 74400.0|  CAT|\n",
      "|1962-03-27 00:00:00| 1.671875|1.6770834|null| 1.671875|0.14361136|112800.0|  CAT|\n",
      "|1962-12-24 00:00:00|      0.0|    245.0|null|  244.375| 114.64173|   500.0|  NAV|\n",
      "|1962-03-16 00:00:00|1.6458334|1.6614584|null|1.6614584|0.14271663| 79200.0|  CAT|\n",
      "|1962-03-30 00:00:00|1.6822916| 1.703125|null| 1.703125|0.14629564| 86400.0|  CAT|\n",
      "|1962-12-26 00:00:00|      0.0|  246.875|null|   246.25|115.521324|   500.0|  NAV|\n",
      "|1962-03-07 00:00:00|1.6770834|1.6770834|null|  1.65625| 0.1422691|172800.0|  CAT|\n",
      "|1962-03-23 00:00:00|1.6822916|1.6979166|null|1.6822916|0.14450607|189600.0|  CAT|\n",
      "|1962-03-12 00:00:00|1.6354166| 1.640625|null|1.6145834|0.13869008| 96000.0|  CAT|\n",
      "|1962-03-21 00:00:00|1.6979166| 1.703125|null|  1.65625| 0.1422691|232800.0|  CAT|\n",
      "|1962-03-02 00:00:00|1.6822916|   1.6875|null|   1.6875|0.14495347|105600.0|  CAT|\n",
      "|1962-03-08 00:00:00|  1.65625|1.6614584|null| 1.640625|  0.140927| 98400.0|  CAT|\n",
      "|1962-03-29 00:00:00| 1.703125| 1.703125|null|1.6822916|0.14450607| 91200.0|  CAT|\n",
      "|1962-03-28 00:00:00| 1.671875| 1.703125|null| 1.703125|0.14629564|146400.0|  CAT|\n",
      "|1962-03-09 00:00:00| 1.640625|1.6458334|null|1.6354166|0.14047968| 86400.0|  CAT|\n",
      "|1962-03-06 00:00:00|   1.6875| 1.703125|null|1.6770834| 0.1440587| 98400.0|  CAT|\n",
      "|1962-03-26 00:00:00|1.6822916|   1.6875|null| 1.671875|0.14361136|124800.0|  CAT|\n",
      "|1962-03-05 00:00:00|   1.6875|1.6927084|null|   1.6875|0.14495347| 79200.0|  CAT|\n",
      "|1962-12-10 00:00:00|      0.0|  249.375|null|    247.5|  114.7004|  2200.0|  NAV|\n",
      "|1962-12-11 00:00:00|      0.0|  244.375|null|  244.375| 114.64173|   400.0|  NAV|\n",
      "|1962-12-04 00:00:00|      0.0|  249.375|null|  249.375| 115.56933|   500.0|  NAV|\n",
      "|1962-12-17 00:00:00|      0.0|  240.625|null|   238.75| 112.00292|   700.0|  NAV|\n",
      "|1962-12-05 00:00:00|      0.0|   248.75|null|   248.75|115.279655|   500.0|  NAV|\n",
      "|1962-12-14 00:00:00|      0.0|  239.375|null|  239.375|112.296135|   400.0|  NAV|\n",
      "|1962-12-12 00:00:00|      0.0|  244.375|null|   241.25| 113.17572|   600.0|  NAV|\n",
      "|1962-12-13 00:00:00|      0.0|   241.25|null|  238.125| 111.70971|   500.0|  NAV|\n",
      "|1962-12-06 00:00:00|      0.0|  249.375|null|  249.375| 115.56933|   500.0|  NAV|\n",
      "|1962-12-07 00:00:00|      0.0|  251.875|null|    250.0| 115.85895|  1400.0|  NAV|\n",
      "+-------------------+---------+---------+----+---------+----------+--------+-----+\n",
      "\n"
     ]
    }
   ],
   "source": [
    "year_1962_df.filter(year_1962_df['low'].isNull()).show(42)"
   ]
  },
  {
   "cell_type": "code",
   "execution_count": 23,
   "metadata": {},
   "outputs": [
    {
     "name": "stdout",
     "output_type": "stream",
     "text": [
      "+-------------------+----+---------+---------+---------+---------+--------+-----+\n",
      "|               date|open|     high|      low|    close|adj_close|  Volume|stock|\n",
      "+-------------------+----+---------+---------+---------+---------+--------+-----+\n",
      "|1962-06-12 00:00:00| 0.0|5.6666665|5.6041665|5.6041665|     null| 50400.0|   FL|\n",
      "|1962-06-06 00:00:00| 0.0|    5.875|  5.65625|5.8333335|     null|109200.0|   FL|\n",
      "|1962-06-07 00:00:00| 0.0|  5.84375|5.7291665|5.7291665|     null| 36000.0|   FL|\n",
      "|1962-06-18 00:00:00| 0.0|5.6666665|      5.5|   5.5625|     null| 42000.0|   FL|\n",
      "|1962-06-15 00:00:00| 0.0|5.6666665|5.4583335|5.6666665|     null| 64800.0|   FL|\n",
      "|1962-06-22 00:00:00| 0.0|5.3645835|5.2916665|5.2916665|     null| 67200.0|   FL|\n",
      "|1962-06-19 00:00:00| 0.0|      5.5|5.4791665|5.4791665|     null| 19200.0|   FL|\n",
      "|1962-06-21 00:00:00| 0.0|  5.46875|5.4166665|5.4166665|     null| 49200.0|   FL|\n",
      "|1962-06-20 00:00:00| 0.0|  5.53125|5.4583335|5.4583335|     null| 34800.0|   FL|\n",
      "|1962-06-01 00:00:00| 0.0|5.8333335|     5.75|5.7916665|     null| 49200.0|   FL|\n",
      "|1962-06-11 00:00:00| 0.0|5.7083335|5.6458335|5.6458335|     null|  8400.0|   FL|\n",
      "|1962-06-05 00:00:00| 0.0|5.6666665|  5.59375|5.6145835|     null| 52800.0|   FL|\n",
      "|1962-06-04 00:00:00| 0.0|5.7708335|5.6458335|5.6666665|     null| 68400.0|   FL|\n",
      "|1962-06-28 00:00:00| 0.0|  5.46875|5.3333335|5.4583335|     null| 26400.0|   FL|\n",
      "|1962-06-08 00:00:00| 0.0|5.7916665|5.6458335|5.6458335|     null| 20400.0|   FL|\n",
      "|1962-06-27 00:00:00| 0.0|  5.40625|   5.3125|5.3541665|     null| 51600.0|   FL|\n",
      "|1962-06-26 00:00:00| 0.0|   5.4375|  5.34375|5.3645835|     null| 56400.0|   FL|\n",
      "|1962-06-25 00:00:00| 0.0|   5.3125|5.2083335|     5.25|     null| 90000.0|   FL|\n",
      "|1962-06-14 00:00:00| 0.0|5.5833335|5.5208335|5.5208335|     null| 48000.0|   FL|\n",
      "|1962-06-29 00:00:00| 0.0|      5.5|    5.375|    5.375|     null| 28800.0|   FL|\n",
      "|1962-06-13 00:00:00| 0.0|5.5833335|5.5416665|5.5520835|     null| 54000.0|   FL|\n",
      "+-------------------+----+---------+---------+---------+---------+--------+-----+\n",
      "\n"
     ]
    }
   ],
   "source": [
    "year_1962_df.filter(year_1962_df['adj_close'].isNull()).show(21)"
   ]
  },
  {
   "cell_type": "code",
   "execution_count": 24,
   "metadata": {},
   "outputs": [
    {
     "name": "stdout",
     "output_type": "stream",
     "text": [
      "+-------------------+----+----------+----------+----------+------------+------+-----+\n",
      "|               date|open|      high|       low|     close|   adj_close|Volume|stock|\n",
      "+-------------------+----+----------+----------+----------+------------+------+-----+\n",
      "|1962-07-20 00:00:00| 0.0| 0.1730324| 0.1724537| 0.1724537| 4.874888E-7|  null|  JNJ|\n",
      "|1962-07-25 00:00:00| 0.0| 0.1724537|0.16435185|0.16435185|4.6458675E-7|  null|  JNJ|\n",
      "|1962-07-03 00:00:00| 0.0|0.18171297|0.17824075|0.18171297| 5.136628E-7|  null|  JNJ|\n",
      "|1962-07-09 00:00:00| 0.0|0.17708333|0.17708333|0.17708333|5.0057577E-7|  null|  JNJ|\n",
      "|1962-07-17 00:00:00| 0.0|0.17766203|0.17766203|0.17766203| 5.022119E-7|  null|  JNJ|\n",
      "|1962-07-18 00:00:00| 0.0|0.17534722|0.17418982|0.17418982| 4.923964E-7|  null|  JNJ|\n",
      "|1962-07-27 00:00:00| 0.0| 0.1701389|0.16898148|0.16956018|4.7930956E-7|  null|  JNJ|\n",
      "|1962-07-31 00:00:00| 0.0|0.17274305| 0.1712963|0.17274305| 4.883069E-7|  null|  JNJ|\n",
      "|1962-07-02 00:00:00| 0.0|0.18229167|0.17650463|0.18229167|5.1529855E-7|  null|  JNJ|\n",
      "|1962-07-16 00:00:00| 0.0|0.17881945|0.17766203|0.17766203| 5.022119E-7|  null|  JNJ|\n",
      "|1962-07-11 00:00:00| 0.0|0.17592593| 0.1724537|0.17418982| 4.923964E-7|  null|  JNJ|\n",
      "|1962-07-24 00:00:00| 0.0| 0.1701389|0.16319445|0.16319445|4.6131473E-7|  null|  JNJ|\n",
      "|1962-07-13 00:00:00| 0.0|0.18113425|0.17592593|0.18113425| 5.120267E-7|  null|  JNJ|\n",
      "|1962-07-19 00:00:00| 0.0| 0.1736111| 0.1724537| 0.1724537| 4.874888E-7|  null|  JNJ|\n",
      "|1962-07-06 00:00:00| 0.0|0.18055555|0.17476852|0.17476852| 4.940323E-7|  null|  JNJ|\n",
      "|1962-07-12 00:00:00| 0.0|0.18113425|0.17592593|0.17881945| 5.054835E-7|  null|  JNJ|\n",
      "|1962-07-26 00:00:00| 0.0|0.16956018|0.16608797|0.16956018|4.7930956E-7|  null|  JNJ|\n",
      "|1962-07-05 00:00:00| 0.0|0.18229167|0.17939815|0.18229167|5.1529855E-7|  null|  JNJ|\n",
      "|1962-07-30 00:00:00| 0.0|0.16898148|0.16782407|0.16898148| 4.776736E-7|  null|  JNJ|\n",
      "|1962-07-23 00:00:00| 0.0| 0.1730324| 0.1707176| 0.1707176| 4.825813E-7|  null|  JNJ|\n",
      "|1962-07-10 00:00:00| 0.0|0.18402778|0.17824075|0.17824075| 5.038474E-7|  null|  JNJ|\n",
      "+-------------------+----+----------+----------+----------+------------+------+-----+\n",
      "\n"
     ]
    }
   ],
   "source": [
    "year_1962_df.filter(year_1962_df['volume'].isNull()).show(21)"
   ]
  },
  {
   "cell_type": "markdown",
   "metadata": {},
   "source": [
    "#### Fix Completeness\n",
    "\n",
    "How do we deal with incomplete data?\n",
    "- Dropping missing values\n",
    "- Discard the incomplete column\n",
    "- Discard the rows containing missing data\n",
    "- Case deletion\n",
    "\n",
    "> ℹ️ **Instructions** ℹ️\n",
    ">\n",
    "> Use the appropriate strategy to remedy the missing data. \n",
    ">\n",
    ">*You may use as many coding cells as necessary.*"
   ]
  },
  {
   "cell_type": "code",
   "execution_count": 25,
   "metadata": {},
   "outputs": [],
   "source": [
    "#TODO: Write your code here\n",
    "year_1962_df = year_1962_df.na.drop()"
   ]
  },
  {
   "cell_type": "code",
   "execution_count": 26,
   "metadata": {},
   "outputs": [
    {
     "name": "stdout",
     "output_type": "stream",
     "text": [
      "Missing values in low per stock\n",
      "+-----+-----+\n",
      "|stock|count|\n",
      "+-----+-----+\n",
      "+-----+-----+\n",
      "\n",
      "Missing values in adj_close per stock\n",
      "+-----+-----+\n",
      "|stock|count|\n",
      "+-----+-----+\n",
      "+-----+-----+\n",
      "\n",
      "Missing values in volume per stock\n",
      "+-----+-----+\n",
      "|stock|count|\n",
      "+-----+-----+\n",
      "+-----+-----+\n",
      "\n"
     ]
    }
   ],
   "source": [
    "#INSERTED (confirm rows with null values have been dropped)\n",
    "for column in ['low', 'adj_close','volume']:\n",
    "    print(f'Missing values in {column} per stock')\n",
    "    year_1962_df.select('stock', column).filter(year_1962_df[column].isNull()).groupBy('stock').count().show()  "
   ]
  },
  {
   "cell_type": "markdown",
   "metadata": {},
   "source": [
    "### Zero Values\n",
    "\n",
    "Take a deeper look into the entries with many zero values."
   ]
  },
  {
   "cell_type": "markdown",
   "metadata": {},
   "source": [
    "#### Fix Completeness\n",
    "\n",
    "Completeness issues can be fixed through imputation of the missing data through:\n",
    "- imputation by mean/mode/median;\n",
    "- regression; or\n",
    "- KNN.\n",
    " \n",
    "> ℹ️ **Instructions** ℹ️\n",
    ">\n",
    "> Write code to identify and count the number of zeros (0) in the dataset. Include a percentage to describe the proportion of missing values per column. Output the results in the following manner:\n",
    ">\n",
    "> `There are <number_of_zeros> (<percentage>) zero values in <column_name> column`\n",
    ">\n",
    ">*You may use as many coding cells as necessary.*"
   ]
  },
  {
   "cell_type": "code",
   "execution_count": 27,
   "metadata": {},
   "outputs": [
    {
     "name": "stdout",
     "output_type": "stream",
     "text": [
      "There are 2768 (54.21%) zero values in open column\n",
      "There are 20 (0.39%) zero values in high column\n",
      "There are 0 (0.0%) zero values in low column\n",
      "There are 0 (0.0%) zero values in close column\n",
      "There are 0 (0.0%) zero values in adj_close column\n",
      "There are 27 (0.53%) zero values in volume column\n"
     ]
    }
   ],
   "source": [
    "#TODO: Write your code here (Find percentage of zero values in each of the 6 columns)\n",
    "num_cols = ('open', 'high', 'low', 'close', 'adj_close', 'volume')\n",
    "\n",
    "year_1962_df_no_zero = year_1962_df_stat.select([F.count(F.when(year_1962_df_stat[c] == 0, c)).alias(c) for c in num_cols])\n",
    "\n",
    "for column in num_cols:\n",
    "    print(f'There are {year_1962_df_no_zero.select(column).collect()[0][0]}\\\n",
    " ({round(year_1962_df_no_zero.select(column).collect()[0][0]/year_1962_df_stat.select(column).count()*100, 2)}%)\\\n",
    " zero values in {column} column')\n",
    "    "
   ]
  },
  {
   "cell_type": "code",
   "execution_count": 28,
   "metadata": {},
   "outputs": [
    {
     "name": "stdout",
     "output_type": "stream",
     "text": [
      "+----+----+---+-----+---------+------+\n",
      "|open|high|low|close|adj_close|volume|\n",
      "+----+----+---+-----+---------+------+\n",
      "|2768|  20|  0|    0|        0|    27|\n",
      "+----+----+---+-----+---------+------+\n",
      "\n"
     ]
    }
   ],
   "source": [
    "#INSERTED\n",
    "year_1962_df_no_zero.show()"
   ]
  },
  {
   "cell_type": "markdown",
   "metadata": {},
   "source": [
    "From the above section, you find that there are a few columns that contain zero values. However, some of these are true zeros and are explainable. Your task is to distinguish which column should undergo data imputation.\n",
    "\n",
    "> ℹ️ **Instructions** ℹ️\n",
    ">\n",
    "> Investigate the columns with zero values and determine which one should undergo data imputation. Take note of the stock and month on which zero values occurred.\n",
    ">\n",
    ">*You may use as many coding cells as necessary.*"
   ]
  },
  {
   "cell_type": "code",
   "execution_count": 29,
   "metadata": {},
   "outputs": [
    {
     "name": "stdout",
     "output_type": "stream",
     "text": [
      "+-------------------+----+---------+--------+---------+-----------+--------+-----+\n",
      "|               date|open|     high|     low|    close|  adj_close|  Volume|stock|\n",
      "+-------------------+----+---------+--------+---------+-----------+--------+-----+\n",
      "|1962-02-09 00:00:00| 0.0| 3.482143|    20.0|3.4747024|0.055316698|158400.0|  CVX|\n",
      "|1962-09-07 00:00:00| 0.0|3.5342262|3.482143|3.5119047|0.056882504| 73600.0|  CVX|\n",
      "|1962-02-14 00:00:00| 0.0|3.4970238|    20.0|3.4970238|0.055672023|116800.0|  CVX|\n",
      "|1962-02-19 00:00:00| 0.0| 3.578869|    20.0| 3.549107|0.056501225|273600.0|  CVX|\n",
      "|1962-02-26 00:00:00| 0.0|3.5193453|    20.0| 3.482143|0.055435114|158400.0|  CVX|\n",
      "|1962-02-02 00:00:00| 0.0| 3.452381|    20.0| 3.452381|0.054961324|508800.0|  CVX|\n",
      "|1962-02-16 00:00:00| 0.0| 3.549107|    20.0|3.5416667|0.056382727|155200.0|  CVX|\n",
      "|1962-02-27 00:00:00| 0.0|3.5119047|    20.0|3.5119047| 0.05590893|294400.0|  CVX|\n",
      "|1962-02-12 00:00:00| 0.0|3.5267856|    20.0|3.5119047| 0.05590893|126400.0|  CVX|\n",
      "|1962-02-20 00:00:00| 0.0|3.5565476|    20.0| 3.549107|0.056501225|187200.0|  CVX|\n",
      "|1962-02-13 00:00:00| 0.0|3.5044644|    20.0|3.5044644|0.055790514|240000.0|  CVX|\n",
      "|1962-02-06 00:00:00| 0.0|3.3854167|    20.0|3.3630953|0.053539913|145600.0|  CVX|\n",
      "|1962-02-28 00:00:00| 0.0|3.5193453|    20.0| 3.482143|0.055435114|176000.0|  CVX|\n",
      "|1962-02-05 00:00:00| 0.0|   3.4375|    20.0| 3.392857|0.054013733|208000.0|  CVX|\n",
      "|1962-02-08 00:00:00| 0.0|3.4598215|    20.0|3.4449406|0.054842878| 86400.0|  CVX|\n",
      "|1962-02-01 00:00:00| 0.0| 3.296131|    20.0| 3.296131| 0.05247387|326400.0|  CVX|\n",
      "|1962-02-15 00:00:00| 0.0|3.5342262|    20.0|3.5119047| 0.05590893|142400.0|  CVX|\n",
      "|1962-02-07 00:00:00| 0.0|3.4672618|    20.0|3.4300594| 0.05460598|292800.0|  CVX|\n",
      "|1962-02-23 00:00:00| 0.0|3.5193453|    20.0|3.5044644|0.055790514|172800.0|  CVX|\n",
      "|1962-02-21 00:00:00| 0.0|3.5342262|    20.0|3.5193453|0.056027353|214400.0|  CVX|\n",
      "+-------------------+----+---------+--------+---------+-----------+--------+-----+\n",
      "only showing top 20 rows\n",
      "\n"
     ]
    }
   ],
   "source": [
    "#TODO: Write your code here\n",
    "year_1962_df.filter('open==0').orderBy('stock').show()"
   ]
  },
  {
   "cell_type": "code",
   "execution_count": 30,
   "metadata": {},
   "outputs": [
    {
     "name": "stdout",
     "output_type": "stream",
     "text": [
      "+-------------------+---------+----+---------+---------+----------+--------+-----+\n",
      "|               date|     open|high|      low|    close| adj_close|  Volume|stock|\n",
      "+-------------------+---------+----+---------+---------+----------+--------+-----+\n",
      "|1962-11-12 00:00:00| 1.453125| 0.0|1.4427084|1.4583334|0.12803373| 96000.0|  CAT|\n",
      "|1962-11-08 00:00:00|1.4583334| 0.0|1.4427084|1.4583334|0.12803373|129600.0|  CAT|\n",
      "|1962-11-01 00:00:00|1.3697916| 0.0|1.3697916|1.4010416| 0.1230039|136800.0|  CAT|\n",
      "|1962-11-29 00:00:00|1.5052084| 0.0|1.5052084|1.5052084|0.13214913|132000.0|  CAT|\n",
      "|1962-11-28 00:00:00|      1.5| 0.0|1.4947916|1.5052084|0.13214913|177600.0|  CAT|\n",
      "|1962-11-30 00:00:00|1.5052084| 0.0|1.5052084|1.5052084|0.13214913|124800.0|  CAT|\n",
      "|1962-11-26 00:00:00|      1.5| 0.0|1.4947916|      1.5|0.13169187|187200.0|  CAT|\n",
      "|1962-11-02 00:00:00|1.4010416| 0.0|1.3958334|1.4114584|0.12391846|211200.0|  CAT|\n",
      "|1962-11-21 00:00:00|      1.5| 0.0|1.4947916|      1.5|0.13169187|105600.0|  CAT|\n",
      "|1962-11-15 00:00:00|1.5052084| 0.0|1.4947916|      1.5|0.13169187|187200.0|  CAT|\n",
      "|1962-11-16 00:00:00|      1.5| 0.0|1.4947916|      1.5|0.13169187|127200.0|  CAT|\n",
      "|1962-11-20 00:00:00|      1.5| 0.0|1.4947916|      1.5|0.13169187|112800.0|  CAT|\n",
      "|1962-11-09 00:00:00| 1.453125| 0.0|   1.4375| 1.453125|0.12757647|120000.0|  CAT|\n",
      "|1962-11-19 00:00:00|      1.5| 0.0|1.4895834|      1.5|0.13169187|112800.0|  CAT|\n",
      "|1962-11-23 00:00:00|      1.5| 0.0|1.4947916|      1.5|0.13169187|228000.0|  CAT|\n",
      "|1962-11-27 00:00:00|      1.5| 0.0| 1.484375|      1.5|0.13169187|165600.0|  CAT|\n",
      "|1962-11-14 00:00:00| 1.484375| 0.0|1.4791666|1.5052084|0.13214913|261600.0|  CAT|\n",
      "|1962-11-13 00:00:00|1.4583334| 0.0| 1.453125| 1.484375| 0.1303201|216000.0|  CAT|\n",
      "|1962-11-07 00:00:00|   1.4375| 0.0|   1.4375|1.4583334|0.12803373|182400.0|  CAT|\n",
      "|1962-11-05 00:00:00|1.4114584| 0.0|1.4114584|   1.4375|0.12620474|172800.0|  CAT|\n",
      "+-------------------+---------+----+---------+---------+----------+--------+-----+\n",
      "\n"
     ]
    }
   ],
   "source": [
    "year_1962_df.filter('high==0').orderBy('stock').show(30)"
   ]
  },
  {
   "cell_type": "code",
   "execution_count": 59,
   "metadata": {},
   "outputs": [
    {
     "name": "stdout",
     "output_type": "stream",
     "text": [
      "+-------------------+------------------+------------------+--------+--------+---------+-------+-----+\n",
      "|               date|              open|              high|     low|   close|adj_close| volume|stock|\n",
      "+-------------------+------------------+------------------+--------+--------+---------+-------+-----+\n",
      "|1962-09-13 00:00:00|  5.96344518661499| 6.023519992828369|5.931405|5.939415|1.4188904|20500.0|   AA|\n",
      "|1962-04-16 00:00:00| 6.331904888153076| 6.347925186157227|6.307875|6.347925|1.5009084|37900.0|   AA|\n",
      "|1962-05-15 00:00:00| 5.639039993286133| 5.723145008087158| 5.63904| 5.65506|1.3442495|82500.0|   AA|\n",
      "|1962-02-15 00:00:00| 5.807250022888184| 5.907374858856201|5.739165|5.739165| 1.356974|62500.0|   AA|\n",
      "|1962-03-19 00:00:00| 6.656310081481934| 6.656310081481934| 6.44805|6.508125|1.5387872|75900.0|   AA|\n",
      "|1962-04-12 00:00:00| 6.315885066986084| 6.339914798736572|6.307875|6.331905|1.4971201|52500.0|   AA|\n",
      "|1962-07-25 00:00:00| 5.338665008544922| 5.338665008544922|  5.2065|5.322645|1.2652313|60500.0|   AA|\n",
      "|1962-05-10 00:00:00| 5.663070201873779|  5.73916482925415|   5.607| 5.62302|1.3295121|82500.0|   AA|\n",
      "|1962-02-02 00:00:00| 5.931405067443848| 5.955434799194336|5.907375|5.915385|1.3915651|30500.0|   AA|\n",
      "|1962-10-11 00:00:00| 5.338665008544922| 5.338665008544922| 5.23854|5.306625|1.2677196|33900.0|   AA|\n",
      "|1962-04-27 00:00:00| 6.147675037384033| 6.255809783935547|6.147675|6.155685|1.4554563|43900.0|   AA|\n",
      "|1962-04-05 00:00:00|6.5321550369262695|6.5321550369262695|   6.408| 6.45606|1.5264753|85800.0|   AA|\n",
      "|1962-04-09 00:00:00| 6.440040111541748| 6.440040111541748|   6.408| 6.44004|1.5226886|35900.0|   AA|\n",
      "|1962-02-28 00:00:00|6.1076250076293945|6.2237701416015625| 6.03954| 6.03954|1.4279944|47900.0|   AA|\n",
      "|1962-10-18 00:00:00| 5.206500053405762| 5.206500053405762|5.114385|5.130405|1.2256229|33900.0|   AA|\n",
      "|1962-03-22 00:00:00| 6.640289783477783| 6.764444828033447| 6.64029|6.764445|1.5993919|57900.0|   AA|\n",
      "|1962-01-29 00:00:00| 5.931405067443848| 5.955434799194336|5.915385|5.923395|1.3934486|42500.0|   AA|\n",
      "|1962-12-18 00:00:00| 5.214509963989258|   5.2465500831604|5.122395|5.122395|1.2306238|78500.0|   AA|\n",
      "|1962-04-25 00:00:00| 6.440040111541748| 6.440040111541748| 6.23979| 6.23979|1.4753419|51900.0|   AA|\n",
      "|1962-05-08 00:00:00|  5.81525993347168| 5.823269844055176|5.731155|5.731155|1.3550793|69900.0|   AA|\n",
      "|1962-01-15 00:00:00| 6.139665126800537| 6.139665126800537| 6.05556| 6.05556|1.4245404|64500.0|   AA|\n",
      "|1962-10-22 00:00:00| 5.038290023803711| 5.038290023803711|4.938165|4.938165|1.1796975|65900.0|   AA|\n",
      "|1962-10-26 00:00:00|  5.32264518737793|  5.32264518737793| 5.21451| 5.23854|1.2514548|59900.0|   AA|\n",
      "|1962-04-13 00:00:00| 6.331904888153076| 6.355935096740723|6.307875|6.331905|1.4971201|63900.0|   AA|\n",
      "|1962-06-06 00:00:00| 5.538915157318115|  5.60699987411499|5.538915|5.562945|1.3223519|35900.0|   AA|\n",
      "|1962-01-26 00:00:00| 5.915384769439697| 5.931405067443848|5.915385|5.931405|1.3953344|37900.0|   AA|\n",
      "|1962-10-01 00:00:00| 5.214509963989258| 5.222519874572754|5.106375|5.114385|1.2217951|37900.0|   AA|\n",
      "|1962-10-09 00:00:00| 5.262569904327393| 5.338665008544922| 5.24655|5.338665| 1.275375|21900.0|   AA|\n",
      "|1962-12-31 00:00:00|  5.45481014251709|  5.45481014251709| 5.41476|  5.4468|1.3085586|54500.0|   AA|\n",
      "|1962-01-03 00:00:00|6.5321550369262695| 6.632279872894287|6.524145| 6.63228|1.5602118|74500.0|   AA|\n",
      "+-------------------+------------------+------------------+--------+--------+---------+-------+-----+\n",
      "only showing top 30 rows\n",
      "\n"
     ]
    }
   ],
   "source": [
    "year_1962_df.filter('volume!=0').orderBy('stock').show(30)"
   ]
  },
  {
   "cell_type": "markdown",
   "metadata": {},
   "source": [
    "> ℹ️ **Instructions** ℹ️\n",
    ">\n",
    "> Once you have identified the column that needs to undergo imputation, update the values for the affected records by using the average value for the affected stock.\n",
    ">\n",
    ">*You may use as many coding cells as necessary.*"
   ]
  },
  {
   "cell_type": "code",
   "execution_count": 32,
   "metadata": {},
   "outputs": [
    {
     "data": {
      "text/plain": [
       "1.1014219280169133"
      ]
     },
     "execution_count": 32,
     "metadata": {},
     "output_type": "execute_result"
    }
   ],
   "source": [
    "year_1962_df.agg(F.avg('open')).collect()[0][0]"
   ]
  },
  {
   "cell_type": "code",
   "execution_count": 33,
   "metadata": {},
   "outputs": [
    {
     "data": {
      "text/plain": [
       "16.028819454351698"
      ]
     },
     "execution_count": 33,
     "metadata": {},
     "output_type": "execute_result"
    }
   ],
   "source": [
    "year_1962_df.agg(F.avg('high')).collect()[0][0]"
   ]
  },
  {
   "cell_type": "code",
   "execution_count": 34,
   "metadata": {},
   "outputs": [
    {
     "data": {
      "text/plain": [
       "546946.4157706093"
      ]
     },
     "execution_count": 34,
     "metadata": {},
     "output_type": "execute_result"
    }
   ],
   "source": [
    "year_1962_df.agg(F.avg('volume')).collect()[0][0]"
   ]
  },
  {
   "cell_type": "code",
   "execution_count": 35,
   "metadata": {},
   "outputs": [],
   "source": [
    "#TODO: Write your code here\n",
    "year_1962_df=year_1962_df.withColumn('open', when(F.col('open')==0, year_1962_df.agg(F.avg('open')).collect()[0][0]).otherwise(F.col('open')))"
   ]
  },
  {
   "cell_type": "code",
   "execution_count": 36,
   "metadata": {},
   "outputs": [],
   "source": [
    "#TODO: Write your code here\n",
    "year_1962_df=year_1962_df.withColumn('high', when(F.col('high')==0, year_1962_df.agg(F.avg('high')).collect()[0][0]).otherwise(F.col('high')))"
   ]
  },
  {
   "cell_type": "code",
   "execution_count": 37,
   "metadata": {},
   "outputs": [],
   "source": [
    "#TODO: Write your code here\n",
    "year_1962_df=year_1962_df.withColumn('volume', when(F.col('volume')==0, year_1962_df.agg(F.avg('volume')).collect()[0][0]).otherwise(F.col('volume')))"
   ]
  },
  {
   "cell_type": "code",
   "execution_count": 38,
   "metadata": {},
   "outputs": [
    {
     "name": "stdout",
     "output_type": "stream",
     "text": [
      "+----+----+----+---+-----+---------+------+-----+\n",
      "|date|open|high|low|close|adj_close|volume|stock|\n",
      "+----+----+----+---+-----+---------+------+-----+\n",
      "+----+----+----+---+-----+---------+------+-----+\n",
      "\n"
     ]
    }
   ],
   "source": [
    "year_1962_df.filter(F.col('open')==0).show()"
   ]
  },
  {
   "cell_type": "code",
   "execution_count": 39,
   "metadata": {},
   "outputs": [
    {
     "name": "stdout",
     "output_type": "stream",
     "text": [
      "+----+----+----+---+-----+---------+------+-----+\n",
      "|date|open|high|low|close|adj_close|volume|stock|\n",
      "+----+----+----+---+-----+---------+------+-----+\n",
      "+----+----+----+---+-----+---------+------+-----+\n",
      "\n"
     ]
    }
   ],
   "source": [
    "year_1962_df.filter(F.col('high')==0).show()"
   ]
  },
  {
   "cell_type": "code",
   "execution_count": 40,
   "metadata": {},
   "outputs": [
    {
     "name": "stdout",
     "output_type": "stream",
     "text": [
      "+----+----+----+---+-----+---------+------+-----+\n",
      "|date|open|high|low|close|adj_close|volume|stock|\n",
      "+----+----+----+---+-----+---------+------+-----+\n",
      "+----+----+----+---+-----+---------+------+-----+\n",
      "\n"
     ]
    }
   ],
   "source": [
    "year_1962_df.filter(F.col('volume')==0).show()"
   ]
  },
  {
   "cell_type": "markdown",
   "metadata": {},
   "source": [
    "\n",
    "## Consistency\n",
    "\n",
    "Consistency is the absence of difference when comparing two or more representations of a thing against a reference.\n",
    "\n",
    "Data entries that refer to the same record or entity have to be consistent across all entries, e.g., if you are dealing with records from a logger in the field, the entries for that logger have to remain consistent, and the name or primary key of that logger cannot change from one entry to another. \n",
    "\n",
    "For example, 'Logger1', 'Loger1' and 'Logge1' are examples of inconsistent keys. \n",
    "\n",
    "This is not just within a single table but also becomes more important if you are dealing with relational data. In which case, the mappings between tables and systems must be consistent. If not, the relationships will be completely lost between the tables and referential integrity compromised. \n",
    "\n",
    "- **Measured by**: Analysis of pattern and/or value frequency;\n",
    "- **Units**: Percentage;\n",
    "- **Related to**: Accuracy, Validity, and Uniqueness."
   ]
  },
  {
   "cell_type": "markdown",
   "metadata": {},
   "source": [
    "> ℹ️ **Instructions** ℹ️\n",
    ">\n",
    "> There currently exists a stock that has inconsistent naming. Make use of the metadata to determine which stock is inconsistently named, then update the dataframe appropriately to get rid of this inconsistency.\n",
    ">\n",
    ">*You may use as many coding cells as necessary.*"
   ]
  },
  {
   "cell_type": "code",
   "execution_count": 41,
   "metadata": {},
   "outputs": [
    {
     "data": {
      "text/plain": [
       "['ARNCA']"
      ]
     },
     "execution_count": 41,
     "metadata": {},
     "output_type": "execute_result"
    }
   ],
   "source": [
    "#TODO: Write your code here (checking for inconsistency in naming)\n",
    "list(set(year_1962_df.select('stock').rdd.flatMap(lambda x: x).collect())-set(meta_df.select('symbol').rdd.flatMap(lambda x: x).collect()))"
   ]
  },
  {
   "cell_type": "code",
   "execution_count": 42,
   "metadata": {},
   "outputs": [
    {
     "data": {
      "text/html": [
       "<div>\n",
       "<style scoped>\n",
       "    .dataframe tbody tr th:only-of-type {\n",
       "        vertical-align: middle;\n",
       "    }\n",
       "\n",
       "    .dataframe tbody tr th {\n",
       "        vertical-align: top;\n",
       "    }\n",
       "\n",
       "    .dataframe thead th {\n",
       "        text-align: right;\n",
       "    }\n",
       "</style>\n",
       "<table border=\"1\" class=\"dataframe\">\n",
       "  <thead>\n",
       "    <tr style=\"text-align: right;\">\n",
       "      <th></th>\n",
       "      <th>Nasdaq Traded</th>\n",
       "      <th>Symbol</th>\n",
       "      <th>Security Name</th>\n",
       "      <th>Listing Exchange</th>\n",
       "      <th>Market Category</th>\n",
       "      <th>ETF</th>\n",
       "      <th>Round Lot Size</th>\n",
       "      <th>Test Issue</th>\n",
       "      <th>Financial Status</th>\n",
       "      <th>CQS Symbol</th>\n",
       "      <th>NASDAQ Symbol</th>\n",
       "      <th>NextShares</th>\n",
       "    </tr>\n",
       "  </thead>\n",
       "  <tbody>\n",
       "    <tr>\n",
       "      <th>0</th>\n",
       "      <td>Y</td>\n",
       "      <td>ARNA</td>\n",
       "      <td>Arena Pharmaceuticals, Inc. - Common Stock</td>\n",
       "      <td>Q</td>\n",
       "      <td>Q</td>\n",
       "      <td>N</td>\n",
       "      <td>100.0</td>\n",
       "      <td>N</td>\n",
       "      <td>N</td>\n",
       "      <td>None</td>\n",
       "      <td>ARNA</td>\n",
       "      <td>N</td>\n",
       "    </tr>\n",
       "    <tr>\n",
       "      <th>1</th>\n",
       "      <td>Y</td>\n",
       "      <td>ARNC</td>\n",
       "      <td>Arconic Corporation Common Stock</td>\n",
       "      <td>N</td>\n",
       "      <td></td>\n",
       "      <td>N</td>\n",
       "      <td>100.0</td>\n",
       "      <td>N</td>\n",
       "      <td>None</td>\n",
       "      <td>ARNC</td>\n",
       "      <td>ARNC</td>\n",
       "      <td>N</td>\n",
       "    </tr>\n",
       "  </tbody>\n",
       "</table>\n",
       "</div>"
      ],
      "text/plain": [
       "  Nasdaq Traded Symbol                               Security Name  \\\n",
       "0             Y   ARNA  Arena Pharmaceuticals, Inc. - Common Stock   \n",
       "1             Y   ARNC           Arconic Corporation Common Stock    \n",
       "\n",
       "  Listing Exchange Market Category ETF Round Lot Size Test Issue  \\\n",
       "0                Q               Q   N          100.0          N   \n",
       "1                N                   N          100.0          N   \n",
       "\n",
       "  Financial Status CQS Symbol NASDAQ Symbol NextShares  \n",
       "0                N       None          ARNA          N  \n",
       "1             None       ARNC          ARNC          N  "
      ]
     },
     "execution_count": 42,
     "metadata": {},
     "output_type": "execute_result"
    }
   ],
   "source": [
    "#checking the correct name for the stock\n",
    "meta_df.createOrReplaceTempView(\"metadata\")\n",
    "\n",
    "spark.sql(\"select * from metadata where symbol like 'ARN%'\").toPandas()"
   ]
  },
  {
   "cell_type": "code",
   "execution_count": 43,
   "metadata": {},
   "outputs": [],
   "source": [
    "#Replacing the stock with the correct name \n",
    "year_1962_df = year_1962_df.withColumn('stock', when(F.col('stock')=='ARNCA', 'ARNC').otherwise(F.col(\"stock\")))"
   ]
  },
  {
   "cell_type": "code",
   "execution_count": 44,
   "metadata": {},
   "outputs": [
    {
     "data": {
      "text/plain": [
       "[]"
      ]
     },
     "execution_count": 44,
     "metadata": {},
     "output_type": "execute_result"
    }
   ],
   "source": [
    "#INSERTED checking again for inconsistency in naming\n",
    "list(set(year_1962_df.select('stock').rdd.flatMap(lambda x: x).collect())-set(meta_df.select('symbol').rdd.flatMap(lambda x: x).collect()))"
   ]
  },
  {
   "cell_type": "markdown",
   "metadata": {},
   "source": [
    "## Timeliness\n",
    "\n",
    "Timeliness is the degree to which data represent reality from the required point in time.\n",
    "\n",
    "Timeliness expects that the data within your dataset is sufficiently up to date. If you are trying to answer questions that relate to recent problems, having timely data is extremely important. For example, you cannot use current flight patterns to model how many aeroplanes will be required by a large aeronautics company within the next 5-10 years. \n",
    "\n",
    "Similarly, when answering questions that require real-time answers (e.g., predicting when a pipe will burst in a manufacturing plant), you have to be set up to receive real-time data from sensors and loggers. \n",
    "\n",
    "- **Measured by**: Time difference;\n",
    "- **Units**: Time;\n",
    "- **Related to**: Accuracy because it will decay as time progress. "
   ]
  },
  {
   "cell_type": "markdown",
   "metadata": {},
   "source": [
    "It is important to see the latest value for each of the stocks that we are looking at:"
   ]
  },
  {
   "cell_type": "code",
   "execution_count": 45,
   "metadata": {},
   "outputs": [
    {
     "name": "stdout",
     "output_type": "stream",
     "text": [
      "+-----+-------------------+\n",
      "|stock|          max(Date)|\n",
      "+-----+-------------------+\n",
      "|   AA|1962-12-31 00:00:00|\n",
      "|  XOM|1962-12-31 00:00:00|\n",
      "|  DIS|1962-12-31 00:00:00|\n",
      "|   PG|1962-12-31 00:00:00|\n",
      "|   GT|1962-12-31 00:00:00|\n",
      "|   MO|1962-12-31 00:00:00|\n",
      "|  IBM|1962-12-31 00:00:00|\n",
      "|  JNJ|1962-12-31 00:00:00|\n",
      "|  CVX|1962-12-31 00:00:00|\n",
      "|  DTE|1962-12-31 00:00:00|\n",
      "|   BA|1962-12-31 00:00:00|\n",
      "|   GE|1962-12-31 00:00:00|\n",
      "|  HPQ|1962-12-31 00:00:00|\n",
      "| ARNC|1962-12-31 00:00:00|\n",
      "|  CAT|1962-12-31 00:00:00|\n",
      "|   IP|1962-12-31 00:00:00|\n",
      "|   FL|1962-12-31 00:00:00|\n",
      "|   ED|1962-12-31 00:00:00|\n",
      "|  NAV|1962-11-30 00:00:00|\n",
      "|   KO|1962-12-31 00:00:00|\n",
      "+-----+-------------------+\n",
      "\n"
     ]
    }
   ],
   "source": [
    "year_1962_df.groupBy('stock').agg(F.max('Date')).show()"
   ]
  },
  {
   "cell_type": "markdown",
   "metadata": {},
   "source": [
    "Sometimes, some of these axes of data quality will be less important than others. \n",
    "This is one of those cases where it is less important to have timely data, since \n",
    "we are trying to create a training dataset for a stock market prediction algorithm. \n",
    "\n",
    "It is important to know the context in which you are doing your modelling. "
   ]
  },
  {
   "cell_type": "markdown",
   "metadata": {},
   "source": [
    "### Gaps in the dataset\n",
    "\n",
    "Let's see if we can find inconsistencies in the time series by having a look at the number of entries for each of the tickers.\n",
    " \n",
    "> ℹ️ **Instructions** ℹ️\n",
    ">\n",
    "> Uncomment and use the below code to determine which dates had entries that were not equal to 20. You may have to change the name of the dataframe to see the resultant output\n",
    ">\n",
    ">*You may use as many coding cells as necessary.*"
   ]
  },
  {
   "cell_type": "code",
   "execution_count": 46,
   "metadata": {},
   "outputs": [
    {
     "name": "stdout",
     "output_type": "stream",
     "text": [
      "+-------------------+-----+\n",
      "|               date|count|\n",
      "+-------------------+-----+\n",
      "|1962-02-19 00:00:00|   23|\n",
      "|1962-02-26 00:00:00|   23|\n",
      "|1962-06-07 00:00:00|   19|\n",
      "|1962-09-05 00:00:00|   21|\n",
      "|1962-02-23 00:00:00|   23|\n",
      "|1962-09-14 00:00:00|   21|\n",
      "|1962-02-07 00:00:00|   23|\n",
      "|1962-06-12 00:00:00|   19|\n",
      "|1962-03-19 00:00:00|   19|\n",
      "|1962-09-24 00:00:00|   21|\n",
      "|1962-02-12 00:00:00|   23|\n",
      "|1962-02-20 00:00:00|   23|\n",
      "|1962-02-02 00:00:00|   23|\n",
      "|1962-07-25 00:00:00|   19|\n",
      "|1962-03-14 00:00:00|   19|\n",
      "|1962-09-18 00:00:00|   21|\n",
      "|1962-09-12 00:00:00|   21|\n",
      "|1962-12-18 00:00:00|   19|\n",
      "|1962-12-20 00:00:00|   19|\n",
      "|1962-09-20 00:00:00|   21|\n",
      "|1962-03-22 00:00:00|   19|\n",
      "|1962-09-28 00:00:00|   21|\n",
      "|1962-12-21 00:00:00|   19|\n",
      "|1962-09-04 00:00:00|   21|\n",
      "|1962-09-21 00:00:00|   21|\n",
      "|1962-12-03 00:00:00|   19|\n",
      "|1962-03-20 00:00:00|   19|\n",
      "|1962-09-11 00:00:00|   21|\n",
      "|1962-02-05 00:00:00|   23|\n",
      "|1962-09-25 00:00:00|   21|\n",
      "|1962-09-06 00:00:00|   21|\n",
      "|1962-02-13 00:00:00|   23|\n",
      "|1962-02-21 00:00:00|   23|\n",
      "|1962-09-19 00:00:00|   21|\n",
      "|1962-06-06 00:00:00|   19|\n",
      "|1962-09-26 00:00:00|   21|\n",
      "|1962-02-15 00:00:00|   23|\n",
      "|1962-02-27 00:00:00|   23|\n",
      "|1962-12-28 00:00:00|   19|\n",
      "|1962-07-20 00:00:00|   19|\n",
      "|1962-02-06 00:00:00|   23|\n",
      "|1962-09-17 00:00:00|   21|\n",
      "|1962-09-27 00:00:00|   21|\n",
      "|1962-12-31 00:00:00|   19|\n",
      "|1962-02-16 00:00:00|   23|\n",
      "|1962-09-13 00:00:00|   21|\n",
      "|1962-09-07 00:00:00|   21|\n",
      "|1962-02-28 00:00:00|   23|\n",
      "|1962-02-14 00:00:00|   23|\n",
      "|1962-02-09 00:00:00|   23|\n",
      "|1962-02-01 00:00:00|   23|\n",
      "|1962-02-08 00:00:00|   23|\n",
      "|1962-09-10 00:00:00|   21|\n",
      "|1962-06-11 00:00:00|   19|\n",
      "|1962-03-15 00:00:00|   19|\n",
      "|1962-06-20 00:00:00|   19|\n",
      "|1962-03-16 00:00:00|   19|\n",
      "|1962-07-19 00:00:00|   19|\n",
      "|1962-06-08 00:00:00|   19|\n",
      "|1962-07-03 00:00:00|   19|\n",
      "|1962-03-28 00:00:00|   19|\n",
      "|1962-06-05 00:00:00|   19|\n",
      "|1962-07-23 00:00:00|   19|\n",
      "|1962-07-30 00:00:00|   19|\n",
      "|1962-12-13 00:00:00|   18|\n",
      "|1962-06-14 00:00:00|   19|\n",
      "|1962-07-31 00:00:00|   19|\n",
      "|1962-03-06 00:00:00|   19|\n",
      "|1962-03-13 00:00:00|   19|\n",
      "|1962-12-06 00:00:00|   18|\n",
      "|1962-03-05 00:00:00|   19|\n",
      "|1962-07-27 00:00:00|   19|\n",
      "|1962-06-27 00:00:00|   19|\n",
      "|1962-06-21 00:00:00|   19|\n",
      "|1962-06-25 00:00:00|   19|\n",
      "|1962-03-21 00:00:00|   19|\n",
      "|1962-07-16 00:00:00|   19|\n",
      "|1962-07-06 00:00:00|   19|\n",
      "|1962-12-04 00:00:00|   18|\n",
      "|1962-03-26 00:00:00|   19|\n",
      "|1962-07-11 00:00:00|   19|\n",
      "|1962-07-26 00:00:00|   19|\n",
      "|1962-06-29 00:00:00|   19|\n",
      "|1962-03-01 00:00:00|   19|\n",
      "|1962-12-24 00:00:00|   19|\n",
      "|1962-07-09 00:00:00|   19|\n",
      "|1962-03-12 00:00:00|   19|\n",
      "|1962-06-18 00:00:00|   19|\n",
      "|1962-12-10 00:00:00|   18|\n",
      "|1962-12-14 00:00:00|   18|\n",
      "|1962-12-12 00:00:00|   18|\n",
      "|1962-06-28 00:00:00|   19|\n",
      "|1962-12-17 00:00:00|   18|\n",
      "|1962-03-02 00:00:00|   19|\n",
      "|1962-07-18 00:00:00|   19|\n",
      "|1962-07-10 00:00:00|   19|\n",
      "|1962-12-26 00:00:00|   19|\n",
      "|1962-07-05 00:00:00|   19|\n",
      "|1962-03-23 00:00:00|   19|\n",
      "|1962-03-27 00:00:00|   19|\n",
      "|1962-03-29 00:00:00|   19|\n",
      "|1962-12-07 00:00:00|   18|\n",
      "|1962-06-13 00:00:00|   19|\n",
      "|1962-12-11 00:00:00|   18|\n",
      "|1962-07-24 00:00:00|   19|\n",
      "|1962-03-08 00:00:00|   19|\n",
      "|1962-03-09 00:00:00|   19|\n",
      "|1962-03-30 00:00:00|   19|\n",
      "|1962-06-01 00:00:00|   19|\n",
      "|1962-06-26 00:00:00|   19|\n",
      "|1962-06-19 00:00:00|   19|\n",
      "|1962-07-13 00:00:00|   19|\n",
      "|1962-12-19 00:00:00|   19|\n",
      "|1962-06-22 00:00:00|   19|\n",
      "|1962-07-02 00:00:00|   19|\n",
      "|1962-07-17 00:00:00|   19|\n",
      "|1962-07-12 00:00:00|   19|\n",
      "|1962-06-04 00:00:00|   19|\n",
      "|1962-03-07 00:00:00|   19|\n",
      "|1962-06-15 00:00:00|   19|\n",
      "|1962-12-27 00:00:00|   19|\n",
      "|1962-12-05 00:00:00|   18|\n",
      "+-------------------+-----+\n",
      "\n"
     ]
    }
   ],
   "source": [
    "year_1962_df.orderBy('date').groupby('date').count().where(F.col('count') != 20).show(400)"
   ]
  },
  {
   "cell_type": "markdown",
   "metadata": {},
   "source": [
    "> ℹ️ **Instructions** ℹ️\n",
    ">\n",
    "> From the above result, investigate the number of times a stock appears for the given month. You can infer the months by using the output of the previous cell.\n",
    ">\n",
    ">*You may use as many coding cells as necessary.*"
   ]
  },
  {
   "cell_type": "code",
   "execution_count": 47,
   "metadata": {},
   "outputs": [
    {
     "name": "stdout",
     "output_type": "stream",
     "text": [
      "+-----------+-----+-----+\n",
      "|month(date)|stock|count|\n",
      "+-----------+-----+-----+\n",
      "|          1|   AA|   22|\n",
      "|          1| ARNC|   22|\n",
      "|          1|   BA|   22|\n",
      "|          1|  CAT|   22|\n",
      "|          1|  CVX|   22|\n",
      "|          1|  DIS|   22|\n",
      "|          1|  DTE|   22|\n",
      "|          1|   ED|   22|\n",
      "|          1|   FL|   22|\n",
      "|          1|   GE|   22|\n",
      "|          1|   GT|   22|\n",
      "|          1|  HPQ|   22|\n",
      "|          1|  IBM|   22|\n",
      "|          1|   IP|   22|\n",
      "|          1|  JNJ|   22|\n",
      "|          1|   KO|   22|\n",
      "|          1|   MO|   22|\n",
      "|          1|  NAV|   22|\n",
      "|          1|   PG|   22|\n",
      "|          1|  XOM|   22|\n",
      "|          2|   AA|   19|\n",
      "|          2| ARNC|   19|\n",
      "|          2|   BA|   19|\n",
      "|          2|  CAT|   19|\n",
      "|          2|  CVX|   19|\n",
      "|          2|  DIS|   19|\n",
      "|          2|  DTE|   19|\n",
      "|          2|   ED|   19|\n",
      "|          2|   FL|   19|\n",
      "|          2|   GE|   19|\n",
      "|          2|   GT|   19|\n",
      "|          2|  HPQ|   76|\n",
      "|          2|  IBM|   19|\n",
      "|          2|   IP|   19|\n",
      "|          2|  JNJ|   19|\n",
      "|          2|   KO|   19|\n",
      "|          2|   MO|   19|\n",
      "|          2|  NAV|   19|\n",
      "|          2|   PG|   19|\n",
      "|          2|  XOM|   19|\n",
      "|          3|   AA|   22|\n",
      "|          3| ARNC|   22|\n",
      "|          3|   BA|   22|\n",
      "|          3|  CVX|   22|\n",
      "|          3|  DIS|   22|\n",
      "|          3|  DTE|   22|\n",
      "|          3|   ED|   22|\n",
      "|          3|   FL|   22|\n",
      "|          3|   GE|   22|\n",
      "|          3|   GT|   22|\n",
      "|          3|  HPQ|   22|\n",
      "|          3|  IBM|   22|\n",
      "|          3|   IP|   22|\n",
      "|          3|  JNJ|   22|\n",
      "|          3|   KO|   22|\n",
      "|          3|   MO|   22|\n",
      "|          3|  NAV|   22|\n",
      "|          3|   PG|   22|\n",
      "|          3|  XOM|   22|\n",
      "|          4|   AA|   20|\n",
      "|          4| ARNC|   20|\n",
      "|          4|   BA|   20|\n",
      "|          4|  CAT|   20|\n",
      "|          4|  CVX|   20|\n",
      "|          4|  DIS|   20|\n",
      "|          4|  DTE|   20|\n",
      "|          4|   ED|   20|\n",
      "|          4|   FL|   20|\n",
      "|          4|   GE|   20|\n",
      "|          4|   GT|   20|\n",
      "|          4|  HPQ|   20|\n",
      "|          4|  IBM|   20|\n",
      "|          4|   IP|   20|\n",
      "|          4|  JNJ|   20|\n",
      "|          4|   KO|   20|\n",
      "|          4|   MO|   20|\n",
      "|          4|  NAV|   20|\n",
      "|          4|   PG|   20|\n",
      "|          4|  XOM|   20|\n",
      "|          5|   AA|   22|\n",
      "|          5| ARNC|   22|\n",
      "|          5|   BA|   22|\n",
      "|          5|  CAT|   22|\n",
      "|          5|  CVX|   22|\n",
      "|          5|  DIS|   22|\n",
      "|          5|  DTE|   22|\n",
      "|          5|   ED|   22|\n",
      "|          5|   FL|   22|\n",
      "|          5|   GE|   22|\n",
      "|          5|   GT|   22|\n",
      "|          5|  HPQ|   22|\n",
      "|          5|  IBM|   22|\n",
      "|          5|   IP|   22|\n",
      "|          5|  JNJ|   22|\n",
      "|          5|   KO|   22|\n",
      "|          5|   MO|   22|\n",
      "|          5|  NAV|   22|\n",
      "|          5|   PG|   22|\n",
      "|          5|  XOM|   22|\n",
      "|          6|   AA|   21|\n",
      "|          6| ARNC|   21|\n",
      "|          6|   BA|   21|\n",
      "|          6|  CAT|   21|\n",
      "|          6|  CVX|   21|\n",
      "|          6|  DIS|   21|\n",
      "|          6|  DTE|   21|\n",
      "|          6|   ED|   21|\n",
      "|          6|   GE|   21|\n",
      "|          6|   GT|   21|\n",
      "|          6|  HPQ|   21|\n",
      "|          6|  IBM|   21|\n",
      "|          6|   IP|   21|\n",
      "|          6|  JNJ|   21|\n",
      "|          6|   KO|   21|\n",
      "|          6|   MO|   21|\n",
      "|          6|  NAV|   21|\n",
      "|          6|   PG|   21|\n",
      "|          6|  XOM|   21|\n",
      "|          7|   AA|   21|\n",
      "|          7| ARNC|   21|\n",
      "|          7|   BA|   21|\n",
      "|          7|  CAT|   21|\n",
      "|          7|  CVX|   21|\n",
      "|          7|  DIS|   21|\n",
      "|          7|  DTE|   21|\n",
      "|          7|   ED|   21|\n",
      "|          7|   FL|   21|\n",
      "|          7|   GE|   21|\n",
      "|          7|   GT|   21|\n",
      "|          7|  HPQ|   21|\n",
      "|          7|  IBM|   21|\n",
      "|          7|   IP|   21|\n",
      "|          7|   KO|   21|\n",
      "|          7|   MO|   21|\n",
      "|          7|  NAV|   21|\n",
      "|          7|   PG|   21|\n",
      "|          7|  XOM|   21|\n",
      "|          8|   AA|   23|\n",
      "|          8| ARNC|   23|\n",
      "|          8|   BA|   23|\n",
      "|          8|  CAT|   23|\n",
      "|          8|  CVX|   23|\n",
      "|          8|  DIS|   23|\n",
      "|          8|  DTE|   23|\n",
      "|          8|   ED|   23|\n",
      "|          8|   FL|   23|\n",
      "|          8|   GE|   23|\n",
      "|          8|   GT|   23|\n",
      "|          8|  HPQ|   23|\n",
      "|          8|  IBM|   23|\n",
      "|          8|   IP|   23|\n",
      "|          8|  JNJ|   23|\n",
      "|          8|   KO|   23|\n",
      "|          8|   MO|   23|\n",
      "|          8|  NAV|   23|\n",
      "|          8|   PG|   23|\n",
      "|          8|  XOM|   23|\n",
      "|          9|   AA|   19|\n",
      "|          9| ARNC|   19|\n",
      "|          9|   BA|   19|\n",
      "|          9|  CAT|   19|\n",
      "|          9|  CVX|   19|\n",
      "|          9|  DIS|   19|\n",
      "|          9|  DTE|   19|\n",
      "|          9|   ED|   38|\n",
      "|          9|   FL|   19|\n",
      "|          9|   GE|   19|\n",
      "|          9|   GT|   19|\n",
      "|          9|  HPQ|   19|\n",
      "|          9|  IBM|   19|\n",
      "|          9|   IP|   19|\n",
      "|          9|  JNJ|   19|\n",
      "|          9|   KO|   19|\n",
      "|          9|   MO|   19|\n",
      "|          9|  NAV|   19|\n",
      "|          9|   PG|   19|\n",
      "|          9|  XOM|   19|\n",
      "|         10|   AA|   23|\n",
      "|         10| ARNC|   23|\n",
      "|         10|   BA|   23|\n",
      "|         10|  CAT|   23|\n",
      "|         10|  CVX|   23|\n",
      "|         10|  DIS|   23|\n",
      "|         10|  DTE|   23|\n",
      "|         10|   ED|   23|\n",
      "|         10|   FL|   23|\n",
      "|         10|   GE|   23|\n",
      "|         10|   GT|   23|\n",
      "|         10|  HPQ|   23|\n",
      "|         10|  IBM|   23|\n",
      "|         10|   IP|   23|\n",
      "|         10|  JNJ|   23|\n",
      "|         10|   KO|   23|\n",
      "|         10|   MO|   23|\n",
      "|         10|  NAV|   23|\n",
      "|         10|   PG|   23|\n",
      "|         10|  XOM|   23|\n",
      "|         11|   AA|   20|\n",
      "|         11| ARNC|   20|\n",
      "|         11|   BA|   20|\n",
      "|         11|  CAT|   20|\n",
      "|         11|  CVX|   20|\n",
      "|         11|  DIS|   20|\n",
      "|         11|  DTE|   20|\n",
      "|         11|   ED|   20|\n",
      "|         11|   FL|   20|\n",
      "|         11|   GE|   20|\n",
      "|         11|   GT|   20|\n",
      "|         11|  HPQ|   20|\n",
      "|         11|  IBM|   20|\n",
      "|         11|   IP|   20|\n",
      "|         11|  JNJ|   20|\n",
      "|         11|   KO|   20|\n",
      "|         11|   MO|   20|\n",
      "|         11|  NAV|   20|\n",
      "|         11|   PG|   20|\n",
      "|         11|  XOM|   20|\n",
      "|         12|   AA|   20|\n",
      "|         12| ARNC|   20|\n",
      "|         12|   BA|   10|\n",
      "|         12|  CAT|   20|\n",
      "|         12|  CVX|   20|\n",
      "|         12|  DIS|   20|\n",
      "|         12|  DTE|   20|\n",
      "|         12|   ED|   20|\n",
      "|         12|   FL|   20|\n",
      "|         12|   GE|   20|\n",
      "|         12|   GT|   20|\n",
      "|         12|  HPQ|   20|\n",
      "|         12|  IBM|   20|\n",
      "|         12|   IP|   20|\n",
      "|         12|  JNJ|   20|\n",
      "|         12|   KO|   20|\n",
      "|         12|   MO|   20|\n",
      "|         12|   PG|   20|\n",
      "|         12|  XOM|   20|\n",
      "+-----------+-----+-----+\n",
      "\n"
     ]
    }
   ],
   "source": [
    "#TODO: Write your code here\n",
    "year_1962_df.groupby(F.month('date'),'stock').count().orderBy('month(date)','stock').show(400)"
   ]
  },
  {
   "cell_type": "markdown",
   "metadata": {},
   "source": [
    "## Uniqueness\n",
    "\n",
    "Uniqueness requires that nothing will be recorded more than once based upon how that thing is identified. It is the inverse of an assessment of the level of duplication.\n",
    "\n",
    "Each entry within the dataset should only relate to a single event that has occurred and thus should not be duplicated. This is largely mediated by having the appropriate primary key, which means sticking to the requirements of a good primary key. All fields in the tables should be non-transitively dependent on the primary key.\n",
    "\n",
    "As such, deduplication of the dataset may be required. \n",
    "\n",
    "- **Measured by**: Analysis of the number of things assessed in the “real world” compared to the number of records of things in the dataset. This requires a reference dataset which is the ground truth;\n",
    "- **Units**: Percentage;\n",
    "- **Related to**: Consistency."
   ]
  },
  {
   "cell_type": "markdown",
   "metadata": {},
   "source": [
    "### Duplication Test\n",
    "For time-series data, it is important to check for duplications, as we typically expect all values to be unique within the dataset.\n",
    "\n",
    "The first thing to check will be if the primary key values within the dataset are unique - in our case, that will be a combination of the stock name and the date.\n",
    "\n",
    "Secondly, we want to check if the entries are all unique, which is done by checking for duplicates across that whole dataset."
   ]
  },
  {
   "cell_type": "markdown",
   "metadata": {},
   "source": [
    "> ℹ️ **Instructions** ℹ️\n",
    ">\n",
    "> Write code to determine if there are any duplicates within the data, and then proceed to correct this by dropping them from the dataframe.\n",
    ">\n",
    ">*You may use as many coding cells as necessary.*"
   ]
  },
  {
   "cell_type": "code",
   "execution_count": 48,
   "metadata": {},
   "outputs": [
    {
     "name": "stdout",
     "output_type": "stream",
     "text": [
      "+-------------------+-----+-----+\n",
      "|               date|stock|count|\n",
      "+-------------------+-----+-----+\n",
      "|1962-02-05 00:00:00|  HPQ|    4|\n",
      "|1962-02-23 00:00:00|  HPQ|    4|\n",
      "|1962-02-06 00:00:00|  HPQ|    4|\n",
      "|1962-02-01 00:00:00|  HPQ|    4|\n",
      "|1962-02-07 00:00:00|  HPQ|    4|\n",
      "|1962-02-02 00:00:00|  HPQ|    4|\n",
      "|1962-02-27 00:00:00|  HPQ|    4|\n",
      "|1962-02-26 00:00:00|  HPQ|    4|\n",
      "|1962-02-15 00:00:00|  HPQ|    4|\n",
      "|1962-02-21 00:00:00|  HPQ|    4|\n",
      "|1962-02-09 00:00:00|  HPQ|    4|\n",
      "|1962-02-13 00:00:00|  HPQ|    4|\n",
      "|1962-02-28 00:00:00|  HPQ|    4|\n",
      "|1962-02-08 00:00:00|  HPQ|    4|\n",
      "|1962-02-12 00:00:00|  HPQ|    4|\n",
      "|1962-02-20 00:00:00|  HPQ|    4|\n",
      "|1962-02-19 00:00:00|  HPQ|    4|\n",
      "|1962-02-14 00:00:00|  HPQ|    4|\n",
      "|1962-02-16 00:00:00|  HPQ|    4|\n",
      "|1962-09-19 00:00:00|   ED|    2|\n",
      "+-------------------+-----+-----+\n",
      "only showing top 20 rows\n",
      "\n"
     ]
    }
   ],
   "source": [
    "#TODO: Write your code here\n",
    "year_1962_df.groupby(['date', 'stock']) \\\n",
    "  .count() \\\n",
    "  .where('count > 1') \\\n",
    "  .sort('count', ascending=False) \\\n",
    "  .show()"
   ]
  },
  {
   "cell_type": "code",
   "execution_count": 49,
   "metadata": {},
   "outputs": [],
   "source": [
    "year_1962_df=year_1962_df.dropDuplicates(['date', 'stock'])"
   ]
  },
  {
   "cell_type": "code",
   "execution_count": 50,
   "metadata": {},
   "outputs": [
    {
     "name": "stdout",
     "output_type": "stream",
     "text": [
      "+----+-----+-----+\n",
      "|date|stock|count|\n",
      "+----+-----+-----+\n",
      "+----+-----+-----+\n",
      "\n"
     ]
    }
   ],
   "source": [
    "#INSERTED (check again for duplicates\n",
    "year_1962_df.groupby(['date', 'stock']) \\\n",
    "  .count() \\\n",
    "  .where('count > 1') \\\n",
    "  .sort('count', ascending=False) \\\n",
    "  .show()"
   ]
  },
  {
   "cell_type": "markdown",
   "metadata": {},
   "source": [
    "## Validity\n",
    "Data is valid if it conforms to the syntax (format, type, range) of its definition.\n",
    "\n",
    "Certain values within a field may have specific criteria required to make it valid, e.g., numerical columns cannot contain alphabetical characters, which can occur due to scientific notation.\n",
    "\n",
    "This can be more difficult to determine in stings, in which case you may have to check using regex. \n",
    "\n",
    "- **Measured by**: Comparison between the data and metadata or documentation for the data item;\n",
    "- **Units**: Percentage of data items deemed Valid or Invalid;\n",
    "- **Related to**: Accuracy, Completeness, Consistency, and Uniqueness."
   ]
  },
  {
   "cell_type": "markdown",
   "metadata": {},
   "source": [
    "We need to first define what we expect from our dataset:\n",
    "\n",
    "- stock: string (nullable = true) => Should be contained in the list of expected tickers\n",
    "- date: date (nullable = true) => Should conform to date format, and be in the past\n",
    "- open: double (nullable = true) => Should be positive or 0\n",
    "- high: double (nullable = true) => Should be positive or 0\n",
    "- low: double (nullable = true) => Should be positive or 0 (should be < high)\n",
    "- close: double (nullable = true) => Should be positive or 0 (should be <= high )\n",
    "- adj_close: double (nullable = true) => Should be positive or 0\n",
    "- volume: integer (nullable = true) => Should be positive or 0\n",
    "- high_avg: double (nullable = true) => Derived (not needed to test)\n",
    "- high_imp: double (nullable = true) => Derived (not needed to test)\n",
    "- day_of_week: string (nullable = true) => Derived (not needed to test)\n",
    "\n",
    "*Is there any other logic that we can incorporate?*"
   ]
  },
  {
   "cell_type": "markdown",
   "metadata": {},
   "source": [
    "> ℹ️ **Instructions** ℹ️\n",
    ">\n",
    "> Use the metadata to check if all the stocks in your current dataframe are valid. In other words, make sure you have no foreign/unknown tickers in your dataframe.\n",
    ">\n",
    ">*You may use as many coding cells as necessary.*\n"
   ]
  },
  {
   "cell_type": "code",
   "execution_count": 51,
   "metadata": {},
   "outputs": [
    {
     "data": {
      "text/plain": [
       "[]"
      ]
     },
     "execution_count": 51,
     "metadata": {},
     "output_type": "execute_result"
    }
   ],
   "source": [
    "#TODO: Write your code here\n",
    "#check if there are any stocks in the dataframe that are not contained in the metadata\n",
    "\n",
    "list(set(year_1962_df.select('stock').rdd.flatMap(lambda x: x).collect())-set(meta_df.select('symbol').rdd.flatMap(lambda x: x).collect()))"
   ]
  },
  {
   "cell_type": "markdown",
   "metadata": {},
   "source": [
    "> ℹ️ **Instructions** ℹ️\n",
    ">\n",
    ">\n",
    ">Check if the date column contains only valid dates and all dates are in the past.\n",
    ">\n",
    ">*Valid dates should already be checked in the data reading step.*"
   ]
  },
  {
   "cell_type": "code",
   "execution_count": 52,
   "metadata": {},
   "outputs": [
    {
     "name": "stdout",
     "output_type": "stream",
     "text": [
      "+----+----+----+---+-----+---------+------+-----+\n",
      "|date|open|high|low|close|adj_close|volume|stock|\n",
      "+----+----+----+---+-----+---------+------+-----+\n",
      "+----+----+----+---+-----+---------+------+-----+\n",
      "\n"
     ]
    }
   ],
   "source": [
    "#TODO: Write your code here\n",
    "year_1962_df.filter((F.col('date')).isNull()).show()"
   ]
  },
  {
   "cell_type": "code",
   "execution_count": 53,
   "metadata": {},
   "outputs": [
    {
     "name": "stdout",
     "output_type": "stream",
     "text": [
      "+-------------------+-------------------+\n",
      "|          min(date)|          max(date)|\n",
      "+-------------------+-------------------+\n",
      "|1962-01-02 00:00:00|1962-12-31 00:00:00|\n",
      "+-------------------+-------------------+\n",
      "\n"
     ]
    }
   ],
   "source": [
    "#INSERTED (GET THE START AND END DATES OF year_1962_df)\n",
    "year_1962_df.agg(F.min(\"date\"), F.max(\"date\")).show()"
   ]
  },
  {
   "cell_type": "code",
   "execution_count": 54,
   "metadata": {},
   "outputs": [
    {
     "data": {
      "text/plain": [
       "0"
      ]
     },
     "execution_count": 54,
     "metadata": {},
     "output_type": "execute_result"
    }
   ],
   "source": [
    "#INSERTED (check if the all dates are in the past)\n",
    "import datetime as dt\n",
    "year_1962_df.where(F.col('date')>dt.datetime.now()).count()"
   ]
  },
  {
   "cell_type": "markdown",
   "metadata": {},
   "source": [
    "> ℹ️ **Instructions** ℹ️\n",
    ">\n",
    ">Check that all of numerical columns are positive."
   ]
  },
  {
   "cell_type": "code",
   "execution_count": 55,
   "metadata": {},
   "outputs": [
    {
     "name": "stdout",
     "output_type": "stream",
     "text": [
      "checking for negative values in open\n",
      "+----+----+----+---+-----+---------+------+-----+\n",
      "|date|open|high|low|close|adj_close|volume|stock|\n",
      "+----+----+----+---+-----+---------+------+-----+\n",
      "+----+----+----+---+-----+---------+------+-----+\n",
      "\n",
      "checking for negative values in high\n",
      "+----+----+----+---+-----+---------+------+-----+\n",
      "|date|open|high|low|close|adj_close|volume|stock|\n",
      "+----+----+----+---+-----+---------+------+-----+\n",
      "+----+----+----+---+-----+---------+------+-----+\n",
      "\n",
      "checking for negative values in low\n",
      "+----+----+----+---+-----+---------+------+-----+\n",
      "|date|open|high|low|close|adj_close|volume|stock|\n",
      "+----+----+----+---+-----+---------+------+-----+\n",
      "+----+----+----+---+-----+---------+------+-----+\n",
      "\n",
      "checking for negative values in close\n",
      "+----+----+----+---+-----+---------+------+-----+\n",
      "|date|open|high|low|close|adj_close|volume|stock|\n",
      "+----+----+----+---+-----+---------+------+-----+\n",
      "+----+----+----+---+-----+---------+------+-----+\n",
      "\n",
      "checking for negative values in adj_close\n",
      "+----+----+----+---+-----+---------+------+-----+\n",
      "|date|open|high|low|close|adj_close|volume|stock|\n",
      "+----+----+----+---+-----+---------+------+-----+\n",
      "+----+----+----+---+-----+---------+------+-----+\n",
      "\n",
      "checking for negative values in volume\n",
      "+----+----+----+---+-----+---------+------+-----+\n",
      "|date|open|high|low|close|adj_close|volume|stock|\n",
      "+----+----+----+---+-----+---------+------+-----+\n",
      "+----+----+----+---+-----+---------+------+-----+\n",
      "\n"
     ]
    }
   ],
   "source": [
    "#TODO: Write your code here\n",
    "for i in num_cols:\n",
    "    print(f'checking for negative values in {i}')\n",
    "    year_1962_df.filter(F.col(i)<0).show()"
   ]
  },
  {
   "cell_type": "markdown",
   "metadata": {},
   "source": [
    "### Save Updates\n",
    "\n",
    "With our initial work of checking the various dimensions of the data quality completed, we can now save these results to a CSV file.  "
   ]
  },
  {
   "cell_type": "code",
   "execution_count": 56,
   "metadata": {},
   "outputs": [
    {
     "name": "stdout",
     "output_type": "stream",
     "text": [
      "+-------------------+-------------------+-------------------+----------+----------+------------+-----------------+-----+\n",
      "|               date|               open|               high|       low|     close|   adj_close|           volume|stock|\n",
      "+-------------------+-------------------+-------------------+----------+----------+------------+-----------------+-----+\n",
      "|1962-02-26 00:00:00| 0.7562099099159241|  0.758713960647583| 0.7399339| 0.7461939|0.0017756341|        1257900.0|   GE|\n",
      "|1962-02-06 00:00:00| 1.1014219280169133| 3.3854167461395264|      20.0| 3.3630953| 0.053539913|         145600.0|  CVX|\n",
      "|1962-09-14 00:00:00|            0.21875|            0.21875|0.21614583|   0.21875|0.0035986318|         460800.0|   KO|\n",
      "|1962-04-18 00:00:00|  6.416009902954102|  6.448050022125244|  6.339915|  6.355935|   1.5028032|          41900.0|   AA|\n",
      "|1962-05-08 00:00:00| 1.1014219280169133|  6.416666507720947| 6.2604165| 6.2604165|    0.820745|          30000.0|   FL|\n",
      "|1962-05-08 00:00:00|  6.328333377838135|  6.328333377838135| 6.1266665| 6.1266665|  0.49672183|        1032000.0|  IBM|\n",
      "|1962-09-27 00:00:00| 1.1014219280169133|            29.3125|    29.125|   29.1875|   0.5014075|           1800.0|  DTE|\n",
      "|1962-01-10 00:00:00| 0.7161458134651184| 0.7236578464508057| 0.7136418|0.71990186|0.0017130706|        1956800.0|   GE|\n",
      "|1962-10-08 00:00:00| 0.2115885466337204| 0.2115885466337204|0.20833333|0.21126302|0.0034754681|         384000.0|   KO|\n",
      "|1962-05-29 00:00:00| 1.1014219280169133|            8.71875|    8.1875|   8.71875|  0.19961333|         168800.0|   ED|\n",
      "|1962-10-26 00:00:00| 1.1014219280169133|            28.4375|    28.125|   28.4375|  0.48852363|           2200.0|  DTE|\n",
      "|1962-08-10 00:00:00| 1.1014219280169133|  6.375207901000977| 6.2543507|  6.375208|   0.5673862|          71700.0|   IP|\n",
      "|1962-12-28 00:00:00| 1.1014219280169133|            3.90625| 3.8671875|   3.90625|  0.06380817|         132800.0|  CVX|\n",
      "|1962-04-02 00:00:00| 1.1014219280169133|  3.519345283508301| 3.4672618| 3.4747024| 0.055316698|          83200.0|  CVX|\n",
      "|1962-08-09 00:00:00| 1.1014219280169133|  3.340773820877075| 3.3184524| 3.3407738|   0.0541107|          75200.0|  CVX|\n",
      "|1962-03-22 00:00:00| 0.2513020932674408| 0.2545572817325592| 0.2513021|0.25325522|0.0041068336|        1344000.0|   KO|\n",
      "|1962-05-17 00:00:00| 1.1014219280169133|          1.6796875| 1.6484375| 1.6640625|  0.01499716|546946.4157706093|  XOM|\n",
      "|1962-07-20 00:00:00| 1.1014219280169133|  6.284564971923828| 6.1032796|  6.284565|   0.5593194|          45400.0|   IP|\n",
      "|1962-04-19 00:00:00|0.10288941860198975|0.10288941860198975|0.10067198|0.10155895|0.0056328103|        1437400.0|  HPQ|\n",
      "|1962-02-13 00:00:00| 1.6979166269302368|           1.703125| 1.6822916| 1.6927084|   0.1454009|          86400.0|  CAT|\n",
      "+-------------------+-------------------+-------------------+----------+----------+------------+-----------------+-----+\n",
      "only showing top 20 rows\n",
      "\n"
     ]
    }
   ],
   "source": [
    "year_1962_df.show()"
   ]
  },
  {
   "cell_type": "code",
   "execution_count": 57,
   "metadata": {},
   "outputs": [
    {
     "name": "stdout",
     "output_type": "stream",
     "text": [
      "root\n",
      " |-- date: timestamp (nullable = true)\n",
      " |-- open: double (nullable = true)\n",
      " |-- high: double (nullable = true)\n",
      " |-- low: float (nullable = true)\n",
      " |-- close: float (nullable = true)\n",
      " |-- adj_close: float (nullable = true)\n",
      " |-- volume: double (nullable = true)\n",
      " |-- stock: string (nullable = true)\n",
      "\n"
     ]
    }
   ],
   "source": [
    "year_1962_df.printSchema()"
   ]
  },
  {
   "cell_type": "code",
   "execution_count": null,
   "metadata": {},
   "outputs": [],
   "source": []
  },
  {
   "cell_type": "code",
   "execution_count": 58,
   "metadata": {},
   "outputs": [
    {
     "ename": "OSError",
     "evalue": "[Errno 22] Invalid argument",
     "output_type": "error",
     "traceback": [
      "\u001b[1;31m---------------------------------------------------------------------------\u001b[0m",
      "\u001b[1;31mOSError\u001b[0m                                   Traceback (most recent call last)",
      "\u001b[1;32m<ipython-input-58-854db9109766>\u001b[0m in \u001b[0;36m<module>\u001b[1;34m\u001b[0m\n\u001b[1;32m----> 1\u001b[1;33m \u001b[0myear_1962_df\u001b[0m\u001b[1;33m.\u001b[0m\u001b[0mselect\u001b[0m\u001b[1;33m(\u001b[0m\u001b[1;34m'date'\u001b[0m\u001b[1;33m)\u001b[0m\u001b[1;33m.\u001b[0m\u001b[0mtoPandas\u001b[0m\u001b[1;33m(\u001b[0m\u001b[1;33m)\u001b[0m\u001b[1;33m\u001b[0m\u001b[1;33m\u001b[0m\u001b[0m\n\u001b[0m",
      "\u001b[1;32m~\\anaconda3\\lib\\site-packages\\pyspark\\sql\\pandas\\conversion.py\u001b[0m in \u001b[0;36mtoPandas\u001b[1;34m(self)\u001b[0m\n\u001b[0;32m    203\u001b[0m \u001b[1;33m\u001b[0m\u001b[0m\n\u001b[0;32m    204\u001b[0m         \u001b[1;31m# Below is toPandas without Arrow optimization.\u001b[0m\u001b[1;33m\u001b[0m\u001b[1;33m\u001b[0m\u001b[1;33m\u001b[0m\u001b[0m\n\u001b[1;32m--> 205\u001b[1;33m         \u001b[0mpdf\u001b[0m \u001b[1;33m=\u001b[0m \u001b[0mpd\u001b[0m\u001b[1;33m.\u001b[0m\u001b[0mDataFrame\u001b[0m\u001b[1;33m.\u001b[0m\u001b[0mfrom_records\u001b[0m\u001b[1;33m(\u001b[0m\u001b[0mself\u001b[0m\u001b[1;33m.\u001b[0m\u001b[0mcollect\u001b[0m\u001b[1;33m(\u001b[0m\u001b[1;33m)\u001b[0m\u001b[1;33m,\u001b[0m \u001b[0mcolumns\u001b[0m\u001b[1;33m=\u001b[0m\u001b[0mself\u001b[0m\u001b[1;33m.\u001b[0m\u001b[0mcolumns\u001b[0m\u001b[1;33m)\u001b[0m\u001b[1;33m\u001b[0m\u001b[1;33m\u001b[0m\u001b[0m\n\u001b[0m\u001b[0;32m    206\u001b[0m         \u001b[0mcolumn_counter\u001b[0m \u001b[1;33m=\u001b[0m \u001b[0mCounter\u001b[0m\u001b[1;33m(\u001b[0m\u001b[0mself\u001b[0m\u001b[1;33m.\u001b[0m\u001b[0mcolumns\u001b[0m\u001b[1;33m)\u001b[0m\u001b[1;33m\u001b[0m\u001b[1;33m\u001b[0m\u001b[0m\n\u001b[0;32m    207\u001b[0m \u001b[1;33m\u001b[0m\u001b[0m\n",
      "\u001b[1;32m~\\anaconda3\\lib\\site-packages\\pyspark\\sql\\dataframe.py\u001b[0m in \u001b[0;36mcollect\u001b[1;34m(self)\u001b[0m\n\u001b[0;32m    816\u001b[0m         \u001b[1;32mwith\u001b[0m \u001b[0mSCCallSiteSync\u001b[0m\u001b[1;33m(\u001b[0m\u001b[0mself\u001b[0m\u001b[1;33m.\u001b[0m\u001b[0m_sc\u001b[0m\u001b[1;33m)\u001b[0m\u001b[1;33m:\u001b[0m\u001b[1;33m\u001b[0m\u001b[1;33m\u001b[0m\u001b[0m\n\u001b[0;32m    817\u001b[0m             \u001b[0msock_info\u001b[0m \u001b[1;33m=\u001b[0m \u001b[0mself\u001b[0m\u001b[1;33m.\u001b[0m\u001b[0m_jdf\u001b[0m\u001b[1;33m.\u001b[0m\u001b[0mcollectToPython\u001b[0m\u001b[1;33m(\u001b[0m\u001b[1;33m)\u001b[0m\u001b[1;33m\u001b[0m\u001b[1;33m\u001b[0m\u001b[0m\n\u001b[1;32m--> 818\u001b[1;33m         \u001b[1;32mreturn\u001b[0m \u001b[0mlist\u001b[0m\u001b[1;33m(\u001b[0m\u001b[0m_load_from_socket\u001b[0m\u001b[1;33m(\u001b[0m\u001b[0msock_info\u001b[0m\u001b[1;33m,\u001b[0m \u001b[0mBatchedSerializer\u001b[0m\u001b[1;33m(\u001b[0m\u001b[0mCPickleSerializer\u001b[0m\u001b[1;33m(\u001b[0m\u001b[1;33m)\u001b[0m\u001b[1;33m)\u001b[0m\u001b[1;33m)\u001b[0m\u001b[1;33m)\u001b[0m\u001b[1;33m\u001b[0m\u001b[1;33m\u001b[0m\u001b[0m\n\u001b[0m\u001b[0;32m    819\u001b[0m \u001b[1;33m\u001b[0m\u001b[0m\n\u001b[0;32m    820\u001b[0m     \u001b[1;32mdef\u001b[0m \u001b[0mtoLocalIterator\u001b[0m\u001b[1;33m(\u001b[0m\u001b[0mself\u001b[0m\u001b[1;33m,\u001b[0m \u001b[0mprefetchPartitions\u001b[0m\u001b[1;33m:\u001b[0m \u001b[0mbool\u001b[0m \u001b[1;33m=\u001b[0m \u001b[1;32mFalse\u001b[0m\u001b[1;33m)\u001b[0m \u001b[1;33m->\u001b[0m \u001b[0mIterator\u001b[0m\u001b[1;33m[\u001b[0m\u001b[0mRow\u001b[0m\u001b[1;33m]\u001b[0m\u001b[1;33m:\u001b[0m\u001b[1;33m\u001b[0m\u001b[1;33m\u001b[0m\u001b[0m\n",
      "\u001b[1;32m~\\anaconda3\\lib\\site-packages\\pyspark\\serializers.py\u001b[0m in \u001b[0;36mload_stream\u001b[1;34m(self, stream)\u001b[0m\n\u001b[0;32m    149\u001b[0m         \u001b[1;32mwhile\u001b[0m \u001b[1;32mTrue\u001b[0m\u001b[1;33m:\u001b[0m\u001b[1;33m\u001b[0m\u001b[1;33m\u001b[0m\u001b[0m\n\u001b[0;32m    150\u001b[0m             \u001b[1;32mtry\u001b[0m\u001b[1;33m:\u001b[0m\u001b[1;33m\u001b[0m\u001b[1;33m\u001b[0m\u001b[0m\n\u001b[1;32m--> 151\u001b[1;33m                 \u001b[1;32myield\u001b[0m \u001b[0mself\u001b[0m\u001b[1;33m.\u001b[0m\u001b[0m_read_with_length\u001b[0m\u001b[1;33m(\u001b[0m\u001b[0mstream\u001b[0m\u001b[1;33m)\u001b[0m\u001b[1;33m\u001b[0m\u001b[1;33m\u001b[0m\u001b[0m\n\u001b[0m\u001b[0;32m    152\u001b[0m             \u001b[1;32mexcept\u001b[0m \u001b[0mEOFError\u001b[0m\u001b[1;33m:\u001b[0m\u001b[1;33m\u001b[0m\u001b[1;33m\u001b[0m\u001b[0m\n\u001b[0;32m    153\u001b[0m                 \u001b[1;32mreturn\u001b[0m\u001b[1;33m\u001b[0m\u001b[1;33m\u001b[0m\u001b[0m\n",
      "\u001b[1;32m~\\anaconda3\\lib\\site-packages\\pyspark\\serializers.py\u001b[0m in \u001b[0;36m_read_with_length\u001b[1;34m(self, stream)\u001b[0m\n\u001b[0;32m    171\u001b[0m         \u001b[1;32mif\u001b[0m \u001b[0mlen\u001b[0m\u001b[1;33m(\u001b[0m\u001b[0mobj\u001b[0m\u001b[1;33m)\u001b[0m \u001b[1;33m<\u001b[0m \u001b[0mlength\u001b[0m\u001b[1;33m:\u001b[0m\u001b[1;33m\u001b[0m\u001b[1;33m\u001b[0m\u001b[0m\n\u001b[0;32m    172\u001b[0m             \u001b[1;32mraise\u001b[0m \u001b[0mEOFError\u001b[0m\u001b[1;33m\u001b[0m\u001b[1;33m\u001b[0m\u001b[0m\n\u001b[1;32m--> 173\u001b[1;33m         \u001b[1;32mreturn\u001b[0m \u001b[0mself\u001b[0m\u001b[1;33m.\u001b[0m\u001b[0mloads\u001b[0m\u001b[1;33m(\u001b[0m\u001b[0mobj\u001b[0m\u001b[1;33m)\u001b[0m\u001b[1;33m\u001b[0m\u001b[1;33m\u001b[0m\u001b[0m\n\u001b[0m\u001b[0;32m    174\u001b[0m \u001b[1;33m\u001b[0m\u001b[0m\n\u001b[0;32m    175\u001b[0m     \u001b[1;32mdef\u001b[0m \u001b[0mdumps\u001b[0m\u001b[1;33m(\u001b[0m\u001b[0mself\u001b[0m\u001b[1;33m,\u001b[0m \u001b[0mobj\u001b[0m\u001b[1;33m)\u001b[0m\u001b[1;33m:\u001b[0m\u001b[1;33m\u001b[0m\u001b[1;33m\u001b[0m\u001b[0m\n",
      "\u001b[1;32m~\\anaconda3\\lib\\site-packages\\pyspark\\serializers.py\u001b[0m in \u001b[0;36mloads\u001b[1;34m(self, obj, encoding)\u001b[0m\n\u001b[0;32m    469\u001b[0m \u001b[1;33m\u001b[0m\u001b[0m\n\u001b[0;32m    470\u001b[0m     \u001b[1;32mdef\u001b[0m \u001b[0mloads\u001b[0m\u001b[1;33m(\u001b[0m\u001b[0mself\u001b[0m\u001b[1;33m,\u001b[0m \u001b[0mobj\u001b[0m\u001b[1;33m,\u001b[0m \u001b[0mencoding\u001b[0m\u001b[1;33m=\u001b[0m\u001b[1;34m\"bytes\"\u001b[0m\u001b[1;33m)\u001b[0m\u001b[1;33m:\u001b[0m\u001b[1;33m\u001b[0m\u001b[1;33m\u001b[0m\u001b[0m\n\u001b[1;32m--> 471\u001b[1;33m         \u001b[1;32mreturn\u001b[0m \u001b[0mcloudpickle\u001b[0m\u001b[1;33m.\u001b[0m\u001b[0mloads\u001b[0m\u001b[1;33m(\u001b[0m\u001b[0mobj\u001b[0m\u001b[1;33m,\u001b[0m \u001b[0mencoding\u001b[0m\u001b[1;33m=\u001b[0m\u001b[0mencoding\u001b[0m\u001b[1;33m)\u001b[0m\u001b[1;33m\u001b[0m\u001b[1;33m\u001b[0m\u001b[0m\n\u001b[0m\u001b[0;32m    472\u001b[0m \u001b[1;33m\u001b[0m\u001b[0m\n\u001b[0;32m    473\u001b[0m \u001b[1;33m\u001b[0m\u001b[0m\n",
      "\u001b[1;32m~\\anaconda3\\lib\\site-packages\\pyspark\\sql\\types.py\u001b[0m in \u001b[0;36m<lambda>\u001b[1;34m(*a)\u001b[0m\n\u001b[0;32m   1727\u001b[0m \u001b[1;31m# This is used to unpickle a Row from JVM\u001b[0m\u001b[1;33m\u001b[0m\u001b[1;33m\u001b[0m\u001b[1;33m\u001b[0m\u001b[0m\n\u001b[0;32m   1728\u001b[0m \u001b[1;32mdef\u001b[0m \u001b[0m_create_row_inbound_converter\u001b[0m\u001b[1;33m(\u001b[0m\u001b[0mdataType\u001b[0m\u001b[1;33m:\u001b[0m \u001b[0mDataType\u001b[0m\u001b[1;33m)\u001b[0m \u001b[1;33m->\u001b[0m \u001b[0mCallable\u001b[0m\u001b[1;33m:\u001b[0m\u001b[1;33m\u001b[0m\u001b[1;33m\u001b[0m\u001b[0m\n\u001b[1;32m-> 1729\u001b[1;33m     \u001b[1;32mreturn\u001b[0m \u001b[1;32mlambda\u001b[0m \u001b[1;33m*\u001b[0m\u001b[0ma\u001b[0m\u001b[1;33m:\u001b[0m \u001b[0mdataType\u001b[0m\u001b[1;33m.\u001b[0m\u001b[0mfromInternal\u001b[0m\u001b[1;33m(\u001b[0m\u001b[0ma\u001b[0m\u001b[1;33m)\u001b[0m\u001b[1;33m\u001b[0m\u001b[1;33m\u001b[0m\u001b[0m\n\u001b[0m\u001b[0;32m   1730\u001b[0m \u001b[1;33m\u001b[0m\u001b[0m\n\u001b[0;32m   1731\u001b[0m \u001b[1;33m\u001b[0m\u001b[0m\n",
      "\u001b[1;32m~\\anaconda3\\lib\\site-packages\\pyspark\\sql\\types.py\u001b[0m in \u001b[0;36mfromInternal\u001b[1;34m(self, obj)\u001b[0m\n\u001b[0;32m    819\u001b[0m         \u001b[1;32mif\u001b[0m \u001b[0mself\u001b[0m\u001b[1;33m.\u001b[0m\u001b[0m_needSerializeAnyField\u001b[0m\u001b[1;33m:\u001b[0m\u001b[1;33m\u001b[0m\u001b[1;33m\u001b[0m\u001b[0m\n\u001b[0;32m    820\u001b[0m             \u001b[1;31m# Only calling fromInternal function for fields that need conversion\u001b[0m\u001b[1;33m\u001b[0m\u001b[1;33m\u001b[0m\u001b[1;33m\u001b[0m\u001b[0m\n\u001b[1;32m--> 821\u001b[1;33m             values = [\n\u001b[0m\u001b[0;32m    822\u001b[0m                 \u001b[0mf\u001b[0m\u001b[1;33m.\u001b[0m\u001b[0mfromInternal\u001b[0m\u001b[1;33m(\u001b[0m\u001b[0mv\u001b[0m\u001b[1;33m)\u001b[0m \u001b[1;32mif\u001b[0m \u001b[0mc\u001b[0m \u001b[1;32melse\u001b[0m \u001b[0mv\u001b[0m\u001b[1;33m\u001b[0m\u001b[1;33m\u001b[0m\u001b[0m\n\u001b[0;32m    823\u001b[0m                 \u001b[1;32mfor\u001b[0m \u001b[0mf\u001b[0m\u001b[1;33m,\u001b[0m \u001b[0mv\u001b[0m\u001b[1;33m,\u001b[0m \u001b[0mc\u001b[0m \u001b[1;32min\u001b[0m \u001b[0mzip\u001b[0m\u001b[1;33m(\u001b[0m\u001b[0mself\u001b[0m\u001b[1;33m.\u001b[0m\u001b[0mfields\u001b[0m\u001b[1;33m,\u001b[0m \u001b[0mobj\u001b[0m\u001b[1;33m,\u001b[0m \u001b[0mself\u001b[0m\u001b[1;33m.\u001b[0m\u001b[0m_needConversion\u001b[0m\u001b[1;33m)\u001b[0m\u001b[1;33m\u001b[0m\u001b[1;33m\u001b[0m\u001b[0m\n",
      "\u001b[1;32m~\\anaconda3\\lib\\site-packages\\pyspark\\sql\\types.py\u001b[0m in \u001b[0;36m<listcomp>\u001b[1;34m(.0)\u001b[0m\n\u001b[0;32m    820\u001b[0m             \u001b[1;31m# Only calling fromInternal function for fields that need conversion\u001b[0m\u001b[1;33m\u001b[0m\u001b[1;33m\u001b[0m\u001b[1;33m\u001b[0m\u001b[0m\n\u001b[0;32m    821\u001b[0m             values = [\n\u001b[1;32m--> 822\u001b[1;33m                 \u001b[0mf\u001b[0m\u001b[1;33m.\u001b[0m\u001b[0mfromInternal\u001b[0m\u001b[1;33m(\u001b[0m\u001b[0mv\u001b[0m\u001b[1;33m)\u001b[0m \u001b[1;32mif\u001b[0m \u001b[0mc\u001b[0m \u001b[1;32melse\u001b[0m \u001b[0mv\u001b[0m\u001b[1;33m\u001b[0m\u001b[1;33m\u001b[0m\u001b[0m\n\u001b[0m\u001b[0;32m    823\u001b[0m                 \u001b[1;32mfor\u001b[0m \u001b[0mf\u001b[0m\u001b[1;33m,\u001b[0m \u001b[0mv\u001b[0m\u001b[1;33m,\u001b[0m \u001b[0mc\u001b[0m \u001b[1;32min\u001b[0m \u001b[0mzip\u001b[0m\u001b[1;33m(\u001b[0m\u001b[0mself\u001b[0m\u001b[1;33m.\u001b[0m\u001b[0mfields\u001b[0m\u001b[1;33m,\u001b[0m \u001b[0mobj\u001b[0m\u001b[1;33m,\u001b[0m \u001b[0mself\u001b[0m\u001b[1;33m.\u001b[0m\u001b[0m_needConversion\u001b[0m\u001b[1;33m)\u001b[0m\u001b[1;33m\u001b[0m\u001b[1;33m\u001b[0m\u001b[0m\n\u001b[0;32m    824\u001b[0m             ]\n",
      "\u001b[1;32m~\\anaconda3\\lib\\site-packages\\pyspark\\sql\\types.py\u001b[0m in \u001b[0;36mfromInternal\u001b[1;34m(self, obj)\u001b[0m\n\u001b[0;32m    592\u001b[0m \u001b[1;33m\u001b[0m\u001b[0m\n\u001b[0;32m    593\u001b[0m     \u001b[1;32mdef\u001b[0m \u001b[0mfromInternal\u001b[0m\u001b[1;33m(\u001b[0m\u001b[0mself\u001b[0m\u001b[1;33m,\u001b[0m \u001b[0mobj\u001b[0m\u001b[1;33m:\u001b[0m \u001b[0mT\u001b[0m\u001b[1;33m)\u001b[0m \u001b[1;33m->\u001b[0m \u001b[0mT\u001b[0m\u001b[1;33m:\u001b[0m\u001b[1;33m\u001b[0m\u001b[1;33m\u001b[0m\u001b[0m\n\u001b[1;32m--> 594\u001b[1;33m         \u001b[1;32mreturn\u001b[0m \u001b[0mself\u001b[0m\u001b[1;33m.\u001b[0m\u001b[0mdataType\u001b[0m\u001b[1;33m.\u001b[0m\u001b[0mfromInternal\u001b[0m\u001b[1;33m(\u001b[0m\u001b[0mobj\u001b[0m\u001b[1;33m)\u001b[0m\u001b[1;33m\u001b[0m\u001b[1;33m\u001b[0m\u001b[0m\n\u001b[0m\u001b[0;32m    595\u001b[0m \u001b[1;33m\u001b[0m\u001b[0m\n\u001b[0;32m    596\u001b[0m     \u001b[1;32mdef\u001b[0m \u001b[0mtypeName\u001b[0m\u001b[1;33m(\u001b[0m\u001b[0mself\u001b[0m\u001b[1;33m)\u001b[0m \u001b[1;33m->\u001b[0m \u001b[0mstr\u001b[0m\u001b[1;33m:\u001b[0m  \u001b[1;31m# type: ignore[override]\u001b[0m\u001b[1;33m\u001b[0m\u001b[1;33m\u001b[0m\u001b[0m\n",
      "\u001b[1;32m~\\anaconda3\\lib\\site-packages\\pyspark\\sql\\types.py\u001b[0m in \u001b[0;36mfromInternal\u001b[1;34m(self, ts)\u001b[0m\n\u001b[0;32m    221\u001b[0m         \u001b[1;32mif\u001b[0m \u001b[0mts\u001b[0m \u001b[1;32mis\u001b[0m \u001b[1;32mnot\u001b[0m \u001b[1;32mNone\u001b[0m\u001b[1;33m:\u001b[0m\u001b[1;33m\u001b[0m\u001b[1;33m\u001b[0m\u001b[0m\n\u001b[0;32m    222\u001b[0m             \u001b[1;31m# using int to avoid precision loss in float\u001b[0m\u001b[1;33m\u001b[0m\u001b[1;33m\u001b[0m\u001b[1;33m\u001b[0m\u001b[0m\n\u001b[1;32m--> 223\u001b[1;33m             \u001b[1;32mreturn\u001b[0m \u001b[0mdatetime\u001b[0m\u001b[1;33m.\u001b[0m\u001b[0mdatetime\u001b[0m\u001b[1;33m.\u001b[0m\u001b[0mfromtimestamp\u001b[0m\u001b[1;33m(\u001b[0m\u001b[0mts\u001b[0m \u001b[1;33m//\u001b[0m \u001b[1;36m1000000\u001b[0m\u001b[1;33m)\u001b[0m\u001b[1;33m.\u001b[0m\u001b[0mreplace\u001b[0m\u001b[1;33m(\u001b[0m\u001b[0mmicrosecond\u001b[0m\u001b[1;33m=\u001b[0m\u001b[0mts\u001b[0m \u001b[1;33m%\u001b[0m \u001b[1;36m1000000\u001b[0m\u001b[1;33m)\u001b[0m\u001b[1;33m\u001b[0m\u001b[1;33m\u001b[0m\u001b[0m\n\u001b[0m\u001b[0;32m    224\u001b[0m \u001b[1;33m\u001b[0m\u001b[0m\n\u001b[0;32m    225\u001b[0m \u001b[1;33m\u001b[0m\u001b[0m\n",
      "\u001b[1;31mOSError\u001b[0m: [Errno 22] Invalid argument"
     ]
    }
   ],
   "source": [
    "year_1962_df.select('date').toPandas()"
   ]
  },
  {
   "cell_type": "code",
   "execution_count": null,
   "metadata": {},
   "outputs": [],
   "source": [
    "from pyspark.sql import functions as f\n",
    "year_1962_df.withColumn(\"date\", f.from_unixtime(f.unix_timestamp(year_1962_df.date), \"yyyy-MM-dd\")).toPandas()"
   ]
  },
  {
   "cell_type": "code",
   "execution_count": null,
   "metadata": {},
   "outputs": [],
   "source": [
    "from pyspark.sql.functions import *\n",
    "year_1962_df.withColumn(\"date_type\",to_date(\"date\")).show(5, truncate=False)"
   ]
  },
  {
   "cell_type": "code",
   "execution_count": null,
   "metadata": {},
   "outputs": [],
   "source": [
    "pd_df = year_1962_df.toPandas()"
   ]
  },
  {
   "cell_type": "code",
   "execution_count": null,
   "metadata": {},
   "outputs": [],
   "source": [
    "pd_df.to_csv('./Olusoji_Onigbinde_data_profiling.csv')"
   ]
  }
 ],
 "metadata": {
  "interpreter": {
   "hash": "24a0a2ddc4dffcb168e507551dd24967ddc40ea2df7a72a200a74e0ae6d88beb"
  },
  "kernelspec": {
   "display_name": "Python 3",
   "language": "python",
   "name": "python3"
  },
  "language_info": {
   "codemirror_mode": {
    "name": "ipython",
    "version": 3
   },
   "file_extension": ".py",
   "mimetype": "text/x-python",
   "name": "python",
   "nbconvert_exporter": "python",
   "pygments_lexer": "ipython3",
   "version": "3.8.5"
  }
 },
 "nbformat": 4,
 "nbformat_minor": 2
}
