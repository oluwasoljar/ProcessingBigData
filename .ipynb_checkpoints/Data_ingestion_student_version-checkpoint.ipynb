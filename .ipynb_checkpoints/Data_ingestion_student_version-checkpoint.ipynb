{
 "cells": [
  {
   "cell_type": "markdown",
   "metadata": {},
   "source": [
    "# Processing Big Data - Data Ingestion\n",
    "© Explore Data Science Academy\n",
    "\n",
    "## Honour Code\n",
    "I {OLUSOJI, ONIGBINDE}, confirm - by submitting this document - that the solutions in this notebook are a result of my own work and that I abide by the [EDSA honour code](https://drive.google.com/file/d/1QDCjGZJ8-FmJE3bZdIQNwnJyQKPhHZBn/view?usp=sharing).\n",
    "    Non-compliance with the honour code constitutes a material breach of contract.\n",
    "\n",
    "\n",
    "\n",
    "## Context \n",
    "\n",
    "To work constructively with any dataset, one needs to create an ingestion profile to make sure that the data at the source can be readily consumed. For this section of the predict, as the Data Engineer in the team, you will be required to design and implement the ingestion process. For the purposes of the project the AWS cloud storage service, namely, the S3 bucket service will act as your data source. All the data required can be found [here](https://processing-big-data-predict-stocks-data.s3.eu-west-1.amazonaws.com/stocks.zip).\n",
    "\n",
    "<div align=\"center\" style=\"width: 600px; font-size: 80%; text-align: center; margin: 0 auto\">\n",
    "<img src=\"https://raw.githubusercontent.com/Explore-AI/Pictures/master/data_engineering/transform/predict/DataIngestion.jpg\"\n",
    "     alt=\"Data Ingestion\"\n",
    "     style=\"float: center; padding-bottom=0.5em\"\n",
    "     width=40%/>\n",
    "     <p><em>Figure 1. Data Ingestion</em></p>\n",
    "</div>\n",
    "\n",
    "Your manager, Gnissecorp Atadgib, knowing very well that you've recently completed your Data Engineering qualification, asks you to make use of Apache Spark for the ingestion as well as the rest of the project. His rationale being, that stock market data is generated every day and is quite time-sensitive and would require scalability when deploying to a production environment. \n",
    "\n",
    "## Dataset - US Nasdaq\n",
    "\n",
    "\n",
    "\n",
    "\n",
    "<div align=\"center\" style=\"width: 600px; font-size: 80%; text-align: center; margin: 0 auto\">\n",
    "<img src=\"https://raw.githubusercontent.com/Explore-AI/Pictures/master/data_engineering/transform/predict/Nasdaq.png\"\n",
    "     alt=\"Nasdaq\"\n",
    "     style=\"float: center; padding-bottom=0.5em\"\n",
    "     width=50%/>\n",
    "     <p><em>Figure 2. Nasdaq</em></p>\n",
    "</div>\n",
    "\n",
    "The data that you will be working with is a historical snapshot of market data taken from the Nasdaq electronic market. This dataset contains historical daily prices for all tickers currently trading on Nasdaq. The up-to-date list can be found on their [website](https://www.nasdaq.com/)\n",
    "\n",
    "\n",
    "The provided data contains price data dating back from 02 January 1962 up until 01 April 2020. The data found in the S3 bucket has been stored in the following structure:\n",
    "\n",
    "```\n",
    "     stocks/<Year>/<Month>/<Day>/stocks.csv\n",
    "```\n",
    "Each CSV file for every trading day contains the following details:\n",
    "- **Date** - specifies trading date\n",
    "- **Open** - opening price\n",
    "- **High** - maximum price during the day\n",
    "- **Low** - minimum price during the day\n",
    "- **Close** - close price adjusted for splits\n",
    "- **Adj Close** - close price adjusted for both dividends and splits\n",
    "- **Volume** - the number of shares that changed hands during a given day"
   ]
  },
  {
   "cell_type": "markdown",
   "metadata": {},
   "source": [
    "## Basic initialisation\n",
    "To get you started, let's import some basic Python libraries as well as Spark modules and functions."
   ]
  },
  {
   "cell_type": "code",
   "execution_count": 28,
   "metadata": {},
   "outputs": [],
   "source": [
    "import pandas as pd\n",
    "import numpy as np\n",
    "import matplotlib.pyplot as plt\n",
    "\n",
    "from pyspark import SparkContext\n",
    "from pyspark.sql import SparkSession\n",
    "from pyspark.sql import functions as F\n",
    "from pyspark.sql.types import *"
   ]
  },
  {
   "cell_type": "markdown",
   "metadata": {},
   "source": [
    "Remember that we need a `SparkContext` and `SparkSession` to interface with Spark.\n",
    "We will mostly be using the `SparkContext` to interact with RDDs and the `SparkSession` to interface with Python objects.\n",
    "\n",
    "> ℹ️ **Instructions** ℹ️\n",
    ">\n",
    ">Initialise a new **Spark Context** and **Session** that you will use to interface with Spark."
   ]
  },
  {
   "cell_type": "code",
   "execution_count": 29,
   "metadata": {},
   "outputs": [],
   "source": [
    "#TODO: Write your code here\n",
    "sc = SparkContext()\n",
    "spark = SparkSession(sc)"
   ]
  },
  {
   "cell_type": "markdown",
   "metadata": {},
   "source": [
    "## Investigate dataset schema\n",
    "At this point, it is enough to read in a single file to ascertain the data structure. You will be required to use the information obtained from the small subset to create a data schema. This data schema will be used when reading the entire dataset using Spark.\n",
    "\n",
    "> ℹ️ **Instructions** ℹ️\n",
    ">\n",
    ">Make use of Pandas to read in a single file and investigate the plausible data types to be used when creating a Spark data schema. \n",
    ">\n",
    ">*You may use as many coding cells as necessary.*"
   ]
  },
  {
   "cell_type": "code",
   "execution_count": 32,
   "metadata": {},
   "outputs": [
    {
     "data": {
      "text/html": [
       "<div>\n",
       "<style scoped>\n",
       "    .dataframe tbody tr th:only-of-type {\n",
       "        vertical-align: middle;\n",
       "    }\n",
       "\n",
       "    .dataframe tbody tr th {\n",
       "        vertical-align: top;\n",
       "    }\n",
       "\n",
       "    .dataframe thead th {\n",
       "        text-align: right;\n",
       "    }\n",
       "</style>\n",
       "<table border=\"1\" class=\"dataframe\">\n",
       "  <thead>\n",
       "    <tr style=\"text-align: right;\">\n",
       "      <th></th>\n",
       "      <th>Date</th>\n",
       "      <th>Open</th>\n",
       "      <th>High</th>\n",
       "      <th>Low</th>\n",
       "      <th>Close</th>\n",
       "      <th>Adj Close</th>\n",
       "      <th>Volume</th>\n",
       "      <th>stock</th>\n",
       "    </tr>\n",
       "  </thead>\n",
       "  <tbody>\n",
       "    <tr>\n",
       "      <th>0</th>\n",
       "      <td>2018-01-02</td>\n",
       "      <td>67.419998</td>\n",
       "      <td>67.889999</td>\n",
       "      <td>67.339996</td>\n",
       "      <td>67.599998</td>\n",
       "      <td>66.243683</td>\n",
       "      <td>1047800.0</td>\n",
       "      <td>A</td>\n",
       "    </tr>\n",
       "    <tr>\n",
       "      <th>1</th>\n",
       "      <td>2018-01-02</td>\n",
       "      <td>54.060001</td>\n",
       "      <td>55.220001</td>\n",
       "      <td>53.910000</td>\n",
       "      <td>55.169998</td>\n",
       "      <td>55.169998</td>\n",
       "      <td>2928900.0</td>\n",
       "      <td>AA</td>\n",
       "    </tr>\n",
       "    <tr>\n",
       "      <th>2</th>\n",
       "      <td>2018-01-02</td>\n",
       "      <td>52.330002</td>\n",
       "      <td>53.099998</td>\n",
       "      <td>51.900002</td>\n",
       "      <td>52.990002</td>\n",
       "      <td>51.647556</td>\n",
       "      <td>4084700.0</td>\n",
       "      <td>AAL</td>\n",
       "    </tr>\n",
       "    <tr>\n",
       "      <th>3</th>\n",
       "      <td>2018-01-02</td>\n",
       "      <td>81.599998</td>\n",
       "      <td>81.599998</td>\n",
       "      <td>81.599998</td>\n",
       "      <td>81.599998</td>\n",
       "      <td>81.599998</td>\n",
       "      <td>0.0</td>\n",
       "      <td>AAMC</td>\n",
       "    </tr>\n",
       "    <tr>\n",
       "      <th>4</th>\n",
       "      <td>2018-01-02</td>\n",
       "      <td>3.460000</td>\n",
       "      <td>3.460000</td>\n",
       "      <td>3.250000</td>\n",
       "      <td>3.250000</td>\n",
       "      <td>3.204487</td>\n",
       "      <td>2300.0</td>\n",
       "      <td>AAME</td>\n",
       "    </tr>\n",
       "  </tbody>\n",
       "</table>\n",
       "</div>"
      ],
      "text/plain": [
       "         Date       Open       High        Low      Close  Adj Close  \\\n",
       "0  2018-01-02  67.419998  67.889999  67.339996  67.599998  66.243683   \n",
       "1  2018-01-02  54.060001  55.220001  53.910000  55.169998  55.169998   \n",
       "2  2018-01-02  52.330002  53.099998  51.900002  52.990002  51.647556   \n",
       "3  2018-01-02  81.599998  81.599998  81.599998  81.599998  81.599998   \n",
       "4  2018-01-02   3.460000   3.460000   3.250000   3.250000   3.204487   \n",
       "\n",
       "      Volume stock  \n",
       "0  1047800.0     A  \n",
       "1  2928900.0    AA  \n",
       "2  4084700.0   AAL  \n",
       "3        0.0  AAMC  \n",
       "4     2300.0  AAME  "
      ]
     },
     "execution_count": 32,
     "metadata": {},
     "output_type": "execute_result"
    }
   ],
   "source": [
    "#INSERTED\n",
    "pd_df = pd.read_csv('stocks/2007/01/02/stocks.csv')\n",
    "pd_df[:5]"
   ]
  },
  {
   "cell_type": "code",
   "execution_count": 33,
   "metadata": {},
   "outputs": [
    {
     "data": {
      "text/html": [
       "<div>\n",
       "<style scoped>\n",
       "    .dataframe tbody tr th:only-of-type {\n",
       "        vertical-align: middle;\n",
       "    }\n",
       "\n",
       "    .dataframe tbody tr th {\n",
       "        vertical-align: top;\n",
       "    }\n",
       "\n",
       "    .dataframe thead th {\n",
       "        text-align: right;\n",
       "    }\n",
       "</style>\n",
       "<table border=\"1\" class=\"dataframe\">\n",
       "  <thead>\n",
       "    <tr style=\"text-align: right;\">\n",
       "      <th></th>\n",
       "      <th>Open</th>\n",
       "      <th>High</th>\n",
       "      <th>Low</th>\n",
       "      <th>Close</th>\n",
       "      <th>Adj Close</th>\n",
       "      <th>Volume</th>\n",
       "    </tr>\n",
       "  </thead>\n",
       "  <tbody>\n",
       "    <tr>\n",
       "      <th>count</th>\n",
       "      <td>5076.000000</td>\n",
       "      <td>5076.000000</td>\n",
       "      <td>5076.000000</td>\n",
       "      <td>5076.000000</td>\n",
       "      <td>5076.000000</td>\n",
       "      <td>5.076000e+03</td>\n",
       "    </tr>\n",
       "    <tr>\n",
       "      <th>mean</th>\n",
       "      <td>80.408678</td>\n",
       "      <td>81.388041</td>\n",
       "      <td>77.965341</td>\n",
       "      <td>78.921924</td>\n",
       "      <td>76.959501</td>\n",
       "      <td>8.894758e+05</td>\n",
       "    </tr>\n",
       "    <tr>\n",
       "      <th>std</th>\n",
       "      <td>1531.759796</td>\n",
       "      <td>1534.803963</td>\n",
       "      <td>1426.378055</td>\n",
       "      <td>1428.790343</td>\n",
       "      <td>1422.659890</td>\n",
       "      <td>2.751321e+06</td>\n",
       "    </tr>\n",
       "    <tr>\n",
       "      <th>min</th>\n",
       "      <td>0.005000</td>\n",
       "      <td>0.005000</td>\n",
       "      <td>0.005000</td>\n",
       "      <td>0.005000</td>\n",
       "      <td>0.005000</td>\n",
       "      <td>0.000000e+00</td>\n",
       "    </tr>\n",
       "    <tr>\n",
       "      <th>25%</th>\n",
       "      <td>9.970000</td>\n",
       "      <td>10.150000</td>\n",
       "      <td>9.867500</td>\n",
       "      <td>10.020000</td>\n",
       "      <td>9.428198</td>\n",
       "      <td>3.690000e+04</td>\n",
       "    </tr>\n",
       "    <tr>\n",
       "      <th>50%</th>\n",
       "      <td>21.245000</td>\n",
       "      <td>21.780001</td>\n",
       "      <td>20.969999</td>\n",
       "      <td>21.445001</td>\n",
       "      <td>19.900460</td>\n",
       "      <td>1.897000e+05</td>\n",
       "    </tr>\n",
       "    <tr>\n",
       "      <th>75%</th>\n",
       "      <td>44.400002</td>\n",
       "      <td>45.322500</td>\n",
       "      <td>43.885001</td>\n",
       "      <td>44.602500</td>\n",
       "      <td>42.956839</td>\n",
       "      <td>7.222750e+05</td>\n",
       "    </tr>\n",
       "    <tr>\n",
       "      <th>max</th>\n",
       "      <td>101562.500000</td>\n",
       "      <td>101562.500000</td>\n",
       "      <td>93750.000000</td>\n",
       "      <td>93750.000000</td>\n",
       "      <td>93750.000000</td>\n",
       "      <td>8.067310e+07</td>\n",
       "    </tr>\n",
       "  </tbody>\n",
       "</table>\n",
       "</div>"
      ],
      "text/plain": [
       "                Open           High           Low         Close     Adj Close  \\\n",
       "count    5076.000000    5076.000000   5076.000000   5076.000000   5076.000000   \n",
       "mean       80.408678      81.388041     77.965341     78.921924     76.959501   \n",
       "std      1531.759796    1534.803963   1426.378055   1428.790343   1422.659890   \n",
       "min         0.005000       0.005000      0.005000      0.005000      0.005000   \n",
       "25%         9.970000      10.150000      9.867500     10.020000      9.428198   \n",
       "50%        21.245000      21.780001     20.969999     21.445001     19.900460   \n",
       "75%        44.400002      45.322500     43.885001     44.602500     42.956839   \n",
       "max    101562.500000  101562.500000  93750.000000  93750.000000  93750.000000   \n",
       "\n",
       "             Volume  \n",
       "count  5.076000e+03  \n",
       "mean   8.894758e+05  \n",
       "std    2.751321e+06  \n",
       "min    0.000000e+00  \n",
       "25%    3.690000e+04  \n",
       "50%    1.897000e+05  \n",
       "75%    7.222750e+05  \n",
       "max    8.067310e+07  "
      ]
     },
     "execution_count": 33,
     "metadata": {},
     "output_type": "execute_result"
    }
   ],
   "source": [
    "#INSERTED\n",
    "pd_df.describe()"
   ]
  },
  {
   "cell_type": "code",
   "execution_count": 34,
   "metadata": {},
   "outputs": [
    {
     "name": "stdout",
     "output_type": "stream",
     "text": [
      "+----------+------------------+------------------+-----------------+-----------------+------------------+---------+-----+\n",
      "|      Date|              Open|              High|              Low|            Close|         Adj Close|   Volume|stock|\n",
      "+----------+------------------+------------------+-----------------+-----------------+------------------+---------+-----+\n",
      "|2018-01-02| 67.41999816894531| 67.88999938964844|67.33999633789061|67.59999847412111| 66.24368286132811|1047800.0|    A|\n",
      "|2018-01-02| 54.06000137329102| 55.22000122070313|53.90999984741211|55.16999816894531| 55.16999816894531|2928900.0|   AA|\n",
      "|2018-01-02| 52.33000183105469|53.099998474121094| 51.9000015258789| 52.9900016784668| 51.64755630493164|4084700.0|  AAL|\n",
      "|2018-01-02|  81.5999984741211|  81.5999984741211| 81.5999984741211| 81.5999984741211|  81.5999984741211|      0.0| AAMC|\n",
      "|2018-01-02|3.4600000381469727|3.4600000381469727|             3.25|             3.25|3.2044866085052486|   2300.0| AAME|\n",
      "+----------+------------------+------------------+-----------------+-----------------+------------------+---------+-----+\n",
      "only showing top 5 rows\n",
      "\n"
     ]
    }
   ],
   "source": [
    "#INSERTED\n",
    "df = spark.read.csv('stocks/2018/01/02/stocks.csv', header=True)\n",
    "df.show(5)"
   ]
  },
  {
   "cell_type": "code",
   "execution_count": 35,
   "metadata": {},
   "outputs": [
    {
     "name": "stdout",
     "output_type": "stream",
     "text": [
      "root\n",
      " |-- Date: string (nullable = true)\n",
      " |-- Open: string (nullable = true)\n",
      " |-- High: string (nullable = true)\n",
      " |-- Low: string (nullable = true)\n",
      " |-- Close: string (nullable = true)\n",
      " |-- Adj Close: string (nullable = true)\n",
      " |-- Volume: string (nullable = true)\n",
      " |-- stock: string (nullable = true)\n",
      "\n"
     ]
    }
   ],
   "source": [
    "#TODO: Write your code here\n",
    "df.printSchema()"
   ]
  },
  {
   "cell_type": "markdown",
   "metadata": {},
   "source": [
    "## Read CSV files\n",
    "\n",
    "When working with big data, it is often not tenable to keep processing an entire data batch when you are in the process of development - this can be quite time-consuming. If the data is uniform, it is sufficient to work with a smaller subset to create basic functionality. Your manager has identified the year **1962** to perform the initial testing for data ingestion. \n",
    "\n",
    "> ℹ️ **Instructions** ℹ️\n",
    ">\n",
    ">Read in the data for **1962** using a data schema that purely uses string data types. You will be required to convert to the appropriate data types at a later stage.\n",
    ">\n",
    ">*You may use as many coding cells as necessary.*"
   ]
  },
  {
   "cell_type": "code",
   "execution_count": 36,
   "metadata": {},
   "outputs": [],
   "source": [
    "#INSERTED\n",
    "import os\n",
    "\n",
    "stocks_data = []\n",
    "parent_dir = r'stocks/2018/'\n",
    "for subdir, dirs, files in os.walk(parent_dir):\n",
    "    for file in files:\n",
    "        if file.endswith(\".csv\"):\n",
    "            stocks_data.append(os.path.join(subdir, file))           \n",
    "        else:\n",
    "            continue"
   ]
  },
  {
   "cell_type": "code",
   "execution_count": 37,
   "metadata": {},
   "outputs": [
    {
     "data": {
      "text/plain": [
       "['stocks/2018/01\\\\01\\\\stocks.csv',\n",
       " 'stocks/2018/01\\\\02\\\\stocks.csv',\n",
       " 'stocks/2018/01\\\\03\\\\stocks.csv',\n",
       " 'stocks/2018/01\\\\04\\\\stocks.csv',\n",
       " 'stocks/2018/01\\\\05\\\\stocks.csv',\n",
       " 'stocks/2018/01\\\\08\\\\stocks.csv',\n",
       " 'stocks/2018/01\\\\09\\\\stocks.csv',\n",
       " 'stocks/2018/01\\\\10\\\\stocks.csv',\n",
       " 'stocks/2018/01\\\\11\\\\stocks.csv',\n",
       " 'stocks/2018/01\\\\12\\\\stocks.csv',\n",
       " 'stocks/2018/01\\\\16\\\\stocks.csv',\n",
       " 'stocks/2018/01\\\\17\\\\stocks.csv',\n",
       " 'stocks/2018/01\\\\18\\\\stocks.csv',\n",
       " 'stocks/2018/01\\\\19\\\\stocks.csv',\n",
       " 'stocks/2018/01\\\\22\\\\stocks.csv',\n",
       " 'stocks/2018/01\\\\23\\\\stocks.csv',\n",
       " 'stocks/2018/01\\\\24\\\\stocks.csv',\n",
       " 'stocks/2018/01\\\\25\\\\stocks.csv',\n",
       " 'stocks/2018/01\\\\26\\\\stocks.csv',\n",
       " 'stocks/2018/01\\\\29\\\\stocks.csv',\n",
       " 'stocks/2018/01\\\\30\\\\stocks.csv',\n",
       " 'stocks/2018/01\\\\31\\\\stocks.csv',\n",
       " 'stocks/2018/02\\\\01\\\\stocks.csv',\n",
       " 'stocks/2018/02\\\\02\\\\stocks.csv',\n",
       " 'stocks/2018/02\\\\05\\\\stocks.csv',\n",
       " 'stocks/2018/02\\\\06\\\\stocks.csv',\n",
       " 'stocks/2018/02\\\\07\\\\stocks.csv',\n",
       " 'stocks/2018/02\\\\08\\\\stocks.csv',\n",
       " 'stocks/2018/02\\\\09\\\\stocks.csv',\n",
       " 'stocks/2018/02\\\\12\\\\stocks.csv',\n",
       " 'stocks/2018/02\\\\13\\\\stocks.csv',\n",
       " 'stocks/2018/02\\\\14\\\\stocks.csv',\n",
       " 'stocks/2018/02\\\\15\\\\stocks.csv',\n",
       " 'stocks/2018/02\\\\16\\\\stocks.csv',\n",
       " 'stocks/2018/02\\\\20\\\\stocks.csv',\n",
       " 'stocks/2018/02\\\\21\\\\stocks.csv',\n",
       " 'stocks/2018/02\\\\22\\\\stocks.csv',\n",
       " 'stocks/2018/02\\\\23\\\\stocks.csv',\n",
       " 'stocks/2018/02\\\\26\\\\stocks.csv',\n",
       " 'stocks/2018/02\\\\27\\\\stocks.csv',\n",
       " 'stocks/2018/02\\\\28\\\\stocks.csv',\n",
       " 'stocks/2018/03\\\\01\\\\stocks.csv',\n",
       " 'stocks/2018/03\\\\02\\\\stocks.csv',\n",
       " 'stocks/2018/03\\\\05\\\\stocks.csv',\n",
       " 'stocks/2018/03\\\\06\\\\stocks.csv',\n",
       " 'stocks/2018/03\\\\07\\\\stocks.csv',\n",
       " 'stocks/2018/03\\\\08\\\\stocks.csv',\n",
       " 'stocks/2018/03\\\\09\\\\stocks.csv',\n",
       " 'stocks/2018/03\\\\12\\\\stocks.csv',\n",
       " 'stocks/2018/03\\\\13\\\\stocks.csv',\n",
       " 'stocks/2018/03\\\\14\\\\stocks.csv',\n",
       " 'stocks/2018/03\\\\15\\\\stocks.csv',\n",
       " 'stocks/2018/03\\\\16\\\\stocks.csv',\n",
       " 'stocks/2018/03\\\\19\\\\stocks.csv',\n",
       " 'stocks/2018/03\\\\20\\\\stocks.csv',\n",
       " 'stocks/2018/03\\\\21\\\\stocks.csv',\n",
       " 'stocks/2018/03\\\\22\\\\stocks.csv',\n",
       " 'stocks/2018/03\\\\23\\\\stocks.csv',\n",
       " 'stocks/2018/03\\\\26\\\\stocks.csv',\n",
       " 'stocks/2018/03\\\\27\\\\stocks.csv',\n",
       " 'stocks/2018/03\\\\28\\\\stocks.csv',\n",
       " 'stocks/2018/03\\\\29\\\\stocks.csv',\n",
       " 'stocks/2018/04\\\\02\\\\stocks.csv',\n",
       " 'stocks/2018/04\\\\03\\\\stocks.csv',\n",
       " 'stocks/2018/04\\\\04\\\\stocks.csv',\n",
       " 'stocks/2018/04\\\\05\\\\stocks.csv',\n",
       " 'stocks/2018/04\\\\06\\\\stocks.csv',\n",
       " 'stocks/2018/04\\\\09\\\\stocks.csv',\n",
       " 'stocks/2018/04\\\\10\\\\stocks.csv',\n",
       " 'stocks/2018/04\\\\11\\\\stocks.csv',\n",
       " 'stocks/2018/04\\\\12\\\\stocks.csv',\n",
       " 'stocks/2018/04\\\\13\\\\stocks.csv',\n",
       " 'stocks/2018/04\\\\16\\\\stocks.csv',\n",
       " 'stocks/2018/04\\\\17\\\\stocks.csv',\n",
       " 'stocks/2018/04\\\\18\\\\stocks.csv',\n",
       " 'stocks/2018/04\\\\19\\\\stocks.csv',\n",
       " 'stocks/2018/04\\\\20\\\\stocks.csv',\n",
       " 'stocks/2018/04\\\\23\\\\stocks.csv',\n",
       " 'stocks/2018/04\\\\24\\\\stocks.csv',\n",
       " 'stocks/2018/04\\\\25\\\\stocks.csv',\n",
       " 'stocks/2018/04\\\\26\\\\stocks.csv',\n",
       " 'stocks/2018/04\\\\27\\\\stocks.csv',\n",
       " 'stocks/2018/04\\\\30\\\\stocks.csv',\n",
       " 'stocks/2018/05\\\\01\\\\stocks.csv',\n",
       " 'stocks/2018/05\\\\02\\\\stocks.csv',\n",
       " 'stocks/2018/05\\\\03\\\\stocks.csv',\n",
       " 'stocks/2018/05\\\\04\\\\stocks.csv',\n",
       " 'stocks/2018/05\\\\07\\\\stocks.csv',\n",
       " 'stocks/2018/05\\\\08\\\\stocks.csv',\n",
       " 'stocks/2018/05\\\\09\\\\stocks.csv',\n",
       " 'stocks/2018/05\\\\10\\\\stocks.csv',\n",
       " 'stocks/2018/05\\\\11\\\\stocks.csv',\n",
       " 'stocks/2018/05\\\\14\\\\stocks.csv',\n",
       " 'stocks/2018/05\\\\15\\\\stocks.csv',\n",
       " 'stocks/2018/05\\\\16\\\\stocks.csv',\n",
       " 'stocks/2018/05\\\\17\\\\stocks.csv',\n",
       " 'stocks/2018/05\\\\18\\\\stocks.csv',\n",
       " 'stocks/2018/05\\\\21\\\\stocks.csv',\n",
       " 'stocks/2018/05\\\\22\\\\stocks.csv',\n",
       " 'stocks/2018/05\\\\23\\\\stocks.csv',\n",
       " 'stocks/2018/05\\\\24\\\\stocks.csv',\n",
       " 'stocks/2018/05\\\\25\\\\stocks.csv',\n",
       " 'stocks/2018/05\\\\29\\\\stocks.csv',\n",
       " 'stocks/2018/05\\\\30\\\\stocks.csv',\n",
       " 'stocks/2018/05\\\\31\\\\stocks.csv',\n",
       " 'stocks/2018/06\\\\01\\\\stocks.csv',\n",
       " 'stocks/2018/06\\\\04\\\\stocks.csv',\n",
       " 'stocks/2018/06\\\\05\\\\stocks.csv',\n",
       " 'stocks/2018/06\\\\06\\\\stocks.csv',\n",
       " 'stocks/2018/06\\\\07\\\\stocks.csv',\n",
       " 'stocks/2018/06\\\\08\\\\stocks.csv',\n",
       " 'stocks/2018/06\\\\11\\\\stocks.csv',\n",
       " 'stocks/2018/06\\\\12\\\\stocks.csv',\n",
       " 'stocks/2018/06\\\\13\\\\stocks.csv',\n",
       " 'stocks/2018/06\\\\14\\\\stocks.csv',\n",
       " 'stocks/2018/06\\\\15\\\\stocks.csv',\n",
       " 'stocks/2018/06\\\\18\\\\stocks.csv',\n",
       " 'stocks/2018/06\\\\19\\\\stocks.csv',\n",
       " 'stocks/2018/06\\\\20\\\\stocks.csv',\n",
       " 'stocks/2018/06\\\\21\\\\stocks.csv',\n",
       " 'stocks/2018/06\\\\22\\\\stocks.csv',\n",
       " 'stocks/2018/06\\\\25\\\\stocks.csv',\n",
       " 'stocks/2018/06\\\\26\\\\stocks.csv',\n",
       " 'stocks/2018/06\\\\27\\\\stocks.csv',\n",
       " 'stocks/2018/06\\\\28\\\\stocks.csv',\n",
       " 'stocks/2018/06\\\\29\\\\stocks.csv',\n",
       " 'stocks/2018/07\\\\02\\\\stocks.csv',\n",
       " 'stocks/2018/07\\\\03\\\\stocks.csv',\n",
       " 'stocks/2018/07\\\\05\\\\stocks.csv',\n",
       " 'stocks/2018/07\\\\06\\\\stocks.csv',\n",
       " 'stocks/2018/07\\\\09\\\\stocks.csv',\n",
       " 'stocks/2018/07\\\\10\\\\stocks.csv',\n",
       " 'stocks/2018/07\\\\11\\\\stocks.csv',\n",
       " 'stocks/2018/07\\\\12\\\\stocks.csv',\n",
       " 'stocks/2018/07\\\\13\\\\stocks.csv',\n",
       " 'stocks/2018/07\\\\16\\\\stocks.csv',\n",
       " 'stocks/2018/07\\\\17\\\\stocks.csv',\n",
       " 'stocks/2018/07\\\\18\\\\stocks.csv',\n",
       " 'stocks/2018/07\\\\19\\\\stocks.csv',\n",
       " 'stocks/2018/07\\\\20\\\\stocks.csv',\n",
       " 'stocks/2018/07\\\\23\\\\stocks.csv',\n",
       " 'stocks/2018/07\\\\24\\\\stocks.csv',\n",
       " 'stocks/2018/07\\\\25\\\\stocks.csv',\n",
       " 'stocks/2018/07\\\\26\\\\stocks.csv',\n",
       " 'stocks/2018/07\\\\27\\\\stocks.csv',\n",
       " 'stocks/2018/07\\\\30\\\\stocks.csv',\n",
       " 'stocks/2018/07\\\\31\\\\stocks.csv',\n",
       " 'stocks/2018/08\\\\01\\\\stocks.csv',\n",
       " 'stocks/2018/08\\\\02\\\\stocks.csv',\n",
       " 'stocks/2018/08\\\\03\\\\stocks.csv',\n",
       " 'stocks/2018/08\\\\06\\\\stocks.csv',\n",
       " 'stocks/2018/08\\\\07\\\\stocks.csv',\n",
       " 'stocks/2018/08\\\\08\\\\stocks.csv',\n",
       " 'stocks/2018/08\\\\09\\\\stocks.csv',\n",
       " 'stocks/2018/08\\\\10\\\\stocks.csv',\n",
       " 'stocks/2018/08\\\\13\\\\stocks.csv',\n",
       " 'stocks/2018/08\\\\14\\\\stocks.csv',\n",
       " 'stocks/2018/08\\\\15\\\\stocks.csv',\n",
       " 'stocks/2018/08\\\\16\\\\stocks.csv',\n",
       " 'stocks/2018/08\\\\17\\\\stocks.csv',\n",
       " 'stocks/2018/08\\\\20\\\\stocks.csv',\n",
       " 'stocks/2018/08\\\\21\\\\stocks.csv',\n",
       " 'stocks/2018/08\\\\22\\\\stocks.csv',\n",
       " 'stocks/2018/08\\\\23\\\\stocks.csv',\n",
       " 'stocks/2018/08\\\\24\\\\stocks.csv',\n",
       " 'stocks/2018/08\\\\27\\\\stocks.csv',\n",
       " 'stocks/2018/08\\\\28\\\\stocks.csv',\n",
       " 'stocks/2018/08\\\\29\\\\stocks.csv',\n",
       " 'stocks/2018/08\\\\30\\\\stocks.csv',\n",
       " 'stocks/2018/08\\\\31\\\\stocks.csv',\n",
       " 'stocks/2018/09\\\\04\\\\stocks.csv',\n",
       " 'stocks/2018/09\\\\05\\\\stocks.csv',\n",
       " 'stocks/2018/09\\\\06\\\\stocks.csv',\n",
       " 'stocks/2018/09\\\\07\\\\stocks.csv',\n",
       " 'stocks/2018/09\\\\10\\\\stocks.csv',\n",
       " 'stocks/2018/09\\\\11\\\\stocks.csv',\n",
       " 'stocks/2018/09\\\\12\\\\stocks.csv',\n",
       " 'stocks/2018/09\\\\13\\\\stocks.csv',\n",
       " 'stocks/2018/09\\\\14\\\\stocks.csv',\n",
       " 'stocks/2018/09\\\\17\\\\stocks.csv',\n",
       " 'stocks/2018/09\\\\18\\\\stocks.csv',\n",
       " 'stocks/2018/09\\\\19\\\\stocks.csv',\n",
       " 'stocks/2018/09\\\\20\\\\stocks.csv',\n",
       " 'stocks/2018/09\\\\21\\\\stocks.csv',\n",
       " 'stocks/2018/09\\\\24\\\\stocks.csv',\n",
       " 'stocks/2018/09\\\\25\\\\stocks.csv',\n",
       " 'stocks/2018/09\\\\26\\\\stocks.csv',\n",
       " 'stocks/2018/09\\\\27\\\\stocks.csv',\n",
       " 'stocks/2018/09\\\\28\\\\stocks.csv',\n",
       " 'stocks/2018/10\\\\01\\\\stocks.csv',\n",
       " 'stocks/2018/10\\\\02\\\\stocks.csv',\n",
       " 'stocks/2018/10\\\\03\\\\stocks.csv',\n",
       " 'stocks/2018/10\\\\04\\\\stocks.csv',\n",
       " 'stocks/2018/10\\\\05\\\\stocks.csv',\n",
       " 'stocks/2018/10\\\\08\\\\stocks.csv',\n",
       " 'stocks/2018/10\\\\09\\\\stocks.csv',\n",
       " 'stocks/2018/10\\\\10\\\\stocks.csv',\n",
       " 'stocks/2018/10\\\\11\\\\stocks.csv',\n",
       " 'stocks/2018/10\\\\12\\\\stocks.csv',\n",
       " 'stocks/2018/10\\\\15\\\\stocks.csv',\n",
       " 'stocks/2018/10\\\\16\\\\stocks.csv',\n",
       " 'stocks/2018/10\\\\17\\\\stocks.csv',\n",
       " 'stocks/2018/10\\\\18\\\\stocks.csv',\n",
       " 'stocks/2018/10\\\\19\\\\stocks.csv',\n",
       " 'stocks/2018/10\\\\22\\\\stocks.csv',\n",
       " 'stocks/2018/10\\\\23\\\\stocks.csv',\n",
       " 'stocks/2018/10\\\\24\\\\stocks.csv',\n",
       " 'stocks/2018/10\\\\25\\\\stocks.csv',\n",
       " 'stocks/2018/10\\\\26\\\\stocks.csv',\n",
       " 'stocks/2018/10\\\\29\\\\stocks.csv',\n",
       " 'stocks/2018/10\\\\30\\\\stocks.csv',\n",
       " 'stocks/2018/10\\\\31\\\\stocks.csv',\n",
       " 'stocks/2018/11\\\\01\\\\stocks.csv',\n",
       " 'stocks/2018/11\\\\02\\\\stocks.csv',\n",
       " 'stocks/2018/11\\\\05\\\\stocks.csv',\n",
       " 'stocks/2018/11\\\\06\\\\stocks.csv',\n",
       " 'stocks/2018/11\\\\07\\\\stocks.csv',\n",
       " 'stocks/2018/11\\\\08\\\\stocks.csv',\n",
       " 'stocks/2018/11\\\\09\\\\stocks.csv',\n",
       " 'stocks/2018/11\\\\12\\\\stocks.csv',\n",
       " 'stocks/2018/11\\\\13\\\\stocks.csv',\n",
       " 'stocks/2018/11\\\\14\\\\stocks.csv',\n",
       " 'stocks/2018/11\\\\15\\\\stocks.csv',\n",
       " 'stocks/2018/11\\\\16\\\\stocks.csv',\n",
       " 'stocks/2018/11\\\\19\\\\stocks.csv',\n",
       " 'stocks/2018/11\\\\20\\\\stocks.csv',\n",
       " 'stocks/2018/11\\\\21\\\\stocks.csv',\n",
       " 'stocks/2018/11\\\\23\\\\stocks.csv',\n",
       " 'stocks/2018/11\\\\26\\\\stocks.csv',\n",
       " 'stocks/2018/11\\\\27\\\\stocks.csv',\n",
       " 'stocks/2018/11\\\\28\\\\stocks.csv',\n",
       " 'stocks/2018/11\\\\29\\\\stocks.csv',\n",
       " 'stocks/2018/11\\\\30\\\\stocks.csv',\n",
       " 'stocks/2018/12\\\\03\\\\stocks.csv',\n",
       " 'stocks/2018/12\\\\04\\\\stocks.csv',\n",
       " 'stocks/2018/12\\\\05\\\\stocks.csv',\n",
       " 'stocks/2018/12\\\\06\\\\stocks.csv',\n",
       " 'stocks/2018/12\\\\07\\\\stocks.csv',\n",
       " 'stocks/2018/12\\\\10\\\\stocks.csv',\n",
       " 'stocks/2018/12\\\\11\\\\stocks.csv',\n",
       " 'stocks/2018/12\\\\12\\\\stocks.csv',\n",
       " 'stocks/2018/12\\\\13\\\\stocks.csv',\n",
       " 'stocks/2018/12\\\\14\\\\stocks.csv',\n",
       " 'stocks/2018/12\\\\17\\\\stocks.csv',\n",
       " 'stocks/2018/12\\\\18\\\\stocks.csv',\n",
       " 'stocks/2018/12\\\\19\\\\stocks.csv',\n",
       " 'stocks/2018/12\\\\20\\\\stocks.csv',\n",
       " 'stocks/2018/12\\\\21\\\\stocks.csv',\n",
       " 'stocks/2018/12\\\\24\\\\stocks.csv',\n",
       " 'stocks/2018/12\\\\26\\\\stocks.csv',\n",
       " 'stocks/2018/12\\\\27\\\\stocks.csv',\n",
       " 'stocks/2018/12\\\\28\\\\stocks.csv',\n",
       " 'stocks/2018/12\\\\31\\\\stocks.csv']"
      ]
     },
     "execution_count": 37,
     "metadata": {},
     "output_type": "execute_result"
    }
   ],
   "source": [
    "#INSERTED\n",
    "stocks_data"
   ]
  },
  {
   "cell_type": "code",
   "execution_count": 38,
   "metadata": {},
   "outputs": [],
   "source": [
    "#TODO: Write your code here\n",
    "df_1 = spark.read \\\n",
    "     .format('csv') \\\n",
    "     .option('header',True) \\\n",
    "     .load(stocks_data)"
   ]
  },
  {
   "cell_type": "code",
   "execution_count": 39,
   "metadata": {},
   "outputs": [
    {
     "name": "stdout",
     "output_type": "stream",
     "text": [
      "+----------+------------------+------------------+------------------+------------------+------------------+----------+-----+\n",
      "|      Date|              Open|              High|               Low|             Close|         Adj Close|    Volume|stock|\n",
      "+----------+------------------+------------------+------------------+------------------+------------------+----------+-----+\n",
      "|2018-12-18| 68.44999694824219| 69.02999877929689| 67.38999938964844| 67.98999786376953| 67.07752990722656| 2112000.0|    A|\n",
      "|2018-12-18|  28.1200008392334| 28.65999984741211| 28.09000015258789|28.239999771118164|28.239999771118164| 2107800.0|   AA|\n",
      "|2018-12-18|32.470001220703125|33.650001525878906|32.470001220703125|33.540000915527344|33.006290435791016| 9117600.0|  AAL|\n",
      "|2018-12-18| 41.27999877929688|              45.0| 41.27999877929688| 41.58000183105469| 41.58000183105469|    2100.0| AAMC|\n",
      "|2018-12-18| 2.400000095367432|2.4200000762939453|2.3299999237060547|2.4200000762939453|2.4007937908172607|    7100.0| AAME|\n",
      "|2018-12-18|              42.0|43.560001373291016|  41.5099983215332| 42.95000076293945|  42.7149658203125| 1325200.0|  AAN|\n",
      "|2018-12-18|17.309999465942386| 17.68000030517578|15.140000343322756| 15.40999984741211| 15.40999984741211| 1744800.0| AAOI|\n",
      "|2018-12-18| 34.40999984741211| 35.34000015258789| 34.40999984741211|34.630001068115234| 34.39919662475586|  147600.0| AAON|\n",
      "|2018-12-18|             160.0|162.88999938964844| 157.8300018310547|158.24000549316406|157.49307250976562| 1312500.0|  AAP|\n",
      "|2018-12-18| 165.3800048828125|167.52999877929688|164.38999938964844|166.07000732421875|  163.224365234375|33841500.0| AAPL|\n",
      "|2018-12-18|              41.0|41.400001525878906|             40.75|41.099998474121094| 39.79087448120117|  297000.0|  AAT|\n",
      "|2018-12-18|0.6299999952316284|0.6299999952316284|0.6000000238418579|0.6000000238418579|0.6000000238418579|  426100.0|  AAU|\n",
      "|2018-12-18| 43.13999938964844|              43.5| 41.97999954223633| 42.11999893188477| 42.11999893188477|  441500.0| AAWW|\n",
      "|2018-12-18| 44.43999862670898| 45.43000030517578| 44.13000106811523|44.459999084472656|44.459999084472656|  735100.0| AAXN|\n",
      "|2018-12-18|25.420000076293945|26.559999465942386|25.420000076293945| 25.78000068664551| 23.25893592834473|  525100.0|   AB|\n",
      "|2018-12-18|19.540000915527344| 19.63999938964844| 19.34000015258789| 19.40999984741211|17.860050201416016| 3064600.0|  ABB|\n",
      "|2018-12-18| 85.45999908447266|              85.5| 82.80000305175781| 83.58000183105469| 76.92056274414062| 5288600.0| ABBV|\n",
      "|2018-12-18| 77.45999908447266|  78.5999984741211| 75.41999816894531| 76.23999786376953| 74.46778106689453| 1327200.0|  ABC|\n",
      "|2018-12-18| 31.61000061035156|32.450000762939446|31.149999618530273| 32.15999984741211| 31.43630599975586| 1413600.0| ABCB|\n",
      "|2018-12-18| 7.429999828338622| 7.489999771118164| 6.860000133514403| 7.190000057220459| 7.190000057220459|  800500.0| ABEO|\n",
      "+----------+------------------+------------------+------------------+------------------+------------------+----------+-----+\n",
      "only showing top 20 rows\n",
      "\n"
     ]
    }
   ],
   "source": [
    "#INSERTED\n",
    "df_1.show()"
   ]
  },
  {
   "cell_type": "code",
   "execution_count": 40,
   "metadata": {},
   "outputs": [
    {
     "data": {
      "text/html": [
       "<div>\n",
       "<style scoped>\n",
       "    .dataframe tbody tr th:only-of-type {\n",
       "        vertical-align: middle;\n",
       "    }\n",
       "\n",
       "    .dataframe tbody tr th {\n",
       "        vertical-align: top;\n",
       "    }\n",
       "\n",
       "    .dataframe thead th {\n",
       "        text-align: right;\n",
       "    }\n",
       "</style>\n",
       "<table border=\"1\" class=\"dataframe\">\n",
       "  <thead>\n",
       "    <tr style=\"text-align: right;\">\n",
       "      <th></th>\n",
       "      <th>summary</th>\n",
       "      <th>Date</th>\n",
       "      <th>Open</th>\n",
       "      <th>High</th>\n",
       "      <th>Low</th>\n",
       "      <th>Close</th>\n",
       "      <th>Adj Close</th>\n",
       "      <th>Volume</th>\n",
       "      <th>stock</th>\n",
       "    </tr>\n",
       "  </thead>\n",
       "  <tbody>\n",
       "    <tr>\n",
       "      <th>0</th>\n",
       "      <td>count</td>\n",
       "      <td>1311162</td>\n",
       "      <td>1311118</td>\n",
       "      <td>1311118</td>\n",
       "      <td>1311118</td>\n",
       "      <td>1311118</td>\n",
       "      <td>1311118</td>\n",
       "      <td>1311118</td>\n",
       "      <td>1311162</td>\n",
       "    </tr>\n",
       "    <tr>\n",
       "      <th>1</th>\n",
       "      <td>mean</td>\n",
       "      <td>None</td>\n",
       "      <td>55.48896588188845</td>\n",
       "      <td>56.45080449303804</td>\n",
       "      <td>54.34396471886566</td>\n",
       "      <td>55.28243337438851</td>\n",
       "      <td>53.910175888754274</td>\n",
       "      <td>965055.8694282285</td>\n",
       "      <td>NaN</td>\n",
       "    </tr>\n",
       "    <tr>\n",
       "      <th>2</th>\n",
       "      <td>stddev</td>\n",
       "      <td>None</td>\n",
       "      <td>704.9310020290028</td>\n",
       "      <td>722.5984377721328</td>\n",
       "      <td>673.1269945625096</td>\n",
       "      <td>691.7624293700953</td>\n",
       "      <td>686.7290214997871</td>\n",
       "      <td>3676643.9922751426</td>\n",
       "      <td>NaN</td>\n",
       "    </tr>\n",
       "    <tr>\n",
       "      <th>3</th>\n",
       "      <td>min</td>\n",
       "      <td>2018-01-01</td>\n",
       "      <td>0.003000000026077032</td>\n",
       "      <td>0.0</td>\n",
       "      <td>0.0</td>\n",
       "      <td>0.003000000026077032</td>\n",
       "      <td>0.003000000026077032</td>\n",
       "      <td>0.0</td>\n",
       "      <td>A</td>\n",
       "    </tr>\n",
       "    <tr>\n",
       "      <th>4</th>\n",
       "      <td>max</td>\n",
       "      <td>2018-12-31</td>\n",
       "      <td>999.5</td>\n",
       "      <td>999.5</td>\n",
       "      <td>999.5</td>\n",
       "      <td>9990.0</td>\n",
       "      <td>9998.2626953125</td>\n",
       "      <td>9999500.0</td>\n",
       "      <td>ZYXI</td>\n",
       "    </tr>\n",
       "  </tbody>\n",
       "</table>\n",
       "</div>"
      ],
      "text/plain": [
       "  summary        Date                  Open               High  \\\n",
       "0   count     1311162               1311118            1311118   \n",
       "1    mean        None     55.48896588188845  56.45080449303804   \n",
       "2  stddev        None     704.9310020290028  722.5984377721328   \n",
       "3     min  2018-01-01  0.003000000026077032                0.0   \n",
       "4     max  2018-12-31                 999.5              999.5   \n",
       "\n",
       "                 Low                 Close             Adj Close  \\\n",
       "0            1311118               1311118               1311118   \n",
       "1  54.34396471886566     55.28243337438851    53.910175888754274   \n",
       "2  673.1269945625096     691.7624293700953     686.7290214997871   \n",
       "3                0.0  0.003000000026077032  0.003000000026077032   \n",
       "4              999.5                9990.0       9998.2626953125   \n",
       "\n",
       "               Volume    stock  \n",
       "0             1311118  1311162  \n",
       "1   965055.8694282285      NaN  \n",
       "2  3676643.9922751426      NaN  \n",
       "3                 0.0        A  \n",
       "4           9999500.0     ZYXI  "
      ]
     },
     "execution_count": 40,
     "metadata": {},
     "output_type": "execute_result"
    }
   ],
   "source": [
    "#INSERTED\n",
    "df_1.describe().toPandas()"
   ]
  },
  {
   "cell_type": "markdown",
   "metadata": {},
   "source": [
    "## Update column names\n",
    "To make the data easier to work with, you will need to make a few changes:\n",
    "1. Column headers should all be in lowercase; and\n",
    "2. Whitespaces should be replaced with underscores.\n",
    "\n",
    "\n",
    "> ℹ️ **Instructions** ℹ️\n",
    ">\n",
    ">Make sure that the column headers are all in lowercase and that any whitespaces are replaced with underscores.\n",
    ">\n",
    ">*You may use as many coding cells as necessary.*"
   ]
  },
  {
   "cell_type": "code",
   "execution_count": 41,
   "metadata": {},
   "outputs": [],
   "source": [
    "#TODO: Write your code here\n",
    "for column in df_1.columns:\n",
    "    df_1 = df_1.withColumnRenamed(column, '_'.join(column.split()).lower())"
   ]
  },
  {
   "cell_type": "code",
   "execution_count": 42,
   "metadata": {},
   "outputs": [
    {
     "data": {
      "text/plain": [
       "['date', 'open', 'high', 'low', 'close', 'adj_close', 'volume', 'stock']"
      ]
     },
     "execution_count": 42,
     "metadata": {},
     "output_type": "execute_result"
    }
   ],
   "source": [
    "#INSERTED\n",
    "df_1.columns"
   ]
  },
  {
   "cell_type": "markdown",
   "metadata": {},
   "source": [
    "## Null Values\n",
    "Null values often represent missing pieces of data. It is always good to know where your null values lie - so you can quickly identify and remedy any issues stemming from these.\n",
    "\n",
    "> ℹ️ **Instructions** ℹ️\n",
    ">\n",
    ">Write code to count the number of null values found in each column.\n",
    ">\n",
    ">*You may use as many coding cells as necessary.*"
   ]
  },
  {
   "cell_type": "code",
   "execution_count": 43,
   "metadata": {},
   "outputs": [],
   "source": [
    "#TODO: Write your code here\n",
    "df_1_nVal = df_1.select([F.count(F.when(F.col(c).isNull(), c)).alias(c) for c in df_1.columns])"
   ]
  },
  {
   "cell_type": "code",
   "execution_count": 44,
   "metadata": {},
   "outputs": [
    {
     "name": "stdout",
     "output_type": "stream",
     "text": [
      "+----+----+----+---+-----+---------+------+-----+\n",
      "|date|open|high|low|close|adj_close|volume|stock|\n",
      "+----+----+----+---+-----+---------+------+-----+\n",
      "|   0|  44|  44| 44|   44|       44|    44|    0|\n",
      "+----+----+----+---+-----+---------+------+-----+\n",
      "\n"
     ]
    }
   ],
   "source": [
    "#INSERTED\n",
    "df_1_nVal.show()"
   ]
  },
  {
   "cell_type": "markdown",
   "metadata": {},
   "source": [
    "## Data type conversion - The final data schema\n",
    "\n",
    "Now that we have identified the number of missing values in the data set, we'll move on to convert our data schema to the required data types. \n",
    "\n",
    "> ℹ️ **Instructions** ℹ️\n",
    ">\n",
    ">Use typecasting to convert the string data types in your current data schema to more appropriate data types.\n",
    ">\n",
    ">*You may use as many coding cells as necessary.*"
   ]
  },
  {
   "cell_type": "code",
   "execution_count": 45,
   "metadata": {},
   "outputs": [],
   "source": [
    "#TODO: Write your code here\n",
    "schema = StructType([StructField('date', StringType(), True),\n",
    "                     StructField('open', FloatType(), True),\n",
    "                     StructField('high', FloatType(), True),\n",
    "                     StructField('low', FloatType(), True),\n",
    "                     StructField('close', FloatType(), True),\n",
    "                     StructField('adj_close', FloatType(), True),\n",
    "                     StructField('Volume', FloatType(), True),\n",
    "                     StructField('stock', StringType(), True)])\n",
    "\n",
    "\n",
    "df_2 = spark.read.csv(stocks_data, header=True, schema=schema, multiLine=True)"
   ]
  },
  {
   "cell_type": "code",
   "execution_count": 46,
   "metadata": {},
   "outputs": [
    {
     "name": "stdout",
     "output_type": "stream",
     "text": [
      "+----------+------+------+------+------+---------+---------+-----+\n",
      "|      date|  open|  high|   low| close|adj_close|   Volume|stock|\n",
      "+----------+------+------+------+------+---------+---------+-----+\n",
      "|2018-12-18| 68.45| 69.03| 67.39| 67.99| 67.07753|2112000.0|    A|\n",
      "|2018-12-18| 28.12| 28.66| 28.09| 28.24|    28.24|2107800.0|   AA|\n",
      "|2018-12-18| 32.47| 33.65| 32.47| 33.54| 33.00629|9117600.0|  AAL|\n",
      "|2018-12-18| 41.28|  45.0| 41.28| 41.58|    41.58|   2100.0| AAMC|\n",
      "|2018-12-18|   2.4|  2.42|  2.33|  2.42|2.4007938|   7100.0| AAME|\n",
      "|2018-12-18|  42.0| 43.56| 41.51| 42.95|42.714966|1325200.0|  AAN|\n",
      "|2018-12-18| 17.31| 17.68| 15.14| 15.41|    15.41|1744800.0| AAOI|\n",
      "|2018-12-18| 34.41| 35.34| 34.41| 34.63|34.399197| 147600.0| AAON|\n",
      "|2018-12-18| 160.0|162.89|157.83|158.24|157.49307|1312500.0|  AAP|\n",
      "|2018-12-18|165.38|167.53|164.39|166.07|163.22437|3.38415E7| AAPL|\n",
      "|2018-12-18|  41.0|  41.4| 40.75|  41.1|39.790874| 297000.0|  AAT|\n",
      "|2018-12-18|  0.63|  0.63|   0.6|   0.6|      0.6| 426100.0|  AAU|\n",
      "|2018-12-18| 43.14|  43.5| 41.98| 42.12|    42.12| 441500.0| AAWW|\n",
      "|2018-12-18| 44.44| 45.43| 44.13| 44.46|    44.46| 735100.0| AAXN|\n",
      "|2018-12-18| 25.42| 26.56| 25.42| 25.78|23.258936| 525100.0|   AB|\n",
      "|2018-12-18| 19.54| 19.64| 19.34| 19.41| 17.86005|3064600.0|  ABB|\n",
      "|2018-12-18| 85.46|  85.5|  82.8| 83.58| 76.92056|5288600.0| ABBV|\n",
      "|2018-12-18| 77.46|  78.6| 75.42| 76.24| 74.46778|1327200.0|  ABC|\n",
      "|2018-12-18| 31.61| 32.45| 31.15| 32.16|31.436306|1413600.0| ABCB|\n",
      "|2018-12-18|  7.43|  7.49|  6.86|  7.19|     7.19| 800500.0| ABEO|\n",
      "+----------+------+------+------+------+---------+---------+-----+\n",
      "only showing top 20 rows\n",
      "\n"
     ]
    }
   ],
   "source": [
    "#INSERTED\n",
    "df_2.show()"
   ]
  },
  {
   "cell_type": "code",
   "execution_count": 47,
   "metadata": {},
   "outputs": [],
   "source": [
    "#INSERTED (convert date from string format to time-stamp format)\n",
    "df_2 = df_2.withColumn('date', F.to_timestamp(F.col('date')))"
   ]
  },
  {
   "cell_type": "code",
   "execution_count": 21,
   "metadata": {},
   "outputs": [
    {
     "name": "stdout",
     "output_type": "stream",
     "text": [
      "root\n",
      " |-- date: timestamp (nullable = true)\n",
      " |-- open: float (nullable = true)\n",
      " |-- high: float (nullable = true)\n",
      " |-- low: float (nullable = true)\n",
      " |-- close: float (nullable = true)\n",
      " |-- adj_close: float (nullable = true)\n",
      " |-- Volume: float (nullable = true)\n",
      " |-- stock: string (nullable = true)\n",
      "\n"
     ]
    }
   ],
   "source": [
    "#INSERTED\n",
    "df_2.printSchema()"
   ]
  },
  {
   "cell_type": "markdown",
   "metadata": {},
   "source": [
    "## Consolidate missing values\n",
    "We have to check if the data type conversion above was done correctly.\n",
    "If the casting was not successful, a null value gets inserted into the dataframe. You can thus check for successful conversion by determining if any null values are included in the resulting dataframe.\n",
    "\n",
    "\n",
    "> ℹ️ **Instructions** ℹ️\n",
    ">\n",
    ">Write code to compare the number of invalid entries (nulls) pre-conversion and post-conversion.\n",
    ">\n",
    ">*You may use as many coding cells as necessary.*"
   ]
  },
  {
   "cell_type": "code",
   "execution_count": 22,
   "metadata": {},
   "outputs": [
    {
     "name": "stdout",
     "output_type": "stream",
     "text": [
      "+----+----+----+---+-----+---------+------+-----+\n",
      "|date|open|high|low|close|adj_close|volume|stock|\n",
      "+----+----+----+---+-----+---------+------+-----+\n",
      "|   0|   9|   9|  9|    9|        9|     9|    0|\n",
      "+----+----+----+---+-----+---------+------+-----+\n",
      "\n",
      "+----+----+----+---+-----+---------+------+-----+\n",
      "|date|open|high|low|close|adj_close|Volume|stock|\n",
      "+----+----+----+---+-----+---------+------+-----+\n",
      "|   0|   9|   9|  9|    9|        9|     9|    0|\n",
      "+----+----+----+---+-----+---------+------+-----+\n",
      "\n"
     ]
    }
   ],
   "source": [
    "#TODO: Write your code here\n",
    "df_2_nVal = df_2.select([F.count(F.when(F.col(c).isNull(), c)).alias(c) for c in df_2.columns])\n",
    "\n",
    "df_1_nVal.show()\n",
    "df_2_nVal.show()"
   ]
  },
  {
   "cell_type": "markdown",
   "metadata": {},
   "source": [
    "Here you should be able to see if any of your casts went wrong. \n",
    "Do not attempt to correct any missing values at this point. This will be dealt with in later sections of the predict."
   ]
  },
  {
   "cell_type": "markdown",
   "metadata": {},
   "source": [
    "## Generate parquet files\n",
    "When writing in Spark, we typically use parquet format. This format allows parallel writing using Spark's optimisation while maintaining other useful things like metadata.\n",
    "\n",
    "When writing, it is good to make sure that the data is sufficiently partitioned. \n",
    "\n",
    "Generally, data should be partitioned with one partition for every 200MB of data, but this also depends on the size of your cluster and executors. \n"
   ]
  },
  {
   "cell_type": "markdown",
   "metadata": {},
   "source": [
    "### Check the size of the dataframe before partitioning"
   ]
  },
  {
   "cell_type": "code",
   "execution_count": 23,
   "metadata": {},
   "outputs": [],
   "source": [
    "from pyspark.serializers import PickleSerializer, AutoBatchedSerializer"
   ]
  },
  {
   "cell_type": "code",
   "execution_count": 24,
   "metadata": {},
   "outputs": [
    {
     "name": "stdout",
     "output_type": "stream",
     "text": [
      "The dataframe is 10.745416 MB\n",
      "partitions is 2\n"
     ]
    }
   ],
   "source": [
    "rdd = df.rdd._reserialize(AutoBatchedSerializer(PickleSerializer()))\n",
    "obj = rdd.ctx._jvm.org.apache.spark.mllib.api.python.SerDe.pythonToJava(rdd._jrdd, True)\n",
    "size = sc._jvm.org.apache.spark.util.SizeEstimator.estimate(obj)\n",
    "size_MB = size/1000000\n",
    "partitions = max(int(size_MB/200), 2)\n",
    "print(f'The dataframe is {size_MB} MB')\n",
    "print(f'partitions is {partitions}')"
   ]
  },
  {
   "cell_type": "code",
   "execution_count": 25,
   "metadata": {},
   "outputs": [
    {
     "data": {
      "text/plain": [
       "1"
      ]
     },
     "execution_count": 25,
     "metadata": {},
     "output_type": "execute_result"
    }
   ],
   "source": [
    "rdd.getNumPartitions()"
   ]
  },
  {
   "cell_type": "markdown",
   "metadata": {},
   "source": [
    "### Write parquet files to the local directory\n",
    "> ℹ️ **Instructions** ℹ️\n",
    ">\n",
    "> Use the **coalesce** function and the number of **partitions** derived above to write parquet files to your local directory \n",
    ">\n",
    ">*You may use as many coding cells as necessary.*"
   ]
  },
  {
   "cell_type": "code",
   "execution_count": 26,
   "metadata": {},
   "outputs": [],
   "source": [
    "#TODO: Write your code here\n",
    "df_2.coalesce(partitions).write.parquet('transformed_data_2007')"
   ]
  },
  {
   "cell_type": "code",
   "execution_count": 27,
   "metadata": {},
   "outputs": [],
   "source": [
    "spark.stop()"
   ]
  }
 ],
 "metadata": {
  "celltoolbar": "Raw Cell Format",
  "interpreter": {
   "hash": "24a0a2ddc4dffcb168e507551dd24967ddc40ea2df7a72a200a74e0ae6d88beb"
  },
  "kernelspec": {
   "display_name": "Python 3",
   "language": "python",
   "name": "python3"
  },
  "language_info": {
   "codemirror_mode": {
    "name": "ipython",
    "version": 3
   },
   "file_extension": ".py",
   "mimetype": "text/x-python",
   "name": "python",
   "nbconvert_exporter": "python",
   "pygments_lexer": "ipython3",
   "version": "3.8.5"
  }
 },
 "nbformat": 4,
 "nbformat_minor": 2
}
