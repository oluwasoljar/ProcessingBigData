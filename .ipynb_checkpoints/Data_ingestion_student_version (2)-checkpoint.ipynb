{
 "cells": [
  {
   "cell_type": "markdown",
   "metadata": {},
   "source": [
    "# Processing Big Data - Data Ingestion\n",
    "© Explore Data Science Academy\n",
    "\n",
    "## Honour Code\n",
    "I {**BYRON**, **NEJI**}, confirm - by submitting this document - that the solutions in this notebook are a result of my own work and that I abide by the [EDSA honour code](https://drive.google.com/file/d/1QDCjGZJ8-FmJE3bZdIQNwnJyQKPhHZBn/view?usp=sharing).\n",
    "    Non-compliance with the honour code constitutes a material breach of contract.\n",
    "\n",
    "\n",
    "\n",
    "## Context \n",
    "\n",
    "To work constructively with any dataset, one needs to create an ingestion profile to make sure that the data at the source can be readily consumed. For this section of the predict, as the Data Engineer in the team, you will be required to design and implement the ingestion process. For the purposes of the project the AWS cloud storage service, namely, the S3 bucket service will act as your data source. All the data required can be found [here](https://processing-big-data-predict-stocks-data.s3.eu-west-1.amazonaws.com/stocks.zip).\n",
    "\n",
    "<div align=\"center\" style=\"width: 600px; font-size: 80%; text-align: center; margin: 0 auto\">\n",
    "<img src=\"https://raw.githubusercontent.com/Explore-AI/Pictures/master/data_engineering/transform/predict/DataIngestion.jpg\"\n",
    "     alt=\"Data Ingestion\"\n",
    "     style=\"float: center; padding-bottom=0.5em\"\n",
    "     width=40%/>\n",
    "     <p><em>Figure 1. Data Ingestion</em></p>\n",
    "</div>\n",
    "\n",
    "Your manager, Gnissecorp Atadgib, knowing very well that you've recently completed your Data Engineering qualification, asks you to make use of Apache Spark for the ingestion as well as the rest of the project. His rationale being, that stock market data is generated every day and is quite time-sensitive and would require scalability when deploying to a production environment. \n",
    "\n",
    "## Dataset - US Nasdaq\n",
    "\n",
    "\n",
    "\n",
    "\n",
    "<div align=\"center\" style=\"width: 600px; font-size: 80%; text-align: center; margin: 0 auto\">\n",
    "<img src=\"https://raw.githubusercontent.com/Explore-AI/Pictures/master/data_engineering/transform/predict/Nasdaq.png\"\n",
    "     alt=\"Nasdaq\"\n",
    "     style=\"float: center; padding-bottom=0.5em\"\n",
    "     width=50%/>\n",
    "     <p><em>Figure 2. Nasdaq</em></p>\n",
    "</div>\n",
    "\n",
    "The data that you will be working with is a historical snapshot of market data taken from the Nasdaq electronic market. This dataset contains historical daily prices for all tickers currently trading on Nasdaq. The up-to-date list can be found on their [website](https://www.nasdaq.com/)\n",
    "\n",
    "\n",
    "The provided data contains price data dating back from 02 January 1962 up until 01 April 2020. The data found in the S3 bucket has been stored in the following structure:\n",
    "\n",
    "```\n",
    "     stocks/<Year>/<Month>/<Day>/stocks.csv\n",
    "```\n",
    "Each CSV file for every trading day contains the following details:\n",
    "- **Date** - specifies trading date\n",
    "- **Open** - opening price\n",
    "- **High** - maximum price during the day\n",
    "- **Low** - minimum price during the day\n",
    "- **Close** - close price adjusted for splits\n",
    "- **Adj Close** - close price adjusted for both dividends and splits\n",
    "- **Volume** - the number of shares that changed hands during a given day"
   ]
  },
  {
   "cell_type": "markdown",
   "metadata": {},
   "source": [
    "## Basic initialisation\n",
    "To get you started, let's import some basic Python libraries as well as Spark modules and functions."
   ]
  },
  {
   "cell_type": "code",
   "execution_count": 1,
   "metadata": {},
   "outputs": [],
   "source": [
    "import pandas as pd\n",
    "import numpy as np\n",
    "import matplotlib.pyplot as plt\n",
    "\n",
    "from pyspark import SparkContext\n",
    "from pyspark.sql import SparkSession\n",
    "from pyspark.sql import functions as F\n",
    "from pyspark.sql.types import *\n",
    "from pyspark.sql.functions import *\n"
   ]
  },
  {
   "cell_type": "markdown",
   "metadata": {},
   "source": [
    "Remember that we need a `SparkContext` and `SparkSession` to interface with Spark.\n",
    "We will mostly be using the `SparkContext` to interact with RDDs and the `SparkSession` to interface with Python objects.\n",
    "\n",
    "> ℹ️ **Instructions** ℹ️\n",
    ">\n",
    ">Initialise a new **Spark Context** and **Session** that you will use to interface with Spark."
   ]
  },
  {
   "cell_type": "code",
   "execution_count": 2,
   "metadata": {},
   "outputs": [],
   "source": [
    "#TODO: Write your code here\n",
    "sc = SparkContext()\n",
    "spark = SparkSession(sc)\n",
    "\n",
    "#spark = SparkSession.builder.enableHiveSupport().getOrCreate()\n",
    "#sc = spark.sparkContext"
   ]
  },
  {
   "cell_type": "markdown",
   "metadata": {},
   "source": [
    "## Investigate dataset schema\n",
    "At this point, it is enough to read in a single file to ascertain the data structure. You will be required to use the information obtained from the small subset to create a data schema. This data schema will be used when reading the entire dataset using Spark.\n",
    "\n",
    "> ℹ️ **Instructions** ℹ️\n",
    ">\n",
    ">Make use of Pandas to read in a single file and investigate the plausible data types to be used when creating a Spark data schema. \n",
    ">\n",
    ">*You may use as many coding cells as necessary.*"
   ]
  },
  {
   "cell_type": "code",
   "execution_count": 3,
   "metadata": {},
   "outputs": [
    {
     "name": "stdout",
     "output_type": "stream",
     "text": [
      "+----------+------------------+------------------+------------------+------------------+-------------------+--------+-----+\n",
      "|      Date|              Open|              High|               Low|             Close|          Adj Close|  Volume|stock|\n",
      "+----------+------------------+------------------+------------------+------------------+-------------------+--------+-----+\n",
      "|1962-01-02|6.5321550369262695| 6.556184768676758|6.5321550369262695|6.5321550369262695| 1.5366575717926023| 55900.0|   AA|\n",
      "|1962-01-02| 6.125843524932861| 6.160982131958008| 6.125843524932861| 6.125843524932861| 1.4146506786346436| 59700.0| ARNC|\n",
      "|1962-01-02|0.8374485373497009|0.8374485373497009|0.8230452537536621|0.8230452537536621| 0.1457476019859314|352200.0|   BA|\n",
      "|1962-01-02|1.6041666269302368|1.6197916269302368|1.5885416269302368|1.6041666269302368|0.13695742189884186|163200.0|  CAT|\n",
      "|1962-01-02|               0.0|3.2961308956146236|3.2440476417541504|3.2961308956146236| 0.0519925132393837|105600.0|  CVX|\n",
      "+----------+------------------+------------------+------------------+------------------+-------------------+--------+-----+\n",
      "only showing top 5 rows\n",
      "\n"
     ]
    }
   ],
   "source": [
    "#TODO: Write your code here\n",
    "df = spark.read.csv('stocks/stocks/1962/01/02/stocks.csv', header=True)\n",
    "\n",
    "df.show(5)"
   ]
  },
  {
   "cell_type": "code",
   "execution_count": 47,
   "metadata": {},
   "outputs": [
    {
     "name": "stdout",
     "output_type": "stream",
     "text": [
      "root\n",
      " |-- Date: string (nullable = true)\n",
      " |-- Open: string (nullable = true)\n",
      " |-- High: string (nullable = true)\n",
      " |-- Low: string (nullable = true)\n",
      " |-- Close: string (nullable = true)\n",
      " |-- Adj Close: string (nullable = true)\n",
      " |-- Volume: string (nullable = true)\n",
      " |-- stock: string (nullable = true)\n",
      "\n"
     ]
    }
   ],
   "source": [
    "df.printSchema()"
   ]
  },
  {
   "cell_type": "markdown",
   "metadata": {},
   "source": [
    "## Read CSV files\n",
    "\n",
    "When working with big data, it is often not tenable to keep processing an entire data batch when you are in the process of development - this can be quite time-consuming. If the data is uniform, it is sufficient to work with a smaller subset to create basic functionality. Your manager has identified the year **1962** to perform the initial testing for data ingestion. \n",
    "\n",
    "> ℹ️ **Instructions** ℹ️\n",
    ">\n",
    ">Read in the data for **1962** using a data schema that purely uses string data types. You will be required to convert to the appropriate data types at a later stage.\n",
    ">\n",
    ">*You may use as many coding cells as necessary.*"
   ]
  },
  {
   "cell_type": "code",
   "execution_count": 5,
   "metadata": {},
   "outputs": [],
   "source": [
    "import os\n",
    "\n",
    "\n",
    "stocks_data = []\n",
    "parent_dir = r'stocks/stocks/1962/'\n",
    "for subdir, dirs, files in os.walk(parent_dir):\n",
    "    for file in files:\n",
    "        if file.endswith(\".csv\"):\n",
    "            stocks_data.append(os.path.join(subdir, file))\n",
    "           \n",
    "        else:\n",
    "            continue\n",
    "            \n",
    "#df_spark = spark.read.csv(\"stocks/stocks/1962/*/*/*\", header=True)            "
   ]
  },
  {
   "cell_type": "code",
   "execution_count": 6,
   "metadata": {},
   "outputs": [],
   "source": [
    "#TODO: Write your code here\n",
    "\n",
    "\n",
    "df_1 = spark.read \\\n",
    "     .format('csv') \\\n",
    "     .option('header',True) \\\n",
    "     .load(stocks_data)"
   ]
  },
  {
   "cell_type": "code",
   "execution_count": 7,
   "metadata": {
    "scrolled": true
   },
   "outputs": [
    {
     "data": {
      "text/html": [
       "<div>\n",
       "<style scoped>\n",
       "    .dataframe tbody tr th:only-of-type {\n",
       "        vertical-align: middle;\n",
       "    }\n",
       "\n",
       "    .dataframe tbody tr th {\n",
       "        vertical-align: top;\n",
       "    }\n",
       "\n",
       "    .dataframe thead th {\n",
       "        text-align: right;\n",
       "    }\n",
       "</style>\n",
       "<table border=\"1\" class=\"dataframe\">\n",
       "  <thead>\n",
       "    <tr style=\"text-align: right;\">\n",
       "      <th></th>\n",
       "      <th>summary</th>\n",
       "      <th>Date</th>\n",
       "      <th>Open</th>\n",
       "      <th>High</th>\n",
       "      <th>Low</th>\n",
       "      <th>Close</th>\n",
       "      <th>Adj Close</th>\n",
       "      <th>Volume</th>\n",
       "      <th>stock</th>\n",
       "    </tr>\n",
       "  </thead>\n",
       "  <tbody>\n",
       "    <tr>\n",
       "      <th>0</th>\n",
       "      <td>count</td>\n",
       "      <td>5106</td>\n",
       "      <td>5106</td>\n",
       "      <td>5106</td>\n",
       "      <td>5084</td>\n",
       "      <td>5106</td>\n",
       "      <td>5106</td>\n",
       "      <td>5085</td>\n",
       "      <td>5106</td>\n",
       "    </tr>\n",
       "    <tr>\n",
       "      <th>1</th>\n",
       "      <td>mean</td>\n",
       "      <td>None</td>\n",
       "      <td>1.0904873526012002</td>\n",
       "      <td>16.757624946793637</td>\n",
       "      <td>15.728619917198033</td>\n",
       "      <td>16.64199179044607</td>\n",
       "      <td>5.986642513535306</td>\n",
       "      <td>540930.2458210423</td>\n",
       "      <td>None</td>\n",
       "    </tr>\n",
       "    <tr>\n",
       "      <th>2</th>\n",
       "      <td>stddev</td>\n",
       "      <td>None</td>\n",
       "      <td>2.3644535253049095</td>\n",
       "      <td>53.91407348193544</td>\n",
       "      <td>51.322922898144</td>\n",
       "      <td>53.546771399008016</td>\n",
       "      <td>24.64637054715319</td>\n",
       "      <td>864596.2440525509</td>\n",
       "      <td>None</td>\n",
       "    </tr>\n",
       "    <tr>\n",
       "      <th>3</th>\n",
       "      <td>min</td>\n",
       "      <td>1962-01-02</td>\n",
       "      <td>0.0</td>\n",
       "      <td>0.0</td>\n",
       "      <td>-0.040435523172560696F44</td>\n",
       "      <td>0.053624976426362984</td>\n",
       "      <td>-0.04100876298375362F22</td>\n",
       "      <td>0.0</td>\n",
       "      <td>AA</td>\n",
       "    </tr>\n",
       "    <tr>\n",
       "      <th>4</th>\n",
       "      <td>max</td>\n",
       "      <td>1962-12-31</td>\n",
       "      <td>7.7133331298828125</td>\n",
       "      <td>9.984375</td>\n",
       "      <td>9.96875</td>\n",
       "      <td>9.984375</td>\n",
       "      <td>7.029978519312864e-07</td>\n",
       "      <td>998400.0</td>\n",
       "      <td>XOM</td>\n",
       "    </tr>\n",
       "  </tbody>\n",
       "</table>\n",
       "</div>"
      ],
      "text/plain": [
       "  summary        Date                Open                High  \\\n",
       "0   count        5106                5106                5106   \n",
       "1    mean        None  1.0904873526012002  16.757624946793637   \n",
       "2  stddev        None  2.3644535253049095   53.91407348193544   \n",
       "3     min  1962-01-02                 0.0                 0.0   \n",
       "4     max  1962-12-31  7.7133331298828125            9.984375   \n",
       "\n",
       "                        Low                 Close                Adj Close  \\\n",
       "0                      5084                  5106                     5106   \n",
       "1        15.728619917198033     16.64199179044607        5.986642513535306   \n",
       "2           51.322922898144    53.546771399008016        24.64637054715319   \n",
       "3  -0.040435523172560696F44  0.053624976426362984  -0.04100876298375362F22   \n",
       "4                   9.96875              9.984375    7.029978519312864e-07   \n",
       "\n",
       "              Volume stock  \n",
       "0               5085  5106  \n",
       "1  540930.2458210423  None  \n",
       "2  864596.2440525509  None  \n",
       "3                0.0    AA  \n",
       "4           998400.0   XOM  "
      ]
     },
     "execution_count": 7,
     "metadata": {},
     "output_type": "execute_result"
    }
   ],
   "source": [
    "df_1.describe().toPandas()"
   ]
  },
  {
   "cell_type": "markdown",
   "metadata": {},
   "source": [
    "## Update column names\n",
    "To make the data easier to work with, you will need to make a few changes:\n",
    "1. Column headers should all be in lowercase; and\n",
    "2. Whitespaces should be replaced with underscores.\n",
    "\n",
    "\n",
    "> ℹ️ **Instructions** ℹ️\n",
    ">\n",
    ">Make sure that the column headers are all in lowercase and that any whitespaces are replaced with underscores.\n",
    ">\n",
    ">*You may use as many coding cells as necessary.*"
   ]
  },
  {
   "cell_type": "code",
   "execution_count": 8,
   "metadata": {},
   "outputs": [
    {
     "data": {
      "text/plain": [
       "['date', 'open', 'high', 'low', 'close', 'adj_close', 'volume', 'stock']"
      ]
     },
     "execution_count": 8,
     "metadata": {},
     "output_type": "execute_result"
    }
   ],
   "source": [
    "#TODO: Write your code here\n",
    "for column in df_1.columns:\n",
    "    df_1 = df_1.withColumnRenamed(column, '_'.join(column.split()).lower())\n",
    "df_1.columns"
   ]
  },
  {
   "cell_type": "markdown",
   "metadata": {},
   "source": [
    "## Null Values\n",
    "Null values often represent missing pieces of data. It is always good to know where your null values lie - so you can quickly identify and remedy any issues stemming from these.\n",
    "\n",
    "> ℹ️ **Instructions** ℹ️\n",
    ">\n",
    ">Write code to count the number of null values found in each column.\n",
    ">\n",
    ">*You may use as many coding cells as necessary.*"
   ]
  },
  {
   "cell_type": "code",
   "execution_count": 9,
   "metadata": {},
   "outputs": [],
   "source": [
    "#TODO: Write your code here\n",
    "#fd_count = df_1.select([count(when(col(c).isNull(),c)).alias(c) for c in df_1.columns])\n",
    "\n",
    "df_1_null = df_1.select([F.count(F.when(F.col(c).contains('None') |\\\n",
    "\t\tF.col(c).contains('NULL') | \\\n",
    "\t\t(F.col(c)== '') | \\\n",
    "\t\tF.col(c).isNull(),c)).alias(c) for c in df_1.columns])\n",
    "\n"
   ]
  },
  {
   "cell_type": "code",
   "execution_count": 10,
   "metadata": {},
   "outputs": [
    {
     "name": "stdout",
     "output_type": "stream",
     "text": [
      "+----+----+----+---+-----+---------+------+-----+\n",
      "|date|open|high|low|close|adj_close|volume|stock|\n",
      "+----+----+----+---+-----+---------+------+-----+\n",
      "|   0|   0|   0| 22|    0|        0|    21|    0|\n",
      "+----+----+----+---+-----+---------+------+-----+\n",
      "\n"
     ]
    }
   ],
   "source": [
    "df_1_null.show()"
   ]
  },
  {
   "cell_type": "markdown",
   "metadata": {},
   "source": [
    "## Data type conversion - The final data schema\n",
    "\n",
    "Now that we have identified the number of missing values in the data set, we'll move on to convert our data schema to the required data types. \n",
    "\n",
    "> ℹ️ **Instructions** ℹ️\n",
    ">\n",
    ">Use typecasting to convert the string data types in your current data schema to more appropriate data types.\n",
    ">\n",
    ">*You may use as many coding cells as necessary.*"
   ]
  },
  {
   "cell_type": "code",
   "execution_count": 11,
   "metadata": {},
   "outputs": [
    {
     "name": "stdout",
     "output_type": "stream",
     "text": [
      "+----------+-----------------+-----------------+-----------------+-----------------+------------------+-------+-----+\n",
      "|      date|             open|             high|              low|            close|         adj_close| volume|stock|\n",
      "+----------+-----------------+-----------------+-----------------+-----------------+------------------+-------+-----+\n",
      "|1962-02-19|5.839290142059326|5.907374858856201|5.839290142059326|5.863319873809815|1.3863292932510376|29900.0|   AA|\n",
      "+----------+-----------------+-----------------+-----------------+-----------------+------------------+-------+-----+\n",
      "only showing top 1 row\n",
      "\n"
     ]
    }
   ],
   "source": [
    "df_1.show(1)"
   ]
  },
  {
   "cell_type": "code",
   "execution_count": 41,
   "metadata": {},
   "outputs": [],
   "source": [
    "#TODO: Write your code here\n",
    "schema = StructType([StructField('date', StringType(), True),\n",
    "                     StructField('open', FloatType(), True),\n",
    "                     StructField('high', FloatType(), True),\n",
    "                     StructField('low', FloatType(), True),\n",
    "                     StructField('close', FloatType(), True),\n",
    "                     StructField('adj_close', FloatType(), True),\n",
    "                     StructField('Volume', FloatType(), True),\n",
    "                     StructField('stock', StringType(), True)])\n",
    "\n",
    "#df = spark.createDataFrame(df_1, schema=schema)\n",
    "\n",
    "df_2 = spark.read.csv(stocks_data, header=True, schema=schema, multiLine=True)"
   ]
  },
  {
   "cell_type": "code",
   "execution_count": 42,
   "metadata": {},
   "outputs": [],
   "source": [
    "df_2 = df_2.withColumn('date', F.to_timestamp(F.col('date')))"
   ]
  },
  {
   "cell_type": "code",
   "execution_count": 45,
   "metadata": {},
   "outputs": [
    {
     "name": "stdout",
     "output_type": "stream",
     "text": [
      "root\n",
      " |-- date: timestamp (nullable = true)\n",
      " |-- open: float (nullable = true)\n",
      " |-- high: float (nullable = true)\n",
      " |-- low: float (nullable = true)\n",
      " |-- close: float (nullable = true)\n",
      " |-- adj_close: float (nullable = true)\n",
      " |-- Volume: float (nullable = true)\n",
      " |-- stock: string (nullable = true)\n",
      "\n"
     ]
    }
   ],
   "source": [
    "df_2.printSchema()"
   ]
  },
  {
   "cell_type": "code",
   "execution_count": 108,
   "metadata": {},
   "outputs": [],
   "source": [
    "#df_2 = df_2.withColumn('date', F.to_timestamp(F.col('date'), format=\"yyy-MM-dd HH:mm\"))"
   ]
  },
  {
   "cell_type": "code",
   "execution_count": 14,
   "metadata": {},
   "outputs": [
    {
     "name": "stdout",
     "output_type": "stream",
     "text": [
      "+----------+---------+----------+----------+---------+----------+--------+-----+\n",
      "|      date|     open|      high|       low|    close| adj_close|  Volume|stock|\n",
      "+----------+---------+----------+----------+---------+----------+--------+-----+\n",
      "|1962-02-19|  5.83929|  5.907375|   5.83929|  5.86332| 1.3863293| 29900.0|   AA|\n",
      "|1962-02-19| 5.481634|  5.528486|  5.481634|5.5167727| 1.2804527| 32000.0| ARNC|\n",
      "|1962-02-19|0.9074074|0.91563785|0.89917696|0.9032922|0.16141544|619400.0|   BA|\n",
      "+----------+---------+----------+----------+---------+----------+--------+-----+\n",
      "only showing top 3 rows\n",
      "\n"
     ]
    }
   ],
   "source": [
    "df_2.show(3)"
   ]
  },
  {
   "cell_type": "code",
   "execution_count": 15,
   "metadata": {},
   "outputs": [
    {
     "data": {
      "text/plain": [
       "StructType([StructField('date', StringType(), True), StructField('open', FloatType(), True), StructField('high', FloatType(), True), StructField('low', FloatType(), True), StructField('close', FloatType(), True), StructField('adj_close', FloatType(), True), StructField('Volume', FloatType(), True), StructField('stock', StringType(), True)])"
      ]
     },
     "execution_count": 15,
     "metadata": {},
     "output_type": "execute_result"
    }
   ],
   "source": [
    "df_2.schema"
   ]
  },
  {
   "cell_type": "code",
   "execution_count": 16,
   "metadata": {},
   "outputs": [
    {
     "data": {
      "text/plain": [
       "StructType([StructField('date', StringType(), True), StructField('open', StringType(), True), StructField('high', StringType(), True), StructField('low', StringType(), True), StructField('close', StringType(), True), StructField('adj_close', StringType(), True), StructField('volume', StringType(), True), StructField('stock', StringType(), True)])"
      ]
     },
     "execution_count": 16,
     "metadata": {},
     "output_type": "execute_result"
    }
   ],
   "source": [
    "df_1.schema"
   ]
  },
  {
   "cell_type": "markdown",
   "metadata": {},
   "source": [
    "## Consolidate missing values\n",
    "We have to check if the data type conversion above was done correctly.\n",
    "If the casting was not successful, a null value gets inserted into the dataframe. You can thus check for successful conversion by determining if any null values are included in the resulting dataframe.\n",
    "\n",
    "\n",
    "> ℹ️ **Instructions** ℹ️\n",
    ">\n",
    ">Write code to compare the number of invalid entries (nulls) pre-conversion and post-conversion.\n",
    ">\n",
    ">*You may use as many coding cells as necessary.*"
   ]
  },
  {
   "cell_type": "code",
   "execution_count": 46,
   "metadata": {},
   "outputs": [
    {
     "name": "stdout",
     "output_type": "stream",
     "text": [
      "+----+----+----+---+-----+---------+------+-----+\n",
      "|date|open|high|low|close|adj_close|volume|stock|\n",
      "+----+----+----+---+-----+---------+------+-----+\n",
      "|   0|   0|   0| 22|    0|        0|    21|    0|\n",
      "+----+----+----+---+-----+---------+------+-----+\n",
      "\n",
      "+----+----+----+---+-----+---------+------+-----+\n",
      "|date|open|high|low|close|adj_close|Volume|stock|\n",
      "+----+----+----+---+-----+---------+------+-----+\n",
      "|   0|   0|   0| 42|    0|       21|    21|    0|\n",
      "+----+----+----+---+-----+---------+------+-----+\n",
      "\n"
     ]
    }
   ],
   "source": [
    "#TODO: Write your code here\n",
    "\n",
    "df_2_null = df_2.select([F.count(F.when(F.col(c).contains('None') |\\\n",
    "\t\tF.col(c).contains('NULL') | \\\n",
    "\t\t(F.col(c)== '') | \\\n",
    "\t\tF.col(c).isNull(),c)).alias(c) for c in df_2.columns])\n",
    "\n",
    "df_1_null.show()\n",
    "df_2_null.show()"
   ]
  },
  {
   "cell_type": "markdown",
   "metadata": {},
   "source": [
    "Here you should be able to see if any of your casts went wrong. \n",
    "Do not attempt to correct any missing values at this point. This will be dealt with in later sections of the predict."
   ]
  },
  {
   "cell_type": "markdown",
   "metadata": {},
   "source": [
    "## Generate parquet files\n",
    "When writing in Spark, we typically use parquet format. This format allows parallel writing using Spark's optimisation while maintaining other useful things like metadata.\n",
    "\n",
    "When writing, it is good to make sure that the data is sufficiently partitioned. \n",
    "\n",
    "Generally, data should be partitioned with one partition for every 200MB of data, but this also depends on the size of your cluster and executors. \n"
   ]
  },
  {
   "cell_type": "markdown",
   "metadata": {},
   "source": [
    "### Check the size of the dataframe before partitioning"
   ]
  },
  {
   "cell_type": "code",
   "execution_count": 18,
   "metadata": {},
   "outputs": [],
   "source": [
    "from pyspark.serializers import PickleSerializer, AutoBatchedSerializer"
   ]
  },
  {
   "cell_type": "code",
   "execution_count": 38,
   "metadata": {
    "scrolled": true
   },
   "outputs": [
    {
     "name": "stdout",
     "output_type": "stream",
     "text": [
      "The dataframe is 9.92568 MB\n",
      "partitions is 2\n"
     ]
    }
   ],
   "source": [
    "rdd = df_2.rdd._reserialize(AutoBatchedSerializer(PickleSerializer()))\n",
    "obj = rdd.ctx._jvm.org.apache.spark.mllib.api.python.SerDe.pythonToJava(rdd._jrdd, True)\n",
    "size = sc._jvm.org.apache.spark.util.SizeEstimator.estimate(obj)\n",
    "size_MB = size/1000000\n",
    "#partitions = max(int(size_MB/200), 2)\n",
    "calcPart = int(size_MB/200)\n",
    "partitions = calcPart+2 if calcPart == 0 else calcPart\n",
    "print(f'The dataframe is {size_MB} MB')\n",
    "print(f'partitions is {partitions}')"
   ]
  },
  {
   "cell_type": "code",
   "execution_count": 23,
   "metadata": {},
   "outputs": [
    {
     "data": {
      "text/plain": [
       "8"
      ]
     },
     "execution_count": 23,
     "metadata": {},
     "output_type": "execute_result"
    }
   ],
   "source": [
    "rdd.getNumPartitions()"
   ]
  },
  {
   "cell_type": "markdown",
   "metadata": {},
   "source": [
    "### Write parquet files to the local directory\n",
    "> ℹ️ **Instructions** ℹ️\n",
    ">\n",
    "> Use the **coalesce** function and the number of **partitions** derived above to write parquet files to your local directory \n",
    ">\n",
    ">*You may use as many coding cells as necessary.*"
   ]
  },
  {
   "cell_type": "code",
   "execution_count": 35,
   "metadata": {},
   "outputs": [],
   "source": [
    "#TODO: Write your code here\n",
    "#df_2.write.parquet(\"./stocks/stocks/1962/transformed_data\")\n",
    "df_2.coalesce(partitions).write.format(\"parquet\").mode(\"append\").save(\"transformed_data\")"
   ]
  },
  {
   "cell_type": "code",
   "execution_count": null,
   "metadata": {},
   "outputs": [],
   "source": []
  }
 ],
 "metadata": {
  "celltoolbar": "Raw Cell Format",
  "interpreter": {
   "hash": "24a0a2ddc4dffcb168e507551dd24967ddc40ea2df7a72a200a74e0ae6d88beb"
  },
  "kernelspec": {
   "display_name": "Python 3",
   "language": "python",
   "name": "python3"
  },
  "language_info": {
   "codemirror_mode": {
    "name": "ipython",
    "version": 3
   },
   "file_extension": ".py",
   "mimetype": "text/x-python",
   "name": "python",
   "nbconvert_exporter": "python",
   "pygments_lexer": "ipython3",
   "version": "3.8.5"
  }
 },
 "nbformat": 4,
 "nbformat_minor": 2
}
